{
 "cells": [
  {
   "cell_type": "code",
   "execution_count": 1,
   "metadata": {},
   "outputs": [],
   "source": [
    "inp = open('popular-names.txt', 'r').read()"
   ]
  },
  {
   "cell_type": "code",
   "execution_count": 2,
   "metadata": {},
   "outputs": [
    {
     "name": "stdout",
     "output_type": "stream",
     "text": [
      "2780\n",
      "    2780   11120   55026 popular-names.txt\n"
     ]
    }
   ],
   "source": [
    "# 10. Line count\n",
    "\n",
    "lines = inp.split('\\n')\n",
    "lines.pop(-1) # pop empty line\n",
    "print(len(lines)) # 2780\n",
    "!wc popular-names.txt"
   ]
  },
  {
   "cell_type": "code",
   "execution_count": 4,
   "metadata": {},
   "outputs": [
    {
     "name": "stdout",
     "output_type": "stream",
     "text": [
      "Mary F 7065 1880\n",
      "Anna F 2604 1880\n",
      "Emma F 2003 1880\n",
      "Elizabeth F 1939 1880\n",
      "Minnie F 1746 1880\n"
     ]
    }
   ],
   "source": [
    "# 11. Replace tabs into spaces\n",
    "\n",
    "for i in range(len(lines)):\n",
    "    lines[i] = lines[i].replace(\"\\t\", \" \")\n",
    "\n",
    "print(\"\\n\".join(lines[:5]))"
   ]
  },
  {
   "cell_type": "code",
   "execution_count": 5,
   "metadata": {},
   "outputs": [],
   "source": [
    "%%bash\n",
    "#Use cmd line\n",
    "sed 's/\\t/ /g' popular-names.txt > Output/tabReplacementUsingSedCmd.txt\n",
    "tr '\\t' ' ' <popular-names.txt> Output/tabReplacementUsingTrCmd.txt\n",
    "expand -t 1 popular-names.txt > Output/tabReplacementUsingExpandCmd.txt\n",
    "\n",
    "#Compare results\n",
    "cd Output\n",
    "diff tabReplacementUsingSedCmd.txt tabReplacementUsingTrCmd.txt\n",
    "diff tabReplacementUsingTrCmd.txt tabReplacementUsingExpandCmd.txt\n",
    "cd ..\n"
   ]
  },
  {
   "cell_type": "code",
   "execution_count": 6,
   "metadata": {},
   "outputs": [],
   "source": [
    "# 12. col1.txt from the first column, col2.txt from the second column\n",
    "col1 = []\n",
    "col2 = []\n",
    "for line in lines:\n",
    "    content = line.split()\n",
    "    col1.append(content[0])\n",
    "    col2.append(content[1])\n",
    "\n",
    "with open(\"Output/col1.txt\", \"w\") as f:\n",
    "    f.write(\"\\n\".join(col1))\n",
    "with open(\"Output/col2.txt\", \"w\") as f:\n",
    "    f.write(\"\\n\".join(col2))\n",
    "\n",
    "# Cut command\n",
    "!cut -f 1 popular-names.txt > Output/col1UsingCutCmd.txt\n",
    "\n",
    "# diff col1.txt col1UsingCutCmd.txt\n",
    "# 2780c2780\n",
    "# < Logan\n",
    "# \\ No newline at end of file\n",
    "# ---\n",
    "# > Logan"
   ]
  },
  {
   "cell_type": "code",
   "execution_count": 7,
   "metadata": {},
   "outputs": [],
   "source": [
    "# 13. Merging col1.txt and col2.txt\n",
    "\n",
    "with open('Output/col1.txt', 'r') as col1, \\\n",
    "    open('Output/col2.txt', 'r') as col2, \\\n",
    "    open('Output/merged.txt', 'w') as merged:\n",
    "    merged.writelines(\"\\n\".join(line[0].strip(\"\\n\")+\"\\t\"+line[1].strip(\"\\n\")\\\n",
    "                                for line in zip(col1.readlines(), col2.readlines())))\n",
    "\n",
    "!paste Output/col1.txt Output/col2.txt > Output/mergeUsingPasteCmd.txt"
   ]
  },
  {
   "cell_type": "code",
   "execution_count": 13,
   "metadata": {
    "slideshow": {
     "slide_type": "slide"
    }
   },
   "outputs": [],
   "source": [
    "# 14. First N lines\n",
    "!python3 Python\\ Programs/e14.py 5\n",
    "!head -n 5 popular-names.txt > Output/firstNLinesUsingHeadCmd.txt\n",
    "!diff Output/firstNLinesUsingHeadCmd.txt Output/firstNLines.txt"
   ]
  },
  {
   "cell_type": "code",
   "execution_count": 14,
   "metadata": {},
   "outputs": [],
   "source": [
    "# 15. Last N lines\n",
    "!python3 Python\\ Programs/e15.py 5\n",
    "!tail -n 5 popular-names.txt > Output/lastNLinesUsingHeadCmd.txt\n",
    "!diff Output/lastNLines.txt Output/lastNLinesUsingHeadCmd.txt\n"
   ]
  },
  {
   "cell_type": "code",
   "execution_count": 15,
   "metadata": {},
   "outputs": [],
   "source": [
    "# 16. Split a file into N pieces\n",
    "!python3 Python\\ Programs/e17.py 10\n",
    "!split -l 278 popular-names.txt Output/splitOutUsingCmd_"
   ]
  },
  {
   "cell_type": "code",
   "execution_count": 17,
   "metadata": {},
   "outputs": [
    {
     "name": "stdout",
     "output_type": "stream",
     "text": [
      "136c136\n",
      "< William\n",
      "\\ No newline at end of file\n",
      "---\n",
      "> William\n"
     ]
    }
   ],
   "source": [
    "# 17. Distinct strings in the first column\n",
    "with open('Output/FirstColStringsSet.txt', 'w') as out:\n",
    "    StrSet = set(line.split()[0] for line in lines)\n",
    "    out.writelines(\"\\n\".join(sorted(StrSet)))\n",
    "\n",
    "!cut -f1 popular-names.txt | sort | uniq > Output/FirstColStringsSetUsingCmds.txt\n",
    "!diff Output/FirstColStringsSet.txt Output/FirstColStringsSetUsingCmds.txt"
   ]
  },
  {
   "cell_type": "code",
   "execution_count": 18,
   "metadata": {},
   "outputs": [
    {
     "name": "stdout",
     "output_type": "stream",
     "text": [
      "2780c2780\n",
      "< Sarah\tF\t1288\t1880\n",
      "\\ No newline at end of file\n",
      "---\n",
      "> Sarah\tF\t1288\t1880\n"
     ]
    }
   ],
   "source": [
    "# 18. Sort lines in descending order of the third column\n",
    "data = [line.split() for line in lines]\n",
    "sortedData = sorted(sorted(data, key=lambda x: x[0], reverse=False), key=lambda x: int(x[2]), reverse=True)\n",
    "# print(sortedData[:5])\n",
    "with open('Output/sortedBy3rdCol.txt', 'w') as out:\n",
    "    out.writelines(\"\\n\".join([\"\\t\".join(dat) for dat in sortedData]))\n",
    "\n",
    "!sort -k3nr popular-names.txt > Output/sortedBy3rdColUsingSortCmd.txt # Sorting order: 3rd col -> 1st col\n",
    "!diff Output/sortedBy3rdCol.txt Output/sortedBy3rdColUsingSortCmd.txt  "
   ]
  },
  {
   "cell_type": "code",
   "execution_count": 19,
   "metadata": {},
   "outputs": [
    {
     "name": "stdout",
     "output_type": "stream",
     "text": [
      "136c136\n",
      "< Carolyn\n",
      "\\ No newline at end of file\n",
      "---\n",
      "> Carolyn\n"
     ]
    }
   ],
   "source": [
    "# 19. Frequency of a string in the first column in descending order\n",
    "\n",
    "counts = {}\n",
    "\n",
    "for line in lines:\n",
    "    s = line.split()[0]\n",
    "    counts[s] = counts.get(s, 0) + 1\n",
    "# print(counts)\n",
    "sortedStrings = sorted(sorted(counts.keys(), reverse=True), key=lambda x: counts[x], reverse=True)\n",
    "# print(sortedStrings)\n",
    "with open('Output/sortedFirstWords.txt', 'w') as out:\n",
    "    out.writelines(\"\\n\".join(sortedStrings))\n",
    "\n",
    "!cut -f1 popular-names.txt | sort | uniq -c | sort -nr > Output/tmp\n",
    "!cut -c 6- Output/tmp > Output/sortedFirstWordsUsingCmds.txt & rm Output/tmp\n",
    "!diff Output/sortedFirstWords.txt Output/sortedFirstWordsUsingCmds.txt"
   ]
  }
 ],
 "metadata": {
  "kernelspec": {
   "display_name": "Python 3",
   "language": "python",
   "name": "python3"
  },
  "language_info": {
   "codemirror_mode": {
    "name": "ipython",
    "version": 3
   },
   "file_extension": ".py",
   "mimetype": "text/x-python",
   "name": "python",
   "nbconvert_exporter": "python",
   "pygments_lexer": "ipython3",
   "version": "3.9.2"
  },
  "orig_nbformat": 4
 },
 "nbformat": 4,
 "nbformat_minor": 2
}
