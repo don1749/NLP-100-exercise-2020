{
 "cells": [
  {
   "cell_type": "markdown",
   "metadata": {},
   "source": [
    "# 前半"
   ]
  },
  {
   "cell_type": "code",
   "execution_count": 2,
   "metadata": {},
   "outputs": [
    {
     "name": "stdout",
     "output_type": "stream",
     "text": [
      "学習データ\n",
      "b    4502\n",
      "e    4223\n",
      "t    1219\n",
      "m     728\n",
      "Name: CATEGORY, dtype: int64\n",
      "検証データ\n",
      "b    562\n",
      "e    528\n",
      "t    153\n",
      "m     91\n",
      "Name: CATEGORY, dtype: int64\n",
      "評価データ\n",
      "b    563\n",
      "e    528\n",
      "t    152\n",
      "m     91\n",
      "Name: CATEGORY, dtype: int64\n"
     ]
    }
   ],
   "source": [
    "from gensim.models import KeyedVectors\n",
    "\n",
    "file = '../CH7 Word-embedding/GoogleNews-vectors-negative300.bin.gz'\n",
    "model = KeyedVectors.load_word2vec_format(file, binary=True)\n",
    "\n",
    "# データのロード\n",
    "import pandas as pd\n",
    "import re\n",
    "import numpy as np\n",
    "\n",
    "# ファイル読み込み\n",
    "file = '../CH6 Machine-learning/newsCorpora.csv'\n",
    "data = pd.read_csv(file, encoding='utf-8', header=None, sep='\\t', names=['ID', 'TITLE', 'URL', 'PUBLISHER', 'CATEGORY', 'STORY', 'HOSTNAME', 'TIMESTAMP'])\n",
    "data = data.replace('\"', \"'\")\n",
    "# 特定のpublisherのみ抽出\n",
    "publishers = ['Reuters', 'Huffington Post', 'Businessweek', 'Contactmusic.com', 'Daily Mail']\n",
    "data = data.loc[data['PUBLISHER'].isin(publishers), ['TITLE', 'CATEGORY']].reset_index(drop=True)\n",
    "\n",
    "# 学習用、検証用、評価用に分割する\n",
    "from sklearn.model_selection import train_test_split\n",
    "\n",
    "train, valid_test = train_test_split(data, test_size=0.2, shuffle=True, random_state=64, stratify=data['CATEGORY'])\n",
    "valid, test = train_test_split(valid_test, test_size=0.5, shuffle=True, random_state=64, stratify=valid_test['CATEGORY'])\n",
    "\n",
    "train = train.reset_index(drop=True)\n",
    "valid = valid.reset_index(drop=True)\n",
    "test = test.reset_index(drop=True)\n",
    "\n",
    "# データ数の確認\n",
    "print('学習データ')\n",
    "print(train['CATEGORY'].value_counts())\n",
    "print('検証データ')\n",
    "print(valid['CATEGORY'].value_counts())\n",
    "print('評価データ')\n",
    "print(test['CATEGORY'].value_counts())\n",
    "\n",
    "import re\n",
    "\n",
    "# データの結合\n",
    "df = pd.concat([train, valid, test], axis=0).reset_index(drop=True)\n",
    "\n",
    "# 前処理\n",
    "def preprocessing(text):\n",
    "    text_clean = re.sub(r'[\\\"\\'.,:;\\(\\)#\\|\\*\\+\\!\\?#$%&/\\]\\[\\{\\}]', '', text)\n",
    "    text_clean = re.sub('[0-9]+', '0', text_clean)\n",
    "    text_clean = re.sub('\\s-\\s', ' ', text_clean)\n",
    "    return text_clean\n",
    "\n",
    "df['TITLE'] = df['TITLE'].apply(preprocessing)"
   ]
  },
  {
   "cell_type": "code",
   "execution_count": 3,
   "metadata": {},
   "outputs": [
    {
     "name": "stdout",
     "output_type": "stream",
     "text": [
      "torch.Size([10672, 300])\n",
      "tensor([[ 0.0368,  0.0300, -0.0738,  ..., -0.1523,  0.0419, -0.0774],\n",
      "        [ 0.0002, -0.0056, -0.0824,  ..., -0.0544,  0.0776, -0.0214],\n",
      "        [ 0.0266, -0.0166, -0.0877,  ..., -0.0522,  0.0517,  0.0093],\n",
      "        ...,\n",
      "        [-0.0291,  0.0529, -0.1453,  ...,  0.0494,  0.1548, -0.0910],\n",
      "        [-0.0269,  0.1204, -0.0289,  ..., -0.0062,  0.0739, -0.0327],\n",
      "        [ 0.0361,  0.1236,  0.0260,  ..., -0.0099, -0.0193,  0.0262]])\n"
     ]
    }
   ],
   "source": [
    "import numpy as np\n",
    "# 平均単語ベクトルの取得\n",
    "def w2v(text):\n",
    "    words = text.rstrip().split()\n",
    "    vec = [model[word] for word in words if word in model]\n",
    "    return np.array(sum(vec) / len(vec))\n",
    "\n",
    "vecs = np.array([])\n",
    "for text in df['TITLE']:\n",
    "    if len(vecs) == 0:\n",
    "        vecs = w2v(text)\n",
    "    else:\n",
    "        vecs = np.vstack([vecs, w2v(text)])\n",
    "\n",
    "# 特徴ベクトルのテンソル化\n",
    "import torch\n",
    "\n",
    "# 乱数のシードを設定\n",
    "torch.manual_seed(1234)\n",
    "np.random.seed(1234)\n",
    "\n",
    "X_train = torch.from_numpy(vecs[:len(train), :])\n",
    "X_valid = torch.from_numpy(vecs[len(train):len(train)+ len(valid), :])\n",
    "X_test = torch.from_numpy(vecs[len(train)+ len(valid):, :])\n",
    "print(X_train.size())\n",
    "print(X_train)\n"
   ]
  },
  {
   "cell_type": "code",
   "execution_count": 4,
   "metadata": {},
   "outputs": [],
   "source": [
    "# ターゲットのテンソル化\n",
    "category_dict = {'b': 0, 't': 1, 'e':2, 'm':3}\n",
    "Y_train = torch.from_numpy(train['CATEGORY'].map(category_dict).values)\n",
    "Y_valid = torch.from_numpy(valid['CATEGORY'].map(category_dict).values)\n",
    "Y_test = torch.from_numpy(test['CATEGORY'].map(category_dict).values)\n",
    "# 保存\n",
    "torch.save(X_train, 'X_train.pt')\n",
    "torch.save(X_valid, 'X_valid.pt')\n",
    "torch.save(X_test, 'X_test.pt')\n",
    "torch.save(Y_train, 'y_train.pt')\n",
    "torch.save(Y_valid, 'y_valid.pt')\n",
    "torch.save(Y_test, 'y_test.pt')"
   ]
  },
  {
   "cell_type": "code",
   "execution_count": 5,
   "metadata": {},
   "outputs": [
    {
     "name": "stdout",
     "output_type": "stream",
     "text": [
      "SLNet(\n",
      "  (fc): Linear(in_features=300, out_features=4, bias=True)\n",
      ")\n"
     ]
    }
   ],
   "source": [
    "# モデルの構築\n",
    "from torch import nn\n",
    "\n",
    "class SLNet(nn.Module):\n",
    "    def __init__(self, input_size, output_size):\n",
    "        super().__init__()\n",
    "        self.fc = nn.Linear(input_size, output_size)\n",
    "    \n",
    "    def forward(self, x):\n",
    "        logits = self.fc(x)\n",
    "        return logits\n",
    "\n",
    "model = SLNet(300, 4)\n",
    "print(model)"
   ]
  },
  {
   "cell_type": "code",
   "execution_count": 6,
   "metadata": {},
   "outputs": [
    {
     "name": "stdout",
     "output_type": "stream",
     "text": [
      "tensor([-0.0176,  0.0697,  0.0920,  0.0596], grad_fn=<AddBackward0>)\n",
      "tensor([0.2332, 0.2545, 0.2603, 0.2520], grad_fn=<SoftmaxBackward0>)\n"
     ]
    }
   ],
   "source": [
    "logits = model(X_train[0])\n",
    "y_hat_1 = nn.Softmax(dim=-1)(logits)\n",
    "print(logits)\n",
    "print(y_hat_1)"
   ]
  },
  {
   "cell_type": "code",
   "execution_count": 7,
   "metadata": {},
   "outputs": [
    {
     "name": "stdout",
     "output_type": "stream",
     "text": [
      "tensor([[-0.0176,  0.0697,  0.0920,  0.0596],\n",
      "        [-0.0210,  0.0704,  0.0814,  0.0636],\n",
      "        [ 0.0360,  0.1010,  0.0704,  0.0456],\n",
      "        [ 0.0362,  0.1266,  0.0222,  0.1343]], grad_fn=<AddmmBackward0>)\n",
      "tensor([[0.2332, 0.2545, 0.2603, 0.2520],\n",
      "        [0.2330, 0.2553, 0.2581, 0.2536],\n",
      "        [0.2432, 0.2595, 0.2517, 0.2455],\n",
      "        [0.2390, 0.2616, 0.2357, 0.2637]], grad_fn=<SoftmaxBackward0>)\n"
     ]
    }
   ],
   "source": [
    "logits = model(X_train[:4])\n",
    "Y_hat = nn.Softmax(dim=1)(logits)\n",
    "print(logits)\n",
    "print(Y_hat)"
   ]
  },
  {
   "cell_type": "code",
   "execution_count": 8,
   "metadata": {},
   "outputs": [
    {
     "name": "stdout",
     "output_type": "stream",
     "text": [
      "損失:  1.3807432651519775\n"
     ]
    },
    {
     "name": "stdout",
     "output_type": "stream",
     "text": [
      "勾配: \n",
      "tensor([[ 5.0444e-03,  3.9170e-03,  7.1611e-03,  ..., -2.0513e-03,\n",
      "         -4.2177e-03,  5.3509e-04],\n",
      "        [ 3.9538e-05, -6.0439e-03, -1.8717e-02,  ..., -1.5257e-02,\n",
      "         -4.6948e-03, -6.8699e-03],\n",
      "        [-1.0491e-02, -7.2170e-04,  2.5712e-02,  ...,  3.4016e-02,\n",
      "         -7.4130e-03,  1.1578e-02],\n",
      "        [ 5.4069e-03,  2.8486e-03, -1.4156e-02,  ..., -1.6707e-02,\n",
      "          1.6325e-02, -5.2435e-03]])\n"
     ]
    }
   ],
   "source": [
    "# x_1のロスを求める\n",
    "criterion = nn.CrossEntropyLoss()\n",
    "logits = model(X_train[:4])\n",
    "loss = criterion(logits, Y_train[:4])\n",
    "print(\"損失: \", loss.item())\n",
    "model.zero_grad()\n",
    "loss.backward()\n",
    "print(\"勾配: \")\n",
    "print(model.fc.weight.grad)"
   ]
  },
  {
   "cell_type": "code",
   "execution_count": 9,
   "metadata": {},
   "outputs": [
    {
     "name": "stdout",
     "output_type": "stream",
     "text": [
      "torch.Size([300])\n",
      "tensor(2)\n",
      "torch.Size([300])\n",
      "tensor(3)\n",
      "torch.Size([300])\n",
      "tensor(2)\n"
     ]
    }
   ],
   "source": [
    "# データセットを作成する\n",
    "import torch.utils.data as data\n",
    "\n",
    "class NewsDataset(data.Dataset):\n",
    "    \"\"\"\n",
    "    newsのDatasetクラス\n",
    "    \n",
    "    Attributes\n",
    "    ----------------------------\n",
    "    X : テンソル\n",
    "        単語ベクトルの平均をまとめたテンソル\n",
    "    y : テンソル\n",
    "        カテゴリをラベル化したテンソル\n",
    "    phase : 'train' or 'val'\n",
    "        学習か訓練かを設定する\n",
    "    \"\"\"\n",
    "    def __init__(self, X, y, phase='train'):\n",
    "        self.X = X\n",
    "        self.y = y\n",
    "        self.phase = phase\n",
    "    \n",
    "    def __len__(self):\n",
    "        \"\"\"全データサイズを返す\"\"\"\n",
    "        return len(self.y)\n",
    "    \n",
    "    def __getitem__(self, idx):\n",
    "        \"\"\"idxに対応するテンソル形式のデータとラベルを取得\"\"\"\n",
    "        return self.X[idx], self.y[idx]\n",
    "\n",
    "train_dataset = NewsDataset(X_train, Y_train, phase='train')\n",
    "valid_dataset = NewsDataset(X_valid, Y_valid, phase='val')\n",
    "test_dataset = NewsDataset(X_test, Y_test, phase='val')\n",
    "\n",
    "# 動作確認\n",
    "idx = 0\n",
    "print(train_dataset.__getitem__(idx)[0].size())\n",
    "print(train_dataset.__getitem__(idx)[1])\n",
    "print(valid_dataset.__getitem__(idx)[0].size())\n",
    "print(valid_dataset.__getitem__(idx)[1])\n",
    "print(test_dataset.__getitem__(idx)[0].size())\n",
    "print(test_dataset.__getitem__(idx)[1])\n"
   ]
  },
  {
   "cell_type": "code",
   "execution_count": 10,
   "metadata": {},
   "outputs": [
    {
     "name": "stdout",
     "output_type": "stream",
     "text": [
      "torch.Size([1, 300])\n",
      "tensor([2])\n"
     ]
    }
   ],
   "source": [
    "# DataLoaderを作成\n",
    "batch_size = 1\n",
    "\n",
    "train_dataloader = data.DataLoader(\n",
    "            train_dataset, batch_size=batch_size, shuffle=True)\n",
    "valid_dataloader = data.DataLoader(\n",
    "            valid_dataset, batch_size=len(valid_dataset), shuffle=False)\n",
    "test_dataloader = data.DataLoader(\n",
    "            test_dataset, batch_size=len(test_dataset), shuffle=False)\n",
    "\n",
    "dataloaders_dict = {'train': train_dataloader,\n",
    "                    'val': valid_dataloader,\n",
    "                    'test': test_dataloader,\n",
    "                   }\n",
    "\n",
    "# 動作確認\n",
    "batch_iter = iter(dataloaders_dict['train'])\n",
    "inputs, labels = next(batch_iter)\n",
    "print(inputs.size())\n",
    "print(labels)"
   ]
  },
  {
   "cell_type": "code",
   "execution_count": 12,
   "metadata": {},
   "outputs": [
    {
     "name": "stdout",
     "output_type": "stream",
     "text": [
      "Epoch 1 / 10\n",
      "--------------------------------------------\n"
     ]
    },
    {
     "name": "stderr",
     "output_type": "stream",
     "text": [
      "100%|██████████| 10672/10672 [00:03<00:00, 2905.03it/s]\n"
     ]
    },
    {
     "name": "stdout",
     "output_type": "stream",
     "text": [
      "train Loss: 0.4172, Acc: 0.8584\n"
     ]
    },
    {
     "name": "stderr",
     "output_type": "stream",
     "text": [
      "100%|██████████| 1/1 [00:00<00:00, 79.37it/s]\n"
     ]
    },
    {
     "name": "stdout",
     "output_type": "stream",
     "text": [
      "val Loss: 0.3073, Acc: 0.9018\n",
      "Epoch 2 / 10\n",
      "--------------------------------------------\n"
     ]
    },
    {
     "name": "stderr",
     "output_type": "stream",
     "text": [
      "100%|██████████| 10672/10672 [00:05<00:00, 2105.14it/s]\n"
     ]
    },
    {
     "name": "stdout",
     "output_type": "stream",
     "text": [
      "train Loss: 0.3117, Acc: 0.8936\n"
     ]
    },
    {
     "name": "stderr",
     "output_type": "stream",
     "text": [
      "100%|██████████| 1/1 [00:00<00:00, 21.41it/s]\n"
     ]
    },
    {
     "name": "stdout",
     "output_type": "stream",
     "text": [
      "val Loss: 0.2807, Acc: 0.9093\n",
      "Epoch 3 / 10\n",
      "--------------------------------------------\n"
     ]
    },
    {
     "name": "stderr",
     "output_type": "stream",
     "text": [
      "100%|██████████| 10672/10672 [00:03<00:00, 3458.99it/s]\n"
     ]
    },
    {
     "name": "stdout",
     "output_type": "stream",
     "text": [
      "train Loss: 0.2913, Acc: 0.9004\n"
     ]
    },
    {
     "name": "stderr",
     "output_type": "stream",
     "text": [
      "100%|██████████| 1/1 [00:00<00:00, 13.89it/s]\n"
     ]
    },
    {
     "name": "stdout",
     "output_type": "stream",
     "text": [
      "val Loss: 0.2806, Acc: 0.9070\n",
      "Epoch 4 / 10\n",
      "--------------------------------------------\n"
     ]
    },
    {
     "name": "stderr",
     "output_type": "stream",
     "text": [
      "100%|██████████| 10672/10672 [00:03<00:00, 3514.14it/s]\n"
     ]
    },
    {
     "name": "stdout",
     "output_type": "stream",
     "text": [
      "train Loss: 0.2779, Acc: 0.9033\n"
     ]
    },
    {
     "name": "stderr",
     "output_type": "stream",
     "text": [
      "100%|██████████| 1/1 [00:00<00:00, 48.76it/s]\n"
     ]
    },
    {
     "name": "stdout",
     "output_type": "stream",
     "text": [
      "val Loss: 0.2759, Acc: 0.9040\n",
      "Epoch 5 / 10\n",
      "--------------------------------------------\n"
     ]
    },
    {
     "name": "stderr",
     "output_type": "stream",
     "text": [
      "100%|██████████| 10672/10672 [00:03<00:00, 2748.37it/s]\n"
     ]
    },
    {
     "name": "stdout",
     "output_type": "stream",
     "text": [
      "train Loss: 0.2708, Acc: 0.9056\n"
     ]
    },
    {
     "name": "stderr",
     "output_type": "stream",
     "text": [
      "100%|██████████| 1/1 [00:00<00:00, 35.92it/s]\n"
     ]
    },
    {
     "name": "stdout",
     "output_type": "stream",
     "text": [
      "val Loss: 0.2719, Acc: 0.9130\n",
      "Epoch 6 / 10\n",
      "--------------------------------------------\n"
     ]
    },
    {
     "name": "stderr",
     "output_type": "stream",
     "text": [
      "100%|██████████| 10672/10672 [00:03<00:00, 3195.54it/s]\n"
     ]
    },
    {
     "name": "stdout",
     "output_type": "stream",
     "text": [
      "train Loss: 0.2661, Acc: 0.9075\n"
     ]
    },
    {
     "name": "stderr",
     "output_type": "stream",
     "text": [
      "100%|██████████| 1/1 [00:00<00:00, 91.57it/s]\n"
     ]
    },
    {
     "name": "stdout",
     "output_type": "stream",
     "text": [
      "val Loss: 0.2692, Acc: 0.9153\n",
      "Epoch 7 / 10\n",
      "--------------------------------------------\n"
     ]
    },
    {
     "name": "stderr",
     "output_type": "stream",
     "text": [
      "100%|██████████| 10672/10672 [00:03<00:00, 3487.45it/s]\n"
     ]
    },
    {
     "name": "stdout",
     "output_type": "stream",
     "text": [
      "train Loss: 0.2609, Acc: 0.9110\n"
     ]
    },
    {
     "name": "stderr",
     "output_type": "stream",
     "text": [
      "100%|██████████| 1/1 [00:00<00:00, 134.72it/s]\n"
     ]
    },
    {
     "name": "stdout",
     "output_type": "stream",
     "text": [
      "val Loss: 0.2696, Acc: 0.9153\n",
      "Epoch 8 / 10\n",
      "--------------------------------------------\n"
     ]
    },
    {
     "name": "stderr",
     "output_type": "stream",
     "text": [
      "100%|██████████| 10672/10672 [00:03<00:00, 3465.98it/s]\n"
     ]
    },
    {
     "name": "stdout",
     "output_type": "stream",
     "text": [
      "train Loss: 0.2567, Acc: 0.9129\n"
     ]
    },
    {
     "name": "stderr",
     "output_type": "stream",
     "text": [
      "100%|██████████| 1/1 [00:00<00:00, 19.94it/s]\n"
     ]
    },
    {
     "name": "stdout",
     "output_type": "stream",
     "text": [
      "val Loss: 0.2808, Acc: 0.9108\n",
      "Epoch 9 / 10\n",
      "--------------------------------------------\n"
     ]
    },
    {
     "name": "stderr",
     "output_type": "stream",
     "text": [
      "100%|██████████| 10672/10672 [00:03<00:00, 3453.71it/s]\n"
     ]
    },
    {
     "name": "stdout",
     "output_type": "stream",
     "text": [
      "train Loss: 0.2554, Acc: 0.9122\n"
     ]
    },
    {
     "name": "stderr",
     "output_type": "stream",
     "text": [
      "100%|██████████| 1/1 [00:00<00:00, 12.18it/s]\n"
     ]
    },
    {
     "name": "stdout",
     "output_type": "stream",
     "text": [
      "val Loss: 0.2712, Acc: 0.9130\n",
      "Epoch 10 / 10\n",
      "--------------------------------------------\n"
     ]
    },
    {
     "name": "stderr",
     "output_type": "stream",
     "text": [
      "100%|██████████| 10672/10672 [00:03<00:00, 3442.18it/s]\n"
     ]
    },
    {
     "name": "stdout",
     "output_type": "stream",
     "text": [
      "train Loss: 0.2520, Acc: 0.9136\n"
     ]
    },
    {
     "name": "stderr",
     "output_type": "stream",
     "text": [
      "100%|██████████| 1/1 [00:00<00:00, 16.43it/s]"
     ]
    },
    {
     "name": "stdout",
     "output_type": "stream",
     "text": [
      "val Loss: 0.2788, Acc: 0.9055\n"
     ]
    },
    {
     "name": "stderr",
     "output_type": "stream",
     "text": [
      "\n"
     ]
    }
   ],
   "source": [
    "from tqdm import tqdm\n",
    "# 学習\n",
    "\n",
    "# モデルの定義\n",
    "net = SLNet(300, 4)\n",
    "net.train()\n",
    "\n",
    "# 損失関数の定義\n",
    "criterion = nn.CrossEntropyLoss()\n",
    "\n",
    "# 最適化手法の定義\n",
    "optimizer = torch.optim.SGD(net.parameters(), lr=0.01, momentum=0.9)\n",
    "\n",
    "# 学習用の関数を定義\n",
    "def train_model(net, dataloaders_dict, criterion, optimizer, num_epochs):\n",
    "    \n",
    "    # epochのループ\n",
    "    for epoch in range(num_epochs):\n",
    "        print('Epoch {} / {}'.format(epoch + 1, num_epochs))\n",
    "        print('--------------------------------------------')\n",
    "        \n",
    "        # epochごとの学習と検証のループ\n",
    "        for phase in ['train', 'val']:\n",
    "            if phase == 'train':\n",
    "                net.train() # 訓練モード\n",
    "            else:\n",
    "                net.eval() # 検証モード\n",
    "            \n",
    "            epoch_loss = 0.0 # epochの損失和\n",
    "            epoch_corrects = 0 # epochの正解数\n",
    "            \n",
    "            # データローダーからミニバッチを取り出すループ\n",
    "            for inputs, labels in tqdm(dataloaders_dict[phase]):\n",
    "                optimizer.zero_grad() # optimizerを初期化\n",
    "                \n",
    "                # 順伝播計算(forward)\n",
    "                with torch.set_grad_enabled(phase == 'train'):\n",
    "                    outputs = net(inputs)\n",
    "                    loss = criterion(outputs, labels) # 損失を計算\n",
    "                    _, preds = torch.max(outputs, 1) # ラベルを予想\n",
    "                    \n",
    "                    # 訓練時は逆伝播\n",
    "                    if phase == 'train':\n",
    "                        loss.backward()\n",
    "                        optimizer.step()\n",
    "                    \n",
    "                    # イテレーション結果の計算\n",
    "                    # lossの合計を更新\n",
    "                    epoch_loss += loss.item() * inputs.size(0)\n",
    "                    # 正解数の合計を更新\n",
    "                    epoch_corrects += torch.sum(preds == labels.data)\n",
    "            \n",
    "            # epochごとのlossと正解率の表示\n",
    "            epoch_loss = epoch_loss / len(dataloaders_dict[phase].dataset)\n",
    "            epoch_acc = epoch_corrects.double() / len(dataloaders_dict[phase].dataset)\n",
    "            \n",
    "            print('{} Loss: {:.4f}, Acc: {:.4f}'.format(phase, epoch_loss, epoch_acc))\n",
    "\n",
    "            \n",
    "# 学習を実行する\n",
    "num_epochs = 10\n",
    "train_model(net, dataloaders_dict, criterion, optimizer, num_epochs=num_epochs)"
   ]
  },
  {
   "cell_type": "code",
   "execution_count": 13,
   "metadata": {},
   "outputs": [
    {
     "name": "stdout",
     "output_type": "stream",
     "text": [
      "学習データの正解率: 0.9142\n",
      "検証データの正解率: 0.9055\n",
      "テストデータの正解率: 0.8891\n"
     ]
    }
   ],
   "source": [
    "def calc_acc(net, dataloader):\n",
    "    net.eval()\n",
    "    corrects = 0\n",
    "    with torch.no_grad():\n",
    "        for inputs, labels in dataloader:\n",
    "            outputs = net(inputs)\n",
    "            _, preds = torch.max(outputs, 1) # ラベルを予想\n",
    "            corrects += torch.sum(preds == labels.data)\n",
    "    return corrects / len(dataloader.dataset)\n",
    "\n",
    "acc_train = calc_acc(net, train_dataloader)\n",
    "acc_valid = calc_acc(net, valid_dataloader)\n",
    "acc_test = calc_acc(net, test_dataloader)\n",
    "print('学習データの正解率: {:.4f}'.format(acc_train))\n",
    "print('検証データの正解率: {:.4f}'.format(acc_valid))\n",
    "print('テストデータの正解率: {:.4f}'.format(acc_test))"
   ]
  },
  {
   "cell_type": "code",
   "execution_count": 14,
   "metadata": {},
   "outputs": [
    {
     "name": "stdout",
     "output_type": "stream",
     "text": [
      "学習データの正解率: 0.9142\n",
      "検証データの正解率: 0.9055\n",
      "テストデータの正解率: 0.8891\n"
     ]
    }
   ],
   "source": [
    "def calc_acc(net, dataloader):\n",
    "    net.eval()\n",
    "    corrects = 0\n",
    "    with torch.no_grad():\n",
    "        for inputs, labels in dataloader:\n",
    "            outputs = net(inputs)\n",
    "            _, preds = torch.max(outputs, 1) # ラベルを予想\n",
    "            corrects += torch.sum(preds == labels.data)\n",
    "    return corrects / len(dataloader.dataset)\n",
    "\n",
    "acc_train = calc_acc(net, train_dataloader)\n",
    "acc_valid = calc_acc(net, valid_dataloader)\n",
    "acc_test = calc_acc(net, test_dataloader)\n",
    "print('学習データの正解率: {:.4f}'.format(acc_train))\n",
    "print('検証データの正解率: {:.4f}'.format(acc_valid))\n",
    "print('テストデータの正解率: {:.4f}'.format(acc_test))"
   ]
  },
  {
   "cell_type": "code",
   "execution_count": 16,
   "metadata": {},
   "outputs": [
    {
     "name": "stdout",
     "output_type": "stream",
     "text": [
      "Epoch 1 / 10\n",
      "--------------------------------------------\n"
     ]
    },
    {
     "name": "stderr",
     "output_type": "stream",
     "text": [
      "100%|██████████| 10672/10672 [00:05<00:00, 2132.71it/s]\n"
     ]
    },
    {
     "name": "stdout",
     "output_type": "stream",
     "text": [
      "train Loss: 0.4136, Acc: 0.8624\n"
     ]
    },
    {
     "name": "stderr",
     "output_type": "stream",
     "text": [
      "100%|██████████| 1/1 [00:00<00:00, 16.36it/s]\n"
     ]
    },
    {
     "name": "stdout",
     "output_type": "stream",
     "text": [
      "val Loss: 0.3046, Acc: 0.9048\n",
      "Epoch 2 / 10\n",
      "--------------------------------------------\n"
     ]
    },
    {
     "name": "stderr",
     "output_type": "stream",
     "text": [
      "100%|██████████| 10672/10672 [00:03<00:00, 2800.44it/s]\n"
     ]
    },
    {
     "name": "stdout",
     "output_type": "stream",
     "text": [
      "train Loss: 0.3100, Acc: 0.8931\n"
     ]
    },
    {
     "name": "stderr",
     "output_type": "stream",
     "text": [
      "100%|██████████| 1/1 [00:00<00:00, 136.04it/s]\n"
     ]
    },
    {
     "name": "stdout",
     "output_type": "stream",
     "text": [
      "val Loss: 0.2909, Acc: 0.9070\n",
      "Epoch 3 / 10\n",
      "--------------------------------------------\n"
     ]
    },
    {
     "name": "stderr",
     "output_type": "stream",
     "text": [
      "100%|██████████| 10672/10672 [00:03<00:00, 3479.82it/s]\n"
     ]
    },
    {
     "name": "stdout",
     "output_type": "stream",
     "text": [
      "train Loss: 0.2903, Acc: 0.8984\n"
     ]
    },
    {
     "name": "stderr",
     "output_type": "stream",
     "text": [
      "100%|██████████| 1/1 [00:00<00:00, 34.33it/s]\n"
     ]
    },
    {
     "name": "stdout",
     "output_type": "stream",
     "text": [
      "val Loss: 0.2763, Acc: 0.9130\n",
      "Epoch 4 / 10\n",
      "--------------------------------------------\n"
     ]
    },
    {
     "name": "stderr",
     "output_type": "stream",
     "text": [
      "100%|██████████| 10672/10672 [00:03<00:00, 3062.26it/s]\n"
     ]
    },
    {
     "name": "stdout",
     "output_type": "stream",
     "text": [
      "train Loss: 0.2772, Acc: 0.9059\n"
     ]
    },
    {
     "name": "stderr",
     "output_type": "stream",
     "text": [
      "100%|██████████| 1/1 [00:00<00:00, 11.13it/s]\n"
     ]
    },
    {
     "name": "stdout",
     "output_type": "stream",
     "text": [
      "val Loss: 0.2728, Acc: 0.9108\n",
      "Epoch 5 / 10\n",
      "--------------------------------------------\n"
     ]
    },
    {
     "name": "stderr",
     "output_type": "stream",
     "text": [
      "100%|██████████| 10672/10672 [00:03<00:00, 3399.78it/s]\n"
     ]
    },
    {
     "name": "stdout",
     "output_type": "stream",
     "text": [
      "train Loss: 0.2707, Acc: 0.9055\n"
     ]
    },
    {
     "name": "stderr",
     "output_type": "stream",
     "text": [
      "100%|██████████| 1/1 [00:00<00:00, 134.39it/s]\n"
     ]
    },
    {
     "name": "stdout",
     "output_type": "stream",
     "text": [
      "val Loss: 0.2662, Acc: 0.9115\n",
      "Epoch 6 / 10\n",
      "--------------------------------------------\n"
     ]
    },
    {
     "name": "stderr",
     "output_type": "stream",
     "text": [
      "100%|██████████| 10672/10672 [00:03<00:00, 3463.07it/s]\n"
     ]
    },
    {
     "name": "stdout",
     "output_type": "stream",
     "text": [
      "train Loss: 0.2656, Acc: 0.9087\n"
     ]
    },
    {
     "name": "stderr",
     "output_type": "stream",
     "text": [
      "100%|██████████| 1/1 [00:00<00:00, 126.56it/s]\n"
     ]
    },
    {
     "name": "stdout",
     "output_type": "stream",
     "text": [
      "val Loss: 0.2756, Acc: 0.9093\n",
      "Epoch 7 / 10\n",
      "--------------------------------------------\n"
     ]
    },
    {
     "name": "stderr",
     "output_type": "stream",
     "text": [
      "100%|██████████| 10672/10672 [00:03<00:00, 3470.36it/s]\n"
     ]
    },
    {
     "name": "stdout",
     "output_type": "stream",
     "text": [
      "train Loss: 0.2615, Acc: 0.9118\n"
     ]
    },
    {
     "name": "stderr",
     "output_type": "stream",
     "text": [
      "100%|██████████| 1/1 [00:00<00:00, 24.75it/s]\n"
     ]
    },
    {
     "name": "stdout",
     "output_type": "stream",
     "text": [
      "val Loss: 0.2743, Acc: 0.9115\n",
      "Epoch 8 / 10\n",
      "--------------------------------------------\n"
     ]
    },
    {
     "name": "stderr",
     "output_type": "stream",
     "text": [
      "100%|██████████| 10672/10672 [00:03<00:00, 3474.49it/s]\n"
     ]
    },
    {
     "name": "stdout",
     "output_type": "stream",
     "text": [
      "train Loss: 0.2566, Acc: 0.9114\n"
     ]
    },
    {
     "name": "stderr",
     "output_type": "stream",
     "text": [
      "100%|██████████| 1/1 [00:00<00:00, 137.21it/s]\n"
     ]
    },
    {
     "name": "stdout",
     "output_type": "stream",
     "text": [
      "val Loss: 0.2692, Acc: 0.9115\n",
      "Epoch 9 / 10\n",
      "--------------------------------------------\n"
     ]
    },
    {
     "name": "stderr",
     "output_type": "stream",
     "text": [
      "100%|██████████| 10672/10672 [00:03<00:00, 3455.93it/s]\n"
     ]
    },
    {
     "name": "stdout",
     "output_type": "stream",
     "text": [
      "train Loss: 0.2553, Acc: 0.9119\n"
     ]
    },
    {
     "name": "stderr",
     "output_type": "stream",
     "text": [
      "100%|██████████| 1/1 [00:00<00:00, 56.63it/s]\n"
     ]
    },
    {
     "name": "stdout",
     "output_type": "stream",
     "text": [
      "val Loss: 0.2720, Acc: 0.9115\n",
      "Epoch 10 / 10\n",
      "--------------------------------------------\n"
     ]
    },
    {
     "name": "stderr",
     "output_type": "stream",
     "text": [
      "100%|██████████| 10672/10672 [00:03<00:00, 3419.97it/s]\n"
     ]
    },
    {
     "name": "stdout",
     "output_type": "stream",
     "text": [
      "train Loss: 0.2533, Acc: 0.9100\n"
     ]
    },
    {
     "name": "stderr",
     "output_type": "stream",
     "text": [
      "100%|██████████| 1/1 [00:00<00:00, 141.38it/s]"
     ]
    },
    {
     "name": "stdout",
     "output_type": "stream",
     "text": [
      "val Loss: 0.2765, Acc: 0.9115\n"
     ]
    },
    {
     "name": "stderr",
     "output_type": "stream",
     "text": [
      "\n"
     ]
    }
   ],
   "source": [
    "# 学習用の関数を定義\n",
    "def train_model(net, dataloaders_dict, criterion, optimizer, num_epochs):\n",
    "    train_loss = []\n",
    "    train_acc = []\n",
    "    valid_loss = []\n",
    "    valid_acc = []\n",
    "    # epochのループ\n",
    "    for epoch in range(num_epochs):\n",
    "        print('Epoch {} / {}'.format(epoch + 1, num_epochs))\n",
    "        print('--------------------------------------------')\n",
    "        \n",
    "        # epochごとの学習と検証のループ\n",
    "        for phase in ['train', 'val']:\n",
    "            if phase == 'train':\n",
    "                net.train() # 訓練モード\n",
    "            else:\n",
    "                net.eval() # 検証モード\n",
    "            \n",
    "            epoch_loss = 0.0 # epochの損失和\n",
    "            epoch_corrects = 0 # epochの正解数\n",
    "            \n",
    "            # データローダーからミニバッチを取り出すループ\n",
    "            for inputs, labels in tqdm(dataloaders_dict[phase]):\n",
    "                optimizer.zero_grad() # optimizerを初期化\n",
    "                \n",
    "                # 順伝播計算(forward)\n",
    "                with torch.set_grad_enabled(phase == 'train'):\n",
    "                    outputs = net(inputs)\n",
    "                    loss = criterion(outputs, labels) # 損失を計算\n",
    "                    _, preds = torch.max(outputs, 1) # ラベルを予想\n",
    "                    \n",
    "                    # 訓練時は逆伝播\n",
    "                    if phase == 'train':\n",
    "                        loss.backward()\n",
    "                        optimizer.step()\n",
    "                    \n",
    "                    # イテレーション結果の計算\n",
    "                    # lossの合計を更新\n",
    "                    epoch_loss += loss.item() * inputs.size(0)\n",
    "                    # 正解数の合計を更新\n",
    "                    epoch_corrects += torch.sum(preds == labels.data)\n",
    "            \n",
    "            # epochごとのlossと正解率の表示\n",
    "            epoch_loss = epoch_loss / len(dataloaders_dict[phase].dataset)\n",
    "            epoch_acc = epoch_corrects.double() / len(dataloaders_dict[phase].dataset)\n",
    "            if phase == 'train':\n",
    "                train_loss.append(epoch_loss)\n",
    "                train_acc.append(epoch_acc)\n",
    "            else:\n",
    "                valid_loss.append(epoch_loss)\n",
    "                valid_acc.append(epoch_acc)\n",
    "            \n",
    "            print('{} Loss: {:.4f}, Acc: {:.4f}'.format(phase, epoch_loss, epoch_acc))\n",
    "        \n",
    "        # チェックポイントの保存\n",
    "        torch.save({'epoch': epoch,\n",
    "                    'model_state_dict': model.state_dict(),\n",
    "                    'optimizer_state_dict': optimizer.state_dict()\n",
    "                   },\n",
    "                   'checkpoints/checkpoint{}.pt'.format(epoch + 1))\n",
    "    return train_loss, train_acc, valid_loss, valid_acc\n",
    "\n",
    "# 学習を実行する\n",
    "\n",
    "# モデルの定義\n",
    "net = SLNet(300, 4)\n",
    "net.train()\n",
    "\n",
    "# 損失関数の定義\n",
    "criterion = nn.CrossEntropyLoss()\n",
    "\n",
    "# 最適化手法の定義\n",
    "optimizer = torch.optim.SGD(net.parameters(), lr=0.01, momentum=0.9)\n",
    "\n",
    "num_epochs = 10\n",
    "train_loss, train_acc, valid_loss, valid_acc = train_model(net,\n",
    "            dataloaders_dict, criterion, optimizer, num_epochs=num_epochs)"
   ]
  },
  {
   "cell_type": "code",
   "execution_count": 17,
   "metadata": {},
   "outputs": [
    {
     "data": {
      "image/png": "[encoded data removed]",
      "text/plain": [
       "<Figure size 720x360 with 2 Axes>"
      ]
     },
     "metadata": {
      "needs_background": "light"
     },
     "output_type": "display_data"
    }
   ],
   "source": [
    "import matplotlib.pyplot as plt\n",
    "\n",
    "fig, ax = plt.subplots(1,2, figsize=(10, 5))\n",
    "epochs = np.arange(num_epochs)\n",
    "ax[0].plot(epochs, train_loss, label='train')\n",
    "ax[0].plot(epochs, valid_loss, label='valid')\n",
    "ax[0].set_title('loss')\n",
    "ax[0].set_xlabel('epoch')\n",
    "ax[0].set_ylabel('loss')\n",
    "ax[1].plot(epochs, train_acc, label='train')\n",
    "ax[1].plot(epochs, valid_acc, label='valid')\n",
    "ax[1].set_title('acc')\n",
    "ax[1].set_xlabel('epoch')\n",
    "ax[1].set_ylabel('acc')\n",
    "ax[0].legend(loc='best')\n",
    "ax[1].legend(loc='best')\n",
    "plt.tight_layout()\n",
    "plt.savefig('fig74.png')"
   ]
  },
  {
   "cell_type": "markdown",
   "metadata": {},
   "source": [
    "# 後半"
   ]
  },
  {
   "cell_type": "code",
   "execution_count": 18,
   "metadata": {},
   "outputs": [
    {
     "name": "stdout",
     "output_type": "stream",
     "text": [
      "batch_size: 1\n",
      "使用デバイス: cuda:0\n",
      "Epoch 1 / 1\n",
      "--------------------------------------------\n"
     ]
    },
    {
     "name": "stderr",
     "output_type": "stream",
     "text": [
      "100%|██████████| 10672/10672 [00:15<00:00, 703.71it/s]\n"
     ]
    },
    {
     "name": "stdout",
     "output_type": "stream",
     "text": [
      "train Loss: 0.4165, Acc: 0.8585\n"
     ]
    },
    {
     "name": "stderr",
     "output_type": "stream",
     "text": [
      "100%|██████████| 1/1 [00:00<00:00, 54.66it/s]\n"
     ]
    },
    {
     "name": "stdout",
     "output_type": "stream",
     "text": [
      "val Loss: 0.3075, Acc: 0.9010\n",
      "batch_size 1 calc_time: 15.1989 sec\n",
      "batch_size: 2\n",
      "使用デバイス: cuda:0\n",
      "Epoch 1 / 1\n",
      "--------------------------------------------\n"
     ]
    },
    {
     "name": "stderr",
     "output_type": "stream",
     "text": [
      "100%|██████████| 5336/5336 [00:07<00:00, 738.56it/s]\n"
     ]
    },
    {
     "name": "stdout",
     "output_type": "stream",
     "text": [
      "train Loss: 0.4765, Acc: 0.8392\n"
     ]
    },
    {
     "name": "stderr",
     "output_type": "stream",
     "text": [
      "100%|██████████| 1/1 [00:00<00:00,  6.89it/s]\n"
     ]
    },
    {
     "name": "stdout",
     "output_type": "stream",
     "text": [
      "val Loss: 0.3475, Acc: 0.8891\n",
      "batch_size 2 calc_time: 7.3821 sec\n",
      "batch_size: 4\n",
      "使用デバイス: cuda:0\n",
      "Epoch 1 / 1\n",
      "--------------------------------------------\n"
     ]
    },
    {
     "name": "stderr",
     "output_type": "stream",
     "text": [
      "100%|██████████| 2668/2668 [00:03<00:00, 716.10it/s]\n"
     ]
    },
    {
     "name": "stdout",
     "output_type": "stream",
     "text": [
      "train Loss: 0.5586, Acc: 0.8177\n"
     ]
    },
    {
     "name": "stderr",
     "output_type": "stream",
     "text": [
      "100%|██████████| 1/1 [00:00<00:00, 72.59it/s]\n"
     ]
    },
    {
     "name": "stdout",
     "output_type": "stream",
     "text": [
      "val Loss: 0.4071, Acc: 0.8733\n",
      "batch_size 4 calc_time: 3.7505 sec\n",
      "batch_size: 8\n",
      "使用デバイス: cuda:0\n",
      "Epoch 1 / 1\n",
      "--------------------------------------------\n"
     ]
    },
    {
     "name": "stderr",
     "output_type": "stream",
     "text": [
      "100%|██████████| 1334/1334 [00:01<00:00, 697.57it/s]\n"
     ]
    },
    {
     "name": "stdout",
     "output_type": "stream",
     "text": [
      "train Loss: 0.6593, Acc: 0.7852\n"
     ]
    },
    {
     "name": "stderr",
     "output_type": "stream",
     "text": [
      "100%|██████████| 1/1 [00:00<00:00, 68.44it/s]\n"
     ]
    },
    {
     "name": "stdout",
     "output_type": "stream",
     "text": [
      "val Loss: 0.4925, Acc: 0.8306\n",
      "batch_size 8 calc_time: 1.9384 sec\n",
      "batch_size: 16\n",
      "使用デバイス: cuda:0\n",
      "Epoch 1 / 1\n",
      "--------------------------------------------\n"
     ]
    },
    {
     "name": "stderr",
     "output_type": "stream",
     "text": [
      "100%|██████████| 667/667 [00:01<00:00, 645.36it/s]\n"
     ]
    },
    {
     "name": "stdout",
     "output_type": "stream",
     "text": [
      "train Loss: 0.7667, Acc: 0.7583\n"
     ]
    },
    {
     "name": "stderr",
     "output_type": "stream",
     "text": [
      "100%|██████████| 1/1 [00:00<00:00, 88.95it/s]\n"
     ]
    },
    {
     "name": "stdout",
     "output_type": "stream",
     "text": [
      "val Loss: 0.5958, Acc: 0.7894\n",
      "batch_size 16 calc_time: 1.0590 sec\n",
      "batch_size: 32\n",
      "使用デバイス: cuda:0\n",
      "Epoch 1 / 1\n",
      "--------------------------------------------\n"
     ]
    },
    {
     "name": "stderr",
     "output_type": "stream",
     "text": [
      "100%|██████████| 334/334 [00:00<00:00, 593.83it/s]\n"
     ]
    },
    {
     "name": "stdout",
     "output_type": "stream",
     "text": [
      "train Loss: 0.8855, Acc: 0.7550\n"
     ]
    },
    {
     "name": "stderr",
     "output_type": "stream",
     "text": [
      "100%|██████████| 1/1 [00:00<00:00, 86.30it/s]\n"
     ]
    },
    {
     "name": "stdout",
     "output_type": "stream",
     "text": [
      "val Loss: 0.7093, Acc: 0.7834\n",
      "batch_size 32 calc_time: 0.5849 sec\n",
      "batch_size: 64\n",
      "使用デバイス: cuda:0\n",
      "Epoch 1 / 1\n",
      "--------------------------------------------\n"
     ]
    },
    {
     "name": "stderr",
     "output_type": "stream",
     "text": [
      "100%|██████████| 167/167 [00:00<00:00, 508.99it/s]\n"
     ]
    },
    {
     "name": "stdout",
     "output_type": "stream",
     "text": [
      "train Loss: 1.0014, Acc: 0.7343\n"
     ]
    },
    {
     "name": "stderr",
     "output_type": "stream",
     "text": [
      "100%|██████████| 1/1 [00:00<00:00, 84.26it/s]\n"
     ]
    },
    {
     "name": "stdout",
     "output_type": "stream",
     "text": [
      "val Loss: 0.8336, Acc: 0.7796\n",
      "batch_size 64 calc_time: 0.3513 sec\n",
      "batch_size: 128\n",
      "使用デバイス: cuda:0\n",
      "Epoch 1 / 1\n",
      "--------------------------------------------\n"
     ]
    },
    {
     "name": "stderr",
     "output_type": "stream",
     "text": [
      "100%|██████████| 84/84 [00:00<00:00, 419.88it/s]\n"
     ]
    },
    {
     "name": "stdout",
     "output_type": "stream",
     "text": [
      "train Loss: 1.1298, Acc: 0.6264\n"
     ]
    },
    {
     "name": "stderr",
     "output_type": "stream",
     "text": [
      "100%|██████████| 1/1 [00:00<00:00, 68.26it/s]\n"
     ]
    },
    {
     "name": "stdout",
     "output_type": "stream",
     "text": [
      "val Loss: 0.9614, Acc: 0.7699\n",
      "batch_size 128 calc_time: 0.2254 sec\n",
      "batch_size: 256\n",
      "使用デバイス: cuda:0\n",
      "Epoch 1 / 1\n",
      "--------------------------------------------\n"
     ]
    },
    {
     "name": "stderr",
     "output_type": "stream",
     "text": [
      "100%|██████████| 42/42 [00:00<00:00, 286.78it/s]\n"
     ]
    },
    {
     "name": "stdout",
     "output_type": "stream",
     "text": [
      "train Loss: 1.2228, Acc: 0.5971\n"
     ]
    },
    {
     "name": "stderr",
     "output_type": "stream",
     "text": [
      "100%|██████████| 1/1 [00:00<00:00, 90.19it/s]\n"
     ]
    },
    {
     "name": "stdout",
     "output_type": "stream",
     "text": [
      "val Loss: 1.0745, Acc: 0.7721\n",
      "batch_size 256 calc_time: 0.1696 sec\n",
      "batch_size: 512\n",
      "使用デバイス: cuda:0\n",
      "Epoch 1 / 1\n",
      "--------------------------------------------\n"
     ]
    },
    {
     "name": "stderr",
     "output_type": "stream",
     "text": [
      "100%|██████████| 21/21 [00:00<00:00, 189.87it/s]\n"
     ]
    },
    {
     "name": "stdout",
     "output_type": "stream",
     "text": [
      "train Loss: 1.3136, Acc: 0.4623\n"
     ]
    },
    {
     "name": "stderr",
     "output_type": "stream",
     "text": [
      "100%|██████████| 1/1 [00:00<00:00, 92.58it/s]\n"
     ]
    },
    {
     "name": "stdout",
     "output_type": "stream",
     "text": [
      "val Loss: 1.2002, Acc: 0.7151\n",
      "batch_size 512 calc_time: 0.1313 sec\n",
      "batch_size: 1024\n",
      "使用デバイス: cuda:0\n",
      "Epoch 1 / 1\n",
      "--------------------------------------------\n"
     ]
    },
    {
     "name": "stderr",
     "output_type": "stream",
     "text": [
      "100%|██████████| 11/11 [00:00<00:00, 118.05it/s]\n"
     ]
    },
    {
     "name": "stdout",
     "output_type": "stream",
     "text": [
      "train Loss: 1.3614, Acc: 0.3602\n"
     ]
    },
    {
     "name": "stderr",
     "output_type": "stream",
     "text": [
      "100%|██████████| 1/1 [00:00<00:00, 70.93it/s]\n"
     ]
    },
    {
     "name": "stdout",
     "output_type": "stream",
     "text": [
      "val Loss: 1.3005, Acc: 0.6514\n",
      "batch_size 1024 calc_time: 0.1185 sec\n",
      "batch_size: 2048\n",
      "使用デバイス: cuda:0\n",
      "Epoch 1 / 1\n",
      "--------------------------------------------\n"
     ]
    },
    {
     "name": "stderr",
     "output_type": "stream",
     "text": [
      "100%|██████████| 6/6 [00:00<00:00, 65.67it/s]\n"
     ]
    },
    {
     "name": "stdout",
     "output_type": "stream",
     "text": [
      "train Loss: 1.4040, Acc: 0.1493\n"
     ]
    },
    {
     "name": "stderr",
     "output_type": "stream",
     "text": [
      "100%|██████████| 1/1 [00:00<00:00, 96.12it/s]"
     ]
    },
    {
     "name": "stdout",
     "output_type": "stream",
     "text": [
      "val Loss: 1.3749, Acc: 0.3426\n",
      "batch_size 2048 calc_time: 0.1132 sec\n"
     ]
    },
    {
     "name": "stderr",
     "output_type": "stream",
     "text": [
      "\n"
     ]
    }
   ],
   "source": [
    "# MINIBATCH\n",
    "\n",
    "import time\n",
    "\n",
    "# 学習用の関数を定義\n",
    "def train_model(net, dataloaders_dict, criterion, optimizer, num_epochs):\n",
    "    \n",
    "    # 初期設定\n",
    "    # GPUが使えるか確認\n",
    "    device = torch.device(\"cuda:0\" if torch.cuda.is_available() else \"cpu\")\n",
    "    print(\"使用デバイス:\", device)\n",
    "    \n",
    "    # ネットワークをgpuへ\n",
    "    net.to(device)\n",
    "    \n",
    "    # ネットワークがある程度固定なら高速化させる\n",
    "    torch.backends.cudnn.benchmark = True\n",
    "    \n",
    "    train_loss = []\n",
    "    train_acc = []\n",
    "    valid_loss = []\n",
    "    valid_acc = []\n",
    "    # epochのループ\n",
    "    for epoch in range(num_epochs):\n",
    "        # 開始時刻の記録\n",
    "        start = time.time()\n",
    "        print('Epoch {} / {}'.format(epoch + 1, num_epochs))\n",
    "        print('--------------------------------------------')\n",
    "        \n",
    "        # epochごとの学習と検証のループ\n",
    "        for phase in ['train', 'val']:\n",
    "            if phase == 'train':\n",
    "                net.train() # 訓練モード\n",
    "            else:\n",
    "                net.eval() # 検証モード\n",
    "            \n",
    "            epoch_loss = 0.0 # epochの損失和\n",
    "            epoch_corrects = 0 # epochの正解数\n",
    "            \n",
    "            # データローダーからミニバッチを取り出すループ\n",
    "            for inputs, labels in tqdm(dataloaders_dict[phase]):\n",
    "                # GPUが使えるならGPUにおっくる\n",
    "                inputs = inputs.to(device)\n",
    "                labels = labels.to(device)\n",
    "                optimizer.zero_grad() # optimizerを初期化\n",
    "                \n",
    "                # 順伝播計算(forward)\n",
    "                with torch.set_grad_enabled(phase == 'train'):\n",
    "                    outputs = net(inputs)\n",
    "                    loss = criterion(outputs, labels) # 損失を計算\n",
    "                    _, preds = torch.max(outputs, 1) # ラベルを予想\n",
    "                    \n",
    "                    # 訓練時は逆伝播\n",
    "                    if phase == 'train':\n",
    "                        loss.backward()\n",
    "                        optimizer.step()\n",
    "                    \n",
    "                    # イテレーション結果の計算\n",
    "                    # lossの合計を更新\n",
    "                    epoch_loss += loss.item() * inputs.size(0)\n",
    "                    # 正解数の合計を更新\n",
    "                    epoch_corrects += torch.sum(preds == labels.data)\n",
    "            \n",
    "            # epochごとのlossと正解率の表示\n",
    "            epoch_loss = epoch_loss / len(dataloaders_dict[phase].dataset)\n",
    "            epoch_acc = epoch_corrects.double() / len(dataloaders_dict[phase].dataset)\n",
    "            if phase == 'train':\n",
    "                train_loss.append(epoch_loss)\n",
    "                train_acc.append(epoch_acc)\n",
    "            else:\n",
    "                valid_loss.append(epoch_loss)\n",
    "                valid_acc.append(epoch_acc)\n",
    "            \n",
    "            print('{} Loss: {:.4f}, Acc: {:.4f}'.format(phase, epoch_loss, epoch_acc))\n",
    "        # 修了時刻の記録\n",
    "        end = time.time()\n",
    "        calc_time = end - start\n",
    "        print('batch_size {} calc_time: {:.4f} sec'.format(batch_size, calc_time))\n",
    "    return train_loss, train_acc, valid_loss, valid_acc, calc_time\n",
    "\n",
    "\n",
    "# 学習を実行する\n",
    "batch_sizes = [1, 2, 4, 8, 16, 32, 64, 128, 256, 512, 1024, 2048]\n",
    "cpu_times = []\n",
    "for batch_size in batch_sizes:\n",
    "    print('batch_size: {}'.format(batch_size))\n",
    "    # DataLoaderを作成\n",
    "    train_dataloader = data.DataLoader(\n",
    "                train_dataset, batch_size=batch_size, shuffle=True)\n",
    "    valid_dataloader = data.DataLoader(\n",
    "                valid_dataset, batch_size=len(valid_dataset), shuffle=False)\n",
    "    test_dataloader = data.DataLoader(\n",
    "                test_dataset, batch_size=len(test_dataset), shuffle=False)\n",
    "\n",
    "    dataloaders_dict = {'train': train_dataloader,\n",
    "                        'val': valid_dataloader,\n",
    "                        'test': test_dataloader,\n",
    "                       }\n",
    "    # モデルの定義\n",
    "    net = SLNet(300, 4)\n",
    "    net.train()\n",
    "\n",
    "    # 損失関数の定義\n",
    "    criterion = nn.CrossEntropyLoss()\n",
    "\n",
    "    # 最適化手法の定義\n",
    "    optimizer = torch.optim.SGD(net.parameters(), lr=0.01, momentum=0.9)\n",
    "\n",
    "    num_epochs = 1\n",
    "    train_loss, train_acc, valid_loss, valid_acc, calc_time = \\\n",
    "                        train_model(net, dataloaders_dict, criterion, optimizer,\n",
    "                                    num_epochs=num_epochs)\n",
    "    cpu_times.append(calc_time)"
   ]
  },
  {
   "cell_type": "code",
   "execution_count": 19,
   "metadata": {},
   "outputs": [
    {
     "name": "stdout",
     "output_type": "stream",
     "text": [
      "MLNet(\n",
      "  (layers): Sequential(\n",
      "    (0): Linear(in_features=300, out_features=256, bias=True)\n",
      "    (1): BatchNorm1d(256, eps=1e-05, momentum=0.1, affine=True, track_running_stats=True)\n",
      "    (2): ReLU()\n",
      "    (3): Linear(in_features=256, out_features=256, bias=True)\n",
      "    (4): BatchNorm1d(256, eps=1e-05, momentum=0.1, affine=True, track_running_stats=True)\n",
      "    (5): ReLU()\n",
      "    (6): Linear(in_features=256, out_features=4, bias=True)\n",
      "  )\n",
      ")\n"
     ]
    }
   ],
   "source": [
    "class MLNet(nn.Module):\n",
    "    def __init__(self, input_size, mid_size, output_size):\n",
    "        super().__init__()\n",
    "        self.layers = nn.Sequential(\n",
    "                    nn.Linear(input_size, mid_size),\n",
    "                    nn.BatchNorm1d(mid_size),\n",
    "                    nn.ReLU(),\n",
    "                    nn.Linear(mid_size, mid_size),\n",
    "                    nn.BatchNorm1d(mid_size),\n",
    "                    nn.ReLU(),\n",
    "                    nn.Linear(mid_size, output_size),\n",
    "                    )\n",
    "    \n",
    "    def forward(self, x):\n",
    "        logits = self.layers(x)\n",
    "        return logits\n",
    "\n",
    "net = MLNet(300, 256, 4)\n",
    "print(net)"
   ]
  },
  {
   "cell_type": "code",
   "execution_count": 20,
   "metadata": {},
   "outputs": [
    {
     "name": "stdout",
     "output_type": "stream",
     "text": [
      "使用デバイス: cuda:0\n",
      "Epoch 1 / 200 (train) Loss: 1.4257, Acc: 0.3041, (val) Loss: 1.3995, Acc: 0.1199\n",
      "Epoch 2 / 200 (train) Loss: 1.1723, Acc: 0.5401, (val) Loss: 1.3808, Acc: 0.3051\n",
      "Epoch 3 / 200 (train) Loss: 0.9774, Acc: 0.7099, (val) Loss: 1.3388, Acc: 0.4573\n",
      "Epoch 4 / 200 (train) Loss: 0.8325, Acc: 0.7767, (val) Loss: 1.2701, Acc: 0.4640\n",
      "Epoch 5 / 200 (train) Loss: 0.7276, Acc: 0.8088, (val) Loss: 1.1753, Acc: 0.6154\n",
      "Epoch 6 / 200 (train) Loss: 0.6512, Acc: 0.8248, (val) Loss: 1.0577, Acc: 0.7279\n",
      "Epoch 7 / 200 (train) Loss: 0.5939, Acc: 0.8378, (val) Loss: 0.9248, Acc: 0.7856\n",
      "Epoch 8 / 200 (train) Loss: 0.5506, Acc: 0.8489, (val) Loss: 0.7887, Acc: 0.8231\n",
      "Epoch 9 / 200 (train) Loss: 0.5159, Acc: 0.8567, (val) Loss: 0.6687, Acc: 0.8381\n",
      "Epoch 10 / 200 (train) Loss: 0.4874, Acc: 0.8630, (val) Loss: 0.5753, Acc: 0.8516\n",
      "Epoch 11 / 200 (train) Loss: 0.4628, Acc: 0.8684, (val) Loss: 0.5093, Acc: 0.8636\n",
      "Epoch 12 / 200 (train) Loss: 0.4426, Acc: 0.8727, (val) Loss: 0.4652, Acc: 0.8696\n",
      "Epoch 13 / 200 (train) Loss: 0.4255, Acc: 0.8764, (val) Loss: 0.4347, Acc: 0.8711\n",
      "Epoch 14 / 200 (train) Loss: 0.4093, Acc: 0.8787, (val) Loss: 0.4130, Acc: 0.8816\n",
      "Epoch 15 / 200 (train) Loss: 0.3947, Acc: 0.8817, (val) Loss: 0.3958, Acc: 0.8853\n",
      "Epoch 16 / 200 (train) Loss: 0.3820, Acc: 0.8856, (val) Loss: 0.3821, Acc: 0.8891\n",
      "Epoch 17 / 200 (train) Loss: 0.3703, Acc: 0.8883, (val) Loss: 0.3714, Acc: 0.8913\n",
      "Epoch 18 / 200 (train) Loss: 0.3596, Acc: 0.8906, (val) Loss: 0.3620, Acc: 0.8951\n",
      "Epoch 19 / 200 (train) Loss: 0.3505, Acc: 0.8943, (val) Loss: 0.3539, Acc: 0.8958\n",
      "Epoch 20 / 200 (train) Loss: 0.3412, Acc: 0.8967, (val) Loss: 0.3465, Acc: 0.8981\n",
      "Epoch 21 / 200 (train) Loss: 0.3330, Acc: 0.8984, (val) Loss: 0.3401, Acc: 0.8981\n",
      "Epoch 22 / 200 (train) Loss: 0.3250, Acc: 0.9018, (val) Loss: 0.3337, Acc: 0.8973\n",
      "Epoch 23 / 200 (train) Loss: 0.3175, Acc: 0.9033, (val) Loss: 0.3279, Acc: 0.8981\n",
      "Epoch 24 / 200 (train) Loss: 0.3105, Acc: 0.9051, (val) Loss: 0.3229, Acc: 0.9003\n",
      "Epoch 25 / 200 (train) Loss: 0.3044, Acc: 0.9080, (val) Loss: 0.3186, Acc: 0.9025\n",
      "Epoch 26 / 200 (train) Loss: 0.2983, Acc: 0.9089, (val) Loss: 0.3141, Acc: 0.9010\n",
      "Epoch 27 / 200 (train) Loss: 0.2922, Acc: 0.9117, (val) Loss: 0.3102, Acc: 0.9025\n",
      "Epoch 28 / 200 (train) Loss: 0.2871, Acc: 0.9132, (val) Loss: 0.3063, Acc: 0.9025\n",
      "Epoch 29 / 200 (train) Loss: 0.2820, Acc: 0.9139, (val) Loss: 0.3031, Acc: 0.9025\n",
      "Epoch 30 / 200 (train) Loss: 0.2772, Acc: 0.9163, (val) Loss: 0.2998, Acc: 0.9040\n",
      "Epoch 31 / 200 (train) Loss: 0.2716, Acc: 0.9173, (val) Loss: 0.2966, Acc: 0.9040\n",
      "Epoch 32 / 200 (train) Loss: 0.2671, Acc: 0.9188, (val) Loss: 0.2935, Acc: 0.9040\n",
      "Epoch 33 / 200 (train) Loss: 0.2627, Acc: 0.9199, (val) Loss: 0.2908, Acc: 0.9040\n",
      "Epoch 34 / 200 (train) Loss: 0.2588, Acc: 0.9205, (val) Loss: 0.2884, Acc: 0.9048\n",
      "Epoch 35 / 200 (train) Loss: 0.2543, Acc: 0.9234, (val) Loss: 0.2863, Acc: 0.9063\n",
      "Epoch 36 / 200 (train) Loss: 0.2504, Acc: 0.9235, (val) Loss: 0.2842, Acc: 0.9070\n",
      "Epoch 37 / 200 (train) Loss: 0.2466, Acc: 0.9254, (val) Loss: 0.2822, Acc: 0.9085\n",
      "Epoch 38 / 200 (train) Loss: 0.2429, Acc: 0.9267, (val) Loss: 0.2814, Acc: 0.9078\n",
      "Epoch 39 / 200 (train) Loss: 0.2390, Acc: 0.9281, (val) Loss: 0.2798, Acc: 0.9078\n",
      "Epoch 40 / 200 (train) Loss: 0.2354, Acc: 0.9288, (val) Loss: 0.2775, Acc: 0.9085\n",
      "Epoch 41 / 200 (train) Loss: 0.2325, Acc: 0.9293, (val) Loss: 0.2759, Acc: 0.9078\n",
      "Epoch 42 / 200 (train) Loss: 0.2290, Acc: 0.9306, (val) Loss: 0.2742, Acc: 0.9085\n",
      "Epoch 43 / 200 (train) Loss: 0.2253, Acc: 0.9316, (val) Loss: 0.2730, Acc: 0.9078\n",
      "Epoch 44 / 200 (train) Loss: 0.2223, Acc: 0.9322, (val) Loss: 0.2718, Acc: 0.9085\n",
      "Epoch 45 / 200 (train) Loss: 0.2193, Acc: 0.9329, (val) Loss: 0.2705, Acc: 0.9085\n",
      "Epoch 46 / 200 (train) Loss: 0.2163, Acc: 0.9344, (val) Loss: 0.2690, Acc: 0.9085\n",
      "Epoch 47 / 200 (train) Loss: 0.2134, Acc: 0.9343, (val) Loss: 0.2678, Acc: 0.9100\n",
      "Epoch 48 / 200 (train) Loss: 0.2105, Acc: 0.9353, (val) Loss: 0.2666, Acc: 0.9100\n",
      "Epoch 49 / 200 (train) Loss: 0.2076, Acc: 0.9366, (val) Loss: 0.2655, Acc: 0.9108\n",
      "Epoch 50 / 200 (train) Loss: 0.2047, Acc: 0.9385, (val) Loss: 0.2649, Acc: 0.9093\n",
      "Epoch 51 / 200 (train) Loss: 0.2020, Acc: 0.9397, (val) Loss: 0.2640, Acc: 0.9085\n",
      "Epoch 52 / 200 (train) Loss: 0.1994, Acc: 0.9411, (val) Loss: 0.2632, Acc: 0.9085\n",
      "Epoch 53 / 200 (train) Loss: 0.1967, Acc: 0.9429, (val) Loss: 0.2620, Acc: 0.9085\n",
      "Epoch 54 / 200 (train) Loss: 0.1941, Acc: 0.9433, (val) Loss: 0.2611, Acc: 0.9108\n",
      "Epoch 55 / 200 (train) Loss: 0.1918, Acc: 0.9439, (val) Loss: 0.2603, Acc: 0.9108\n",
      "Epoch 56 / 200 (train) Loss: 0.1894, Acc: 0.9442, (val) Loss: 0.2600, Acc: 0.9108\n",
      "Epoch 57 / 200 (train) Loss: 0.1869, Acc: 0.9459, (val) Loss: 0.2597, Acc: 0.9078\n",
      "Epoch 58 / 200 (train) Loss: 0.1845, Acc: 0.9458, (val) Loss: 0.2589, Acc: 0.9093\n",
      "Epoch 59 / 200 (train) Loss: 0.1821, Acc: 0.9473, (val) Loss: 0.2577, Acc: 0.9108\n",
      "Epoch 60 / 200 (train) Loss: 0.1800, Acc: 0.9484, (val) Loss: 0.2570, Acc: 0.9085\n",
      "Epoch 61 / 200 (train) Loss: 0.1773, Acc: 0.9487, (val) Loss: 0.2568, Acc: 0.9070\n",
      "Epoch 62 / 200 (train) Loss: 0.1752, Acc: 0.9497, (val) Loss: 0.2571, Acc: 0.9070\n",
      "Epoch 63 / 200 (train) Loss: 0.1731, Acc: 0.9512, (val) Loss: 0.2567, Acc: 0.9093\n",
      "Epoch 64 / 200 (train) Loss: 0.1719, Acc: 0.9515, (val) Loss: 0.2561, Acc: 0.9100\n",
      "Epoch 65 / 200 (train) Loss: 0.1689, Acc: 0.9526, (val) Loss: 0.2555, Acc: 0.9108\n",
      "Epoch 66 / 200 (train) Loss: 0.1672, Acc: 0.9520, (val) Loss: 0.2552, Acc: 0.9093\n",
      "Epoch 67 / 200 (train) Loss: 0.1646, Acc: 0.9542, (val) Loss: 0.2550, Acc: 0.9070\n",
      "Epoch 68 / 200 (train) Loss: 0.1630, Acc: 0.9546, (val) Loss: 0.2544, Acc: 0.9048\n",
      "Epoch 69 / 200 (train) Loss: 0.1614, Acc: 0.9559, (val) Loss: 0.2542, Acc: 0.9078\n",
      "Epoch 70 / 200 (train) Loss: 0.1588, Acc: 0.9561, (val) Loss: 0.2535, Acc: 0.9070\n",
      "Epoch 71 / 200 (train) Loss: 0.1567, Acc: 0.9570, (val) Loss: 0.2532, Acc: 0.9093\n",
      "Epoch 72 / 200 (train) Loss: 0.1552, Acc: 0.9585, (val) Loss: 0.2528, Acc: 0.9093\n",
      "Epoch 73 / 200 (train) Loss: 0.1531, Acc: 0.9574, (val) Loss: 0.2526, Acc: 0.9093\n",
      "Epoch 74 / 200 (train) Loss: 0.1511, Acc: 0.9588, (val) Loss: 0.2523, Acc: 0.9085\n",
      "Epoch 75 / 200 (train) Loss: 0.1500, Acc: 0.9595, (val) Loss: 0.2516, Acc: 0.9093\n",
      "Epoch 76 / 200 (train) Loss: 0.1477, Acc: 0.9606, (val) Loss: 0.2515, Acc: 0.9093\n",
      "Epoch 77 / 200 (train) Loss: 0.1461, Acc: 0.9604, (val) Loss: 0.2519, Acc: 0.9108\n",
      "Epoch 78 / 200 (train) Loss: 0.1445, Acc: 0.9614, (val) Loss: 0.2520, Acc: 0.9085\n",
      "Epoch 79 / 200 (train) Loss: 0.1428, Acc: 0.9635, (val) Loss: 0.2518, Acc: 0.9093\n",
      "Epoch 80 / 200 (train) Loss: 0.1409, Acc: 0.9645, (val) Loss: 0.2507, Acc: 0.9100\n",
      "Epoch 81 / 200 (train) Loss: 0.1394, Acc: 0.9641, (val) Loss: 0.2505, Acc: 0.9093\n",
      "Epoch 82 / 200 (train) Loss: 0.1380, Acc: 0.9641, (val) Loss: 0.2505, Acc: 0.9070\n",
      "Epoch 83 / 200 (train) Loss: 0.1360, Acc: 0.9653, (val) Loss: 0.2498, Acc: 0.9093\n",
      "Epoch 84 / 200 (train) Loss: 0.1351, Acc: 0.9669, (val) Loss: 0.2499, Acc: 0.9100\n",
      "Epoch 85 / 200 (train) Loss: 0.1329, Acc: 0.9665, (val) Loss: 0.2496, Acc: 0.9100\n",
      "Epoch 86 / 200 (train) Loss: 0.1316, Acc: 0.9671, (val) Loss: 0.2495, Acc: 0.9093\n",
      "Epoch 87 / 200 (train) Loss: 0.1303, Acc: 0.9669, (val) Loss: 0.2496, Acc: 0.9108\n",
      "Epoch 88 / 200 (train) Loss: 0.1290, Acc: 0.9681, (val) Loss: 0.2495, Acc: 0.9108\n",
      "Epoch 89 / 200 (train) Loss: 0.1273, Acc: 0.9682, (val) Loss: 0.2491, Acc: 0.9115\n",
      "Epoch 90 / 200 (train) Loss: 0.1262, Acc: 0.9695, (val) Loss: 0.2486, Acc: 0.9123\n",
      "Epoch 91 / 200 (train) Loss: 0.1249, Acc: 0.9697, (val) Loss: 0.2485, Acc: 0.9100\n",
      "Epoch 92 / 200 (train) Loss: 0.1231, Acc: 0.9708, (val) Loss: 0.2486, Acc: 0.9100\n",
      "Epoch 93 / 200 (train) Loss: 0.1215, Acc: 0.9711, (val) Loss: 0.2490, Acc: 0.9115\n",
      "Epoch 94 / 200 (train) Loss: 0.1205, Acc: 0.9714, (val) Loss: 0.2494, Acc: 0.9108\n",
      "Epoch 95 / 200 (train) Loss: 0.1194, Acc: 0.9717, (val) Loss: 0.2493, Acc: 0.9108\n",
      "Epoch 96 / 200 (train) Loss: 0.1185, Acc: 0.9725, (val) Loss: 0.2494, Acc: 0.9093\n",
      "Epoch 97 / 200 (train) Loss: 0.1169, Acc: 0.9730, (val) Loss: 0.2491, Acc: 0.9100\n",
      "Epoch 98 / 200 (train) Loss: 0.1155, Acc: 0.9736, (val) Loss: 0.2484, Acc: 0.9100\n",
      "Epoch 99 / 200 (train) Loss: 0.1150, Acc: 0.9740, (val) Loss: 0.2485, Acc: 0.9100\n",
      "Epoch 100 / 200 (train) Loss: 0.1130, Acc: 0.9749, (val) Loss: 0.2488, Acc: 0.9093\n",
      "Epoch 101 / 200 (train) Loss: 0.1120, Acc: 0.9759, (val) Loss: 0.2490, Acc: 0.9123\n",
      "Epoch 102 / 200 (train) Loss: 0.1112, Acc: 0.9752, (val) Loss: 0.2489, Acc: 0.9130\n",
      "Epoch 103 / 200 (train) Loss: 0.1100, Acc: 0.9770, (val) Loss: 0.2489, Acc: 0.9123\n",
      "Epoch 104 / 200 (train) Loss: 0.1085, Acc: 0.9767, (val) Loss: 0.2490, Acc: 0.9100\n",
      "Epoch 105 / 200 (train) Loss: 0.1074, Acc: 0.9784, (val) Loss: 0.2492, Acc: 0.9100\n",
      "Epoch 106 / 200 (train) Loss: 0.1069, Acc: 0.9786, (val) Loss: 0.2491, Acc: 0.9100\n",
      "Epoch 107 / 200 (train) Loss: 0.1052, Acc: 0.9782, (val) Loss: 0.2494, Acc: 0.9115\n",
      "Epoch 108 / 200 (train) Loss: 0.1042, Acc: 0.9789, (val) Loss: 0.2493, Acc: 0.9115\n",
      "Epoch 109 / 200 (train) Loss: 0.1037, Acc: 0.9794, (val) Loss: 0.2493, Acc: 0.9115\n",
      "Epoch 110 / 200 (train) Loss: 0.1028, Acc: 0.9801, (val) Loss: 0.2491, Acc: 0.9123\n",
      "Epoch 111 / 200 (train) Loss: 0.1016, Acc: 0.9793, (val) Loss: 0.2494, Acc: 0.9123\n",
      "Epoch 112 / 200 (train) Loss: 0.1009, Acc: 0.9798, (val) Loss: 0.2496, Acc: 0.9130\n",
      "Epoch 113 / 200 (train) Loss: 0.0999, Acc: 0.9802, (val) Loss: 0.2494, Acc: 0.9108\n",
      "Epoch 114 / 200 (train) Loss: 0.0988, Acc: 0.9811, (val) Loss: 0.2493, Acc: 0.9115\n",
      "Epoch 115 / 200 (train) Loss: 0.0981, Acc: 0.9810, (val) Loss: 0.2492, Acc: 0.9115\n",
      "Epoch 116 / 200 (train) Loss: 0.0974, Acc: 0.9814, (val) Loss: 0.2492, Acc: 0.9115\n",
      "Epoch 117 / 200 (train) Loss: 0.0968, Acc: 0.9820, (val) Loss: 0.2490, Acc: 0.9115\n",
      "Epoch 118 / 200 (train) Loss: 0.0958, Acc: 0.9810, (val) Loss: 0.2488, Acc: 0.9115\n",
      "Epoch 119 / 200 (train) Loss: 0.0955, Acc: 0.9816, (val) Loss: 0.2487, Acc: 0.9115\n",
      "Epoch 120 / 200 (train) Loss: 0.0941, Acc: 0.9825, (val) Loss: 0.2489, Acc: 0.9115\n",
      "Epoch 121 / 200 (train) Loss: 0.0935, Acc: 0.9821, (val) Loss: 0.2490, Acc: 0.9115\n",
      "Epoch 122 / 200 (train) Loss: 0.0925, Acc: 0.9828, (val) Loss: 0.2493, Acc: 0.9115\n",
      "Epoch 123 / 200 (train) Loss: 0.0921, Acc: 0.9822, (val) Loss: 0.2495, Acc: 0.9123\n",
      "Epoch 124 / 200 (train) Loss: 0.0918, Acc: 0.9827, (val) Loss: 0.2497, Acc: 0.9123\n",
      "Epoch 125 / 200 (train) Loss: 0.0905, Acc: 0.9841, (val) Loss: 0.2495, Acc: 0.9123\n",
      "Epoch 126 / 200 (train) Loss: 0.0902, Acc: 0.9838, (val) Loss: 0.2496, Acc: 0.9108\n",
      "Epoch 127 / 200 (train) Loss: 0.0892, Acc: 0.9845, (val) Loss: 0.2496, Acc: 0.9115\n",
      "Epoch 128 / 200 (train) Loss: 0.0886, Acc: 0.9844, (val) Loss: 0.2496, Acc: 0.9130\n",
      "Epoch 129 / 200 (train) Loss: 0.0882, Acc: 0.9840, (val) Loss: 0.2493, Acc: 0.9123\n",
      "Epoch 130 / 200 (train) Loss: 0.0875, Acc: 0.9848, (val) Loss: 0.2492, Acc: 0.9123\n",
      "Epoch 131 / 200 (train) Loss: 0.0869, Acc: 0.9850, (val) Loss: 0.2492, Acc: 0.9123\n",
      "Epoch 132 / 200 (train) Loss: 0.0865, Acc: 0.9850, (val) Loss: 0.2493, Acc: 0.9130\n",
      "Epoch 133 / 200 (train) Loss: 0.0858, Acc: 0.9848, (val) Loss: 0.2495, Acc: 0.9138\n",
      "Epoch 134 / 200 (train) Loss: 0.0853, Acc: 0.9853, (val) Loss: 0.2495, Acc: 0.9123\n",
      "Epoch 135 / 200 (train) Loss: 0.0846, Acc: 0.9851, (val) Loss: 0.2494, Acc: 0.9123\n",
      "Epoch 136 / 200 (train) Loss: 0.0850, Acc: 0.9851, (val) Loss: 0.2493, Acc: 0.9115\n",
      "Epoch 137 / 200 (train) Loss: 0.0839, Acc: 0.9854, (val) Loss: 0.2495, Acc: 0.9123\n",
      "Epoch 138 / 200 (train) Loss: 0.0835, Acc: 0.9858, (val) Loss: 0.2493, Acc: 0.9123\n",
      "Epoch 139 / 200 (train) Loss: 0.0828, Acc: 0.9862, (val) Loss: 0.2493, Acc: 0.9123\n",
      "Epoch 140 / 200 (train) Loss: 0.0822, Acc: 0.9860, (val) Loss: 0.2495, Acc: 0.9115\n",
      "Epoch 141 / 200 (train) Loss: 0.0827, Acc: 0.9856, (val) Loss: 0.2493, Acc: 0.9115\n",
      "Epoch 142 / 200 (train) Loss: 0.0818, Acc: 0.9866, (val) Loss: 0.2494, Acc: 0.9123\n",
      "Epoch 143 / 200 (train) Loss: 0.0813, Acc: 0.9871, (val) Loss: 0.2497, Acc: 0.9115\n",
      "Epoch 144 / 200 (train) Loss: 0.0810, Acc: 0.9861, (val) Loss: 0.2497, Acc: 0.9108\n",
      "Epoch 145 / 200 (train) Loss: 0.0804, Acc: 0.9865, (val) Loss: 0.2498, Acc: 0.9115\n",
      "Epoch 146 / 200 (train) Loss: 0.0804, Acc: 0.9868, (val) Loss: 0.2496, Acc: 0.9115\n",
      "Epoch 147 / 200 (train) Loss: 0.0796, Acc: 0.9876, (val) Loss: 0.2492, Acc: 0.9123\n",
      "Epoch 148 / 200 (train) Loss: 0.0795, Acc: 0.9870, (val) Loss: 0.2492, Acc: 0.9123\n",
      "Epoch 149 / 200 (train) Loss: 0.0797, Acc: 0.9866, (val) Loss: 0.2494, Acc: 0.9115\n",
      "Epoch 150 / 200 (train) Loss: 0.0789, Acc: 0.9872, (val) Loss: 0.2494, Acc: 0.9115\n",
      "Epoch 151 / 200 (train) Loss: 0.0789, Acc: 0.9877, (val) Loss: 0.2496, Acc: 0.9108\n",
      "Epoch 152 / 200 (train) Loss: 0.0783, Acc: 0.9874, (val) Loss: 0.2497, Acc: 0.9115\n",
      "Epoch 153 / 200 (train) Loss: 0.0777, Acc: 0.9877, (val) Loss: 0.2498, Acc: 0.9108\n",
      "Epoch 154 / 200 (train) Loss: 0.0779, Acc: 0.9873, (val) Loss: 0.2500, Acc: 0.9123\n",
      "Epoch 155 / 200 (train) Loss: 0.0778, Acc: 0.9874, (val) Loss: 0.2502, Acc: 0.9115\n",
      "Epoch 156 / 200 (train) Loss: 0.0771, Acc: 0.9881, (val) Loss: 0.2501, Acc: 0.9123\n",
      "Epoch 157 / 200 (train) Loss: 0.0770, Acc: 0.9881, (val) Loss: 0.2500, Acc: 0.9123\n",
      "Epoch 158 / 200 (train) Loss: 0.0766, Acc: 0.9882, (val) Loss: 0.2499, Acc: 0.9123\n",
      "Epoch 159 / 200 (train) Loss: 0.0767, Acc: 0.9880, (val) Loss: 0.2498, Acc: 0.9108\n",
      "Epoch 160 / 200 (train) Loss: 0.0762, Acc: 0.9886, (val) Loss: 0.2499, Acc: 0.9108\n",
      "Epoch 161 / 200 (train) Loss: 0.0763, Acc: 0.9880, (val) Loss: 0.2498, Acc: 0.9115\n",
      "Epoch 162 / 200 (train) Loss: 0.0756, Acc: 0.9884, (val) Loss: 0.2498, Acc: 0.9115\n",
      "Epoch 163 / 200 (train) Loss: 0.0758, Acc: 0.9877, (val) Loss: 0.2497, Acc: 0.9115\n",
      "Epoch 164 / 200 (train) Loss: 0.0756, Acc: 0.9884, (val) Loss: 0.2496, Acc: 0.9115\n",
      "Epoch 165 / 200 (train) Loss: 0.0752, Acc: 0.9888, (val) Loss: 0.2498, Acc: 0.9108\n",
      "Epoch 166 / 200 (train) Loss: 0.0750, Acc: 0.9887, (val) Loss: 0.2497, Acc: 0.9115\n",
      "Epoch 167 / 200 (train) Loss: 0.0753, Acc: 0.9884, (val) Loss: 0.2497, Acc: 0.9115\n",
      "Epoch 168 / 200 (train) Loss: 0.0751, Acc: 0.9887, (val) Loss: 0.2499, Acc: 0.9123\n",
      "Epoch 169 / 200 (train) Loss: 0.0746, Acc: 0.9886, (val) Loss: 0.2498, Acc: 0.9115\n",
      "Epoch 170 / 200 (train) Loss: 0.0743, Acc: 0.9884, (val) Loss: 0.2497, Acc: 0.9115\n",
      "Epoch 171 / 200 (train) Loss: 0.0746, Acc: 0.9884, (val) Loss: 0.2499, Acc: 0.9115\n",
      "Epoch 172 / 200 (train) Loss: 0.0742, Acc: 0.9888, (val) Loss: 0.2498, Acc: 0.9115\n",
      "Epoch 173 / 200 (train) Loss: 0.0742, Acc: 0.9890, (val) Loss: 0.2497, Acc: 0.9115\n",
      "Epoch 174 / 200 (train) Loss: 0.0738, Acc: 0.9888, (val) Loss: 0.2498, Acc: 0.9115\n",
      "Epoch 175 / 200 (train) Loss: 0.0741, Acc: 0.9885, (val) Loss: 0.2498, Acc: 0.9115\n",
      "Epoch 176 / 200 (train) Loss: 0.0738, Acc: 0.9888, (val) Loss: 0.2498, Acc: 0.9123\n",
      "Epoch 177 / 200 (train) Loss: 0.0740, Acc: 0.9891, (val) Loss: 0.2497, Acc: 0.9115\n",
      "Epoch 178 / 200 (train) Loss: 0.0742, Acc: 0.9889, (val) Loss: 0.2499, Acc: 0.9115\n",
      "Epoch 179 / 200 (train) Loss: 0.0735, Acc: 0.9886, (val) Loss: 0.2499, Acc: 0.9115\n",
      "Epoch 180 / 200 (train) Loss: 0.0735, Acc: 0.9895, (val) Loss: 0.2501, Acc: 0.9108\n",
      "Epoch 181 / 200 (train) Loss: 0.0735, Acc: 0.9894, (val) Loss: 0.2501, Acc: 0.9115\n",
      "Epoch 182 / 200 (train) Loss: 0.0733, Acc: 0.9891, (val) Loss: 0.2499, Acc: 0.9115\n",
      "Epoch 183 / 200 (train) Loss: 0.0738, Acc: 0.9890, (val) Loss: 0.2498, Acc: 0.9115\n",
      "Epoch 184 / 200 (train) Loss: 0.0737, Acc: 0.9890, (val) Loss: 0.2499, Acc: 0.9115\n",
      "Epoch 185 / 200 (train) Loss: 0.0731, Acc: 0.9892, (val) Loss: 0.2500, Acc: 0.9115\n",
      "Epoch 186 / 200 (train) Loss: 0.0734, Acc: 0.9892, (val) Loss: 0.2500, Acc: 0.9115\n",
      "Epoch 187 / 200 (train) Loss: 0.0733, Acc: 0.9893, (val) Loss: 0.2499, Acc: 0.9115\n",
      "Epoch 188 / 200 (train) Loss: 0.0730, Acc: 0.9894, (val) Loss: 0.2501, Acc: 0.9115\n",
      "Epoch 189 / 200 (train) Loss: 0.0730, Acc: 0.9891, (val) Loss: 0.2500, Acc: 0.9115\n",
      "Epoch 190 / 200 (train) Loss: 0.0727, Acc: 0.9888, (val) Loss: 0.2500, Acc: 0.9108\n",
      "Epoch 191 / 200 (train) Loss: 0.0727, Acc: 0.9891, (val) Loss: 0.2500, Acc: 0.9115\n",
      "Epoch 192 / 200 (train) Loss: 0.0727, Acc: 0.9889, (val) Loss: 0.2501, Acc: 0.9108\n",
      "Epoch 193 / 200 (train) Loss: 0.0728, Acc: 0.9894, (val) Loss: 0.2500, Acc: 0.9115\n",
      "Epoch 194 / 200 (train) Loss: 0.0729, Acc: 0.9892, (val) Loss: 0.2500, Acc: 0.9108\n",
      "Epoch 195 / 200 (train) Loss: 0.0729, Acc: 0.9891, (val) Loss: 0.2502, Acc: 0.9115\n",
      "Epoch 196 / 200 (train) Loss: 0.0726, Acc: 0.9892, (val) Loss: 0.2500, Acc: 0.9108\n",
      "Epoch 197 / 200 (train) Loss: 0.0731, Acc: 0.9889, (val) Loss: 0.2502, Acc: 0.9115\n",
      "Epoch 198 / 200 (train) Loss: 0.0738, Acc: 0.9885, (val) Loss: 0.2500, Acc: 0.9115\n",
      "Epoch 199 / 200 (train) Loss: 0.0727, Acc: 0.9895, (val) Loss: 0.2503, Acc: 0.9115\n",
      "Epoch 200 / 200 (train) Loss: 0.0734, Acc: 0.9894, (val) Loss: 0.2502, Acc: 0.9115\n"
     ]
    }
   ],
   "source": [
    "# 学習用の関数を定義\n",
    "def train_model(net, dataloaders_dict, criterion, optimizer, num_epochs):\n",
    "    \n",
    "    # 初期設定\n",
    "    # GPUが使えるか確認\n",
    "    device = torch.device(\"cuda:0\" if torch.cuda.is_available() else \"cpu\")\n",
    "    print(\"使用デバイス:\", device)\n",
    "    \n",
    "    # ネットワークをgpuへ\n",
    "    net.to(device)\n",
    "    \n",
    "    # ネットワークがある程度固定なら高速化させる\n",
    "    torch.backends.cudnn.benchmark = False\n",
    "    torch.backends.cudnn.deterministic = True\n",
    "    \n",
    "    train_loss = []\n",
    "    train_acc = []\n",
    "    valid_loss = []\n",
    "    valid_acc = []\n",
    "    scheduler = torch.optim.lr_scheduler.CosineAnnealingLR(optimizer, num_epochs, eta_min=1e-6, last_epoch=-1)\n",
    "    \n",
    "    # epochのループ\n",
    "    for epoch in range(num_epochs):\n",
    "        # epochごとの学習と検証のループ\n",
    "        for phase in ['train', 'val']:\n",
    "            if phase == 'train':\n",
    "                net.train() # 訓練モード\n",
    "            else:\n",
    "                net.eval() # 検証モード\n",
    "            \n",
    "            epoch_loss = 0.0 # epochの損失和\n",
    "            epoch_corrects = 0 # epochの正解数\n",
    "            \n",
    "            # データローダーからミニバッチを取り出すループ\n",
    "            for inputs, labels in dataloaders_dict[phase]:\n",
    "                # GPUが使えるならGPUにおっくる\n",
    "                inputs = inputs.to(device)\n",
    "                labels = labels.to(device)\n",
    "                optimizer.zero_grad() # optimizerを初期化\n",
    "                \n",
    "                # 順伝播計算(forward)\n",
    "                with torch.set_grad_enabled(phase == 'train'):\n",
    "                    outputs = net(inputs)\n",
    "                    loss = criterion(outputs, labels) # 損失を計算\n",
    "                    _, preds = torch.max(outputs, 1) # ラベルを予想\n",
    "                    \n",
    "                    # 訓練時は逆伝播\n",
    "                    if phase == 'train':\n",
    "                        loss.backward()\n",
    "                        optimizer.step()\n",
    "                    \n",
    "                    # イテレーション結果の計算\n",
    "                    # lossの合計を更新\n",
    "                    epoch_loss += loss.item() * inputs.size(0)\n",
    "                    # 正解数の合計を更新\n",
    "                    epoch_corrects += torch.sum(preds == labels.data)\n",
    "            \n",
    "            # epochごとのlossと正解率の表示\n",
    "            epoch_loss = epoch_loss / len(dataloaders_dict[phase].dataset)\n",
    "            epoch_acc = epoch_corrects.double() / len(dataloaders_dict[phase].dataset)\n",
    "            if phase == 'train':\n",
    "                train_loss.append(epoch_loss)\n",
    "                train_acc.append(epoch_acc.cpu())\n",
    "            else:\n",
    "                valid_loss.append(epoch_loss)\n",
    "                valid_acc.append(epoch_acc.cpu())\n",
    "            \n",
    "        print('Epoch {} / {} (train) Loss: {:.4f}, Acc: {:.4f}, (val) Loss: {:.4f}, Acc: {:.4f}'.format(epoch + 1, num_epochs, train_loss[-1], train_acc[-1], valid_loss[-1], valid_acc[-1]))\n",
    "        scheduler.step()\n",
    "    return train_loss, train_acc, valid_loss, valid_acc\n",
    "\n",
    "batch_size = 2048\n",
    "num_epochs = 200\n",
    "\n",
    "# DataLoaderを作成\n",
    "train_dataloader = data.DataLoader(\n",
    "            train_dataset, batch_size=batch_size, shuffle=True)\n",
    "valid_dataloader = data.DataLoader(\n",
    "            valid_dataset, batch_size=len(valid_dataset), shuffle=False)\n",
    "test_dataloader = data.DataLoader(\n",
    "            test_dataset, batch_size=len(test_dataset), shuffle=False)\n",
    "\n",
    "dataloaders_dict = {'train': train_dataloader,\n",
    "                    'val': valid_dataloader,\n",
    "                    'test': test_dataloader,\n",
    "                   }\n",
    "# モデルの定義\n",
    "net = MLNet(300, 256, 4)\n",
    "net.train()\n",
    "\n",
    "# 損失関数の定義\n",
    "criterion = nn.CrossEntropyLoss()\n",
    "\n",
    "# 最適化手法の定義\n",
    "optimizer = torch.optim.Adam(net.parameters(), lr=0.0001)\n",
    "\n",
    "train_loss, train_acc, valid_loss, valid_acc = \\\n",
    "            train_model(net, dataloaders_dict, criterion, optimizer,\n",
    "                        num_epochs=num_epochs)"
   ]
  },
  {
   "cell_type": "code",
   "execution_count": 21,
   "metadata": {},
   "outputs": [
    {
     "name": "stdout",
     "output_type": "stream",
     "text": [
      "学習データの正解率: 0.9891\n",
      "検証データの正解率: 0.9115\n",
      "テストデータの正解率: 0.9063\n"
     ]
    },
    {
     "data": {
      "image/png": "[encoded data removed]",
      "text/plain": [
       "<Figure size 720x360 with 2 Axes>"
      ]
     },
     "metadata": {
      "needs_background": "light"
     },
     "output_type": "display_data"
    }
   ],
   "source": [
    "def calc_acc(net, dataloader):\n",
    "    device = torch.device(\"cuda:0\" if torch.cuda.is_available() else \"cpu\")\n",
    "    net.eval()\n",
    "    corrects = 0\n",
    "    with torch.no_grad():\n",
    "        for inputs, labels in dataloader:\n",
    "            inputs = inputs.to(device)\n",
    "            labels = labels.to(device)\n",
    "            outputs = net(inputs)\n",
    "            _, preds = torch.max(outputs, 1) # ラベルを予想\n",
    "            corrects += torch.sum(preds == labels.data).cpu()\n",
    "    return corrects / len(dataloader.dataset)\n",
    "\n",
    "acc_train = calc_acc(net, train_dataloader)\n",
    "acc_valid = calc_acc(net, valid_dataloader)\n",
    "acc_test = calc_acc(net, test_dataloader)\n",
    "print('学習データの正解率: {:.4f}'.format(acc_train))\n",
    "print('検証データの正解率: {:.4f}'.format(acc_valid))\n",
    "print('テストデータの正解率: {:.4f}'.format(acc_test))\n",
    "\n",
    "fig, ax = plt.subplots(1,2, figsize=(10, 5))\n",
    "epochs = np.arange(num_epochs)\n",
    "ax[0].plot(epochs, train_loss, label='train')\n",
    "ax[0].plot(epochs, valid_loss, label='valid')\n",
    "ax[0].set_title('loss')\n",
    "ax[0].set_xlabel('epoch')\n",
    "ax[0].set_ylabel('loss')\n",
    "ax[1].plot(epochs, train_acc, label='train')\n",
    "ax[1].plot(epochs, valid_acc, label='valid')\n",
    "ax[1].set_title('acc')\n",
    "ax[1].set_xlabel('epoch')\n",
    "ax[1].set_ylabel('acc')\n",
    "ax[0].legend(loc='best')\n",
    "ax[1].legend(loc='best')\n",
    "plt.tight_layout()\n",
    "plt.savefig('fig79.png')\n",
    "plt.show()"
   ]
  }
 ],
 "metadata": {
  "kernelspec": {
   "display_name": "Python 3",
   "language": "python",
   "name": "python3"
  },
  "language_info": {
   "codemirror_mode": {
    "name": "ipython",
    "version": 3
   },
   "file_extension": ".py",
   "mimetype": "text/x-python",
   "name": "python",
   "nbconvert_exporter": "python",
   "pygments_lexer": "ipython3",
   "version": "3.6.9"
  },
  "orig_nbformat": 4
 },
 "nbformat": 4,
 "nbformat_minor": 2
}
