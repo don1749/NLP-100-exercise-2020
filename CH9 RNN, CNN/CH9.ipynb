{
 "cells": [
  {
   "cell_type": "markdown",
   "metadata": {},
   "source": [
    "# 前半"
   ]
  },
  {
   "cell_type": "code",
   "execution_count": 3,
   "metadata": {},
   "outputs": [
    {
     "name": "stdout",
     "output_type": "stream",
     "text": [
      "学習データ\n",
      "b    4502\n",
      "e    4223\n",
      "t    1219\n",
      "m     728\n",
      "Name: CATEGORY, dtype: int64\n",
      "検証データ\n",
      "b    562\n",
      "e    528\n",
      "t    153\n",
      "m     91\n",
      "Name: CATEGORY, dtype: int64\n",
      "評価データ\n",
      "b    563\n",
      "e    528\n",
      "t    152\n",
      "m     91\n",
      "Name: CATEGORY, dtype: int64\n"
     ]
    }
   ],
   "source": [
    "# データのロード\n",
    "import pandas as pd\n",
    "import re\n",
    "import numpy as np\n",
    "\n",
    "# ファイル読み込み\n",
    "file = '/work/NLP-100-exercise-2020/CH6 Machine-learning/newsCorpora.csv'\n",
    "data = pd.read_csv(file, encoding='utf-8', header=None, sep='\\t', names=['ID', 'TITLE', 'URL', 'PUBLISHER', 'CATEGORY', 'STORY', 'HOSTNAME', 'TIMESTAMP'])\n",
    "data = data.replace('\"', \"'\")\n",
    "# 特定のpublisherのみ抽出\n",
    "publishers = ['Reuters', 'Huffington Post', 'Businessweek', 'Contactmusic.com', 'Daily Mail']\n",
    "data = data.loc[data['PUBLISHER'].isin(publishers), ['TITLE', 'CATEGORY']].reset_index(drop=True)\n",
    "\n",
    "# 前処理\n",
    "def preprocessing(text):\n",
    "    text_clean = re.sub(r'[\\\"\\'.,:;\\(\\)#\\|\\*\\+\\!\\?#$%&/\\]\\[\\{\\}]', '', text)\n",
    "    text_clean = re.sub('[0-9]+', '0', text_clean)\n",
    "    text_clean = re.sub('\\s-\\s', ' ', text_clean)\n",
    "    return text_clean\n",
    "\n",
    "data['TITLE'] = data['TITLE'].apply(preprocessing)\n",
    "\n",
    "# 学習用、検証用、評価用に分割する\n",
    "from sklearn.model_selection import train_test_split\n",
    "\n",
    "train, valid_test = train_test_split(data, test_size=0.2, shuffle=True, random_state=64, stratify=data['CATEGORY'])\n",
    "valid, test = train_test_split(valid_test, test_size=0.5, shuffle=True, random_state=64, stratify=valid_test['CATEGORY'])\n",
    "\n",
    "train = train.reset_index(drop=True)\n",
    "valid = valid.reset_index(drop=True)\n",
    "test = test.reset_index(drop=True)\n",
    "\n",
    "# データ数の確認\n",
    "print('学習データ')\n",
    "print(train['CATEGORY'].value_counts())\n",
    "print('検証データ')\n",
    "print(valid['CATEGORY'].value_counts())\n",
    "print('評価データ')\n",
    "print(test['CATEGORY'].value_counts())"
   ]
  },
  {
   "cell_type": "code",
   "execution_count": 4,
   "metadata": {},
   "outputs": [
    {
     "name": "stdout",
     "output_type": "stream",
     "text": [
      "to 1\n",
      "0 2\n",
      "in 3\n",
      "as 4\n",
      "on 5\n",
      "UPDATE 6\n",
      "for 7\n",
      "The 8\n",
      "of 9\n",
      "US 10\n"
     ]
    }
   ],
   "source": [
    "# 単語の辞書を作成\n",
    "from collections import Counter\n",
    "words = []\n",
    "for text in train['TITLE']:\n",
    "    for word in text.rstrip().split():\n",
    "        words.append(word)\n",
    "c = Counter(words)\n",
    "word2id = {}\n",
    "for i, cnt in enumerate(c.most_common()):\n",
    "    if cnt[1] > 1:\n",
    "        word2id[cnt[0]] = i + 1\n",
    "for i, cnt in enumerate(word2id.items()):\n",
    "    if i >= 10:\n",
    "        break\n",
    "    print(cnt[0], cnt[1])"
   ]
  },
  {
   "cell_type": "code",
   "execution_count": 5,
   "metadata": {},
   "outputs": [
    {
     "name": "stdout",
     "output_type": "stream",
     "text": [
      "Justin Bieber Under Investigation For Attempted Robbery At Dave  Busters\n",
      "[68, 76, 782, 1974, 21, 5054, 5055, 34, 1602, 0]\n"
     ]
    }
   ],
   "source": [
    "# 単語のID化\n",
    "def tokenizer(text):\n",
    "    words = text.rstrip().split()\n",
    "    return [word2id.get(word, 0) for word in words]\n",
    "\n",
    "sample = train.at[0, 'TITLE']\n",
    "print(sample)\n",
    "print(tokenizer(sample))"
   ]
  },
  {
   "cell_type": "code",
   "execution_count": 6,
   "metadata": {},
   "outputs": [
    {
     "name": "stdout",
     "output_type": "stream",
     "text": [
      "tensor([[-2.2300, -0.5251,  0.2641],\n",
      "        [ 0.7557,  0.5751, -0.9983],\n",
      "        [-2.3014,  0.2651, -1.2018],\n",
      "        [-0.8029,  0.8085,  0.3330],\n",
      "        [-2.2300, -0.5251,  0.2641],\n",
      "        [-0.8029,  0.8085,  0.3330]], grad_fn=<EmbeddingBackward0>)\n",
      "torch.Size([6]) -> torch.Size([6, 3])\n"
     ]
    }
   ],
   "source": [
    "import torch\n",
    "from torch import nn\n",
    "\n",
    "VOCAB_SIZE = 4\n",
    "EMB_SIZE = 3\n",
    "emb = nn.Embedding(VOCAB_SIZE, EMB_SIZE)\n",
    "\n",
    "words = torch.tensor([1, 3, 0, 2, 1, 2])\n",
    "embed_words = emb(words)\n",
    "print(embed_words)\n",
    "print(words.shape, '->', embed_words.shape)"
   ]
  },
  {
   "cell_type": "code",
   "execution_count": 7,
   "metadata": {},
   "outputs": [
    {
     "name": "stdout",
     "output_type": "stream",
     "text": [
      "RNN(\n",
      "  (emb): Embedding(9725, 300, padding_idx=9724)\n",
      "  (rnn): LSTM(300, 50, batch_first=True)\n",
      "  (fc): Linear(in_features=50, out_features=4, bias=True)\n",
      ")\n"
     ]
    }
   ],
   "source": [
    "# RNNの作成\n",
    "# モデルの構築\n",
    "import random\n",
    "import torch\n",
    "from torch import nn\n",
    "import torch.utils.data as data\n",
    "from torchinfo import summary\n",
    "\n",
    "# 乱数のシードを設定\n",
    "# parserなどで指定\n",
    "seed = 1234\n",
    "\n",
    "random.seed(seed)\n",
    "np.random.seed(seed)\n",
    "torch.manual_seed(seed)\n",
    "torch.backends.cudnn.benchmark = False\n",
    "torch.backends.cudnn.deterministic = True\n",
    "\n",
    "def seed_worker(worker_id):\n",
    "    worker_seed = torch.initial_seed() % 2**32\n",
    "    np.random.seed(worker_seed)\n",
    "    random.seed(worker_seed)\n",
    "\n",
    "g = torch.Generator()\n",
    "g.manual_seed(seed)\n",
    "\n",
    "class RNN(nn.Module):\n",
    "    def __init__(self, vocab_size, emb_size, padding_idx, hidden_size, output_size, num_layers=1):\n",
    "        super().__init__()\n",
    "        self.emb = nn.Embedding(vocab_size, emb_size, padding_idx=padding_idx)\n",
    "        self.rnn = nn.LSTM(emb_size, hidden_size, batch_first=True)\n",
    "        self.fc = nn.Linear(hidden_size, output_size)\n",
    "    \n",
    "    def forward(self, x, h0=None):\n",
    "        x = self.emb(x)\n",
    "        x, h = self.rnn(x, h0)\n",
    "        x = x[:, -1, :]\n",
    "        logits = self.fc(x)\n",
    "        return logits\n",
    "\n",
    "# パラメータの設定\n",
    "VOCAB_SIZE = len(set(word2id.values())) + 2  # 辞書のID数 + unknown + パディングID\n",
    "EMB_SIZE = 300 # dw\n",
    "PADDING_IDX = len(set(word2id.values())) + 1\n",
    "OUTPUT_SIZE = 4\n",
    "HIDDEN_SIZE = 50 # dh\n",
    "NUM_LAYERS = 1\n",
    "\n",
    "# モデルの定義\n",
    "model = RNN(VOCAB_SIZE, EMB_SIZE, PADDING_IDX, HIDDEN_SIZE, OUTPUT_SIZE, NUM_LAYERS)\n",
    "print(model)"
   ]
  },
  {
   "cell_type": "code",
   "execution_count": 8,
   "metadata": {},
   "outputs": [
    {
     "name": "stdout",
     "output_type": "stream",
     "text": [
      "tensor([[  68,   76,  782, 1974,   21, 5054, 5055,   34, 1602,    0]])\n",
      "torch.Size([1, 10])\n",
      "tensor([[0.2783, 0.2129, 0.2804, 0.2284]], grad_fn=<SoftmaxBackward0>)\n"
     ]
    }
   ],
   "source": [
    "x = torch.tensor([tokenizer(sample)], dtype=torch.int64)\n",
    "print(x)\n",
    "print(x.size())\n",
    "print(nn.Softmax(dim=-1)(model(x)))"
   ]
  },
  {
   "cell_type": "code",
   "execution_count": 9,
   "metadata": {},
   "outputs": [
    {
     "name": "stdout",
     "output_type": "stream",
     "text": [
      "torch.Size([10672])\n",
      "tensor([2, 0, 2,  ..., 0, 0, 0])\n"
     ]
    }
   ],
   "source": [
    "# ターゲットのテンソル化\n",
    "category_dict = {'b': 0, 't': 1, 'e':2, 'm':3}\n",
    "Y_train = torch.from_numpy(train['CATEGORY'].map(category_dict).values)\n",
    "Y_valid = torch.from_numpy(valid['CATEGORY'].map(category_dict).values)\n",
    "Y_test = torch.from_numpy(test['CATEGORY'].map(category_dict).values)\n",
    "print(Y_train.size())\n",
    "print(Y_train)"
   ]
  },
  {
   "cell_type": "code",
   "execution_count": 10,
   "metadata": {},
   "outputs": [
    {
     "name": "stdout",
     "output_type": "stream",
     "text": [
      "torch.Size([10])\n",
      "tensor(2)\n",
      "torch.Size([11])\n",
      "tensor(3)\n",
      "torch.Size([13])\n",
      "tensor(2)\n"
     ]
    }
   ],
   "source": [
    "class NewsDataset(data.Dataset):\n",
    "    \"\"\"\n",
    "    newsのDatasetクラス\n",
    "    \n",
    "    Attributes\n",
    "    ----------------------------\n",
    "    X : データフレーム\n",
    "        単語ベクトルの平均をまとめたテンソル\n",
    "    y : テンソル\n",
    "        カテゴリをラベル化したテンソル\n",
    "    phase : 'train' or 'val'\n",
    "        学習か訓練かを設定する\n",
    "    \"\"\"\n",
    "    def __init__(self, X, y, phase='train'):\n",
    "        self.X = X['TITLE']\n",
    "        self.y = y\n",
    "        self.phase = phase\n",
    "    \n",
    "    def __len__(self):\n",
    "        \"\"\"全データサイズを返す\"\"\"\n",
    "        return len(self.y)\n",
    "    \n",
    "    def __getitem__(self, idx):\n",
    "        \"\"\"idxに対応するテンソル形式のデータとラベルを取得\"\"\"\n",
    "        inputs = torch.tensor(tokenizer(self.X[idx]))\n",
    "        return inputs, self.y[idx]\n",
    "\n",
    "train_dataset = NewsDataset(train, Y_train, phase='train')\n",
    "valid_dataset = NewsDataset(valid, Y_valid, phase='val')\n",
    "test_dataset = NewsDataset(test, Y_test, phase='val')\n",
    "# 動作確認\n",
    "idx = 0\n",
    "print(train_dataset.__getitem__(idx)[0].size())\n",
    "print(train_dataset.__getitem__(idx)[1])\n",
    "print(valid_dataset.__getitem__(idx)[0].size())\n",
    "print(valid_dataset.__getitem__(idx)[1])\n",
    "print(test_dataset.__getitem__(idx)[0].size())\n",
    "print(test_dataset.__getitem__(idx)[1])"
   ]
  },
  {
   "cell_type": "code",
   "execution_count": 11,
   "metadata": {},
   "outputs": [
    {
     "name": "stdout",
     "output_type": "stream",
     "text": [
      "torch.Size([1, 11])\n",
      "tensor([2])\n"
     ]
    }
   ],
   "source": [
    "# DataLoaderを作成\n",
    "batch_size = 1\n",
    "\n",
    "train_dataloader = data.DataLoader(\n",
    "            train_dataset, batch_size=batch_size, shuffle=True, worker_init_fn=seed_worker, generator=g)\n",
    "valid_dataloader = data.DataLoader(\n",
    "            valid_dataset, batch_size=batch_size, shuffle=False, worker_init_fn=seed_worker, generator=g)\n",
    "test_dataloader = data.DataLoader(\n",
    "            test_dataset, batch_size=batch_size, shuffle=False, worker_init_fn=seed_worker, generator=g)\n",
    "\n",
    "dataloaders_dict = {'train': train_dataloader,\n",
    "                    'val': valid_dataloader,\n",
    "                    'test': test_dataloader,\n",
    "                   }\n",
    "\n",
    "# 動作確認\n",
    "batch_iter = iter(dataloaders_dict['train'])\n",
    "inputs, labels = next(batch_iter)\n",
    "print(inputs.size())\n",
    "print(labels)\n"
   ]
  },
  {
   "cell_type": "code",
   "execution_count": 12,
   "metadata": {},
   "outputs": [
    {
     "name": "stdout",
     "output_type": "stream",
     "text": [
      "Epoch 1 / 5\n",
      "--------------------------------------------\n"
     ]
    },
    {
     "name": "stderr",
     "output_type": "stream",
     "text": [
      "100%|██████████| 10672/10672 [03:00<00:00, 59.23it/s]\n"
     ]
    },
    {
     "name": "stdout",
     "output_type": "stream",
     "text": [
      "train Loss: 0.9959, Acc: 0.6041\n"
     ]
    },
    {
     "name": "stderr",
     "output_type": "stream",
     "text": [
      "100%|██████████| 1334/1334 [00:09<00:00, 148.15it/s]\n"
     ]
    },
    {
     "name": "stdout",
     "output_type": "stream",
     "text": [
      "val Loss: 0.7686, Acc: 0.7391\n",
      "Epoch 2 / 5\n",
      "--------------------------------------------\n"
     ]
    },
    {
     "name": "stderr",
     "output_type": "stream",
     "text": [
      "100%|██████████| 10672/10672 [03:01<00:00, 58.83it/s]\n"
     ]
    },
    {
     "name": "stdout",
     "output_type": "stream",
     "text": [
      "train Loss: 0.6238, Acc: 0.7738\n"
     ]
    },
    {
     "name": "stderr",
     "output_type": "stream",
     "text": [
      "100%|██████████| 1334/1334 [00:07<00:00, 182.03it/s]\n"
     ]
    },
    {
     "name": "stdout",
     "output_type": "stream",
     "text": [
      "val Loss: 0.6187, Acc: 0.7676\n",
      "Epoch 3 / 5\n",
      "--------------------------------------------\n"
     ]
    },
    {
     "name": "stderr",
     "output_type": "stream",
     "text": [
      "100%|██████████| 10672/10672 [02:58<00:00, 59.66it/s]\n"
     ]
    },
    {
     "name": "stdout",
     "output_type": "stream",
     "text": [
      "train Loss: 0.3916, Acc: 0.8594\n"
     ]
    },
    {
     "name": "stderr",
     "output_type": "stream",
     "text": [
      "100%|██████████| 1334/1334 [00:08<00:00, 151.38it/s]\n"
     ]
    },
    {
     "name": "stdout",
     "output_type": "stream",
     "text": [
      "val Loss: 0.5862, Acc: 0.7864\n",
      "Epoch 4 / 5\n",
      "--------------------------------------------\n"
     ]
    },
    {
     "name": "stderr",
     "output_type": "stream",
     "text": [
      "100%|██████████| 10672/10672 [03:00<00:00, 59.05it/s]\n"
     ]
    },
    {
     "name": "stdout",
     "output_type": "stream",
     "text": [
      "train Loss: 0.2254, Acc: 0.9228\n"
     ]
    },
    {
     "name": "stderr",
     "output_type": "stream",
     "text": [
      "100%|██████████| 1334/1334 [00:08<00:00, 157.34it/s]\n"
     ]
    },
    {
     "name": "stdout",
     "output_type": "stream",
     "text": [
      "val Loss: 0.5867, Acc: 0.8058\n",
      "Epoch 5 / 5\n",
      "--------------------------------------------\n"
     ]
    },
    {
     "name": "stderr",
     "output_type": "stream",
     "text": [
      "100%|██████████| 10672/10672 [03:02<00:00, 58.48it/s]\n"
     ]
    },
    {
     "name": "stdout",
     "output_type": "stream",
     "text": [
      "train Loss: 0.1297, Acc: 0.9602\n"
     ]
    },
    {
     "name": "stderr",
     "output_type": "stream",
     "text": [
      "100%|██████████| 1334/1334 [00:08<00:00, 166.67it/s]"
     ]
    },
    {
     "name": "stdout",
     "output_type": "stream",
     "text": [
      "val Loss: 0.6066, Acc: 0.8103\n"
     ]
    },
    {
     "name": "stderr",
     "output_type": "stream",
     "text": [
      "\n"
     ]
    }
   ],
   "source": [
    "import matplotlib.pyplot as plt\n",
    "from tqdm import tqdm\n",
    "\n",
    "# 学習用の関数を定義\n",
    "def train_model(net, dataloaders_dict, criterion, optimizer, num_epochs):\n",
    "    train_loss = []\n",
    "    train_acc = []\n",
    "    valid_loss = []\n",
    "    valid_acc = []\n",
    "    # epochのループ\n",
    "    for epoch in range(num_epochs):\n",
    "        print('Epoch {} / {}'.format(epoch + 1, num_epochs))\n",
    "        print('--------------------------------------------')\n",
    "        \n",
    "        # epochごとの学習と検証のループ\n",
    "        for phase in ['train', 'val']:\n",
    "            if phase == 'train':\n",
    "                net.train() # 訓練モード\n",
    "            else:\n",
    "                net.eval() # 検証モード\n",
    "            \n",
    "            epoch_loss = 0.0 # epochの損失和\n",
    "            epoch_corrects = 0 # epochの正解数\n",
    "            \n",
    "            # データローダーからミニバッチを取り出すループ\n",
    "            for inputs, labels in tqdm(dataloaders_dict[phase]):\n",
    "                optimizer.zero_grad() # optimizerを初期化\n",
    "                \n",
    "                # 順伝播計算(forward)\n",
    "                with torch.set_grad_enabled(phase == 'train'):\n",
    "                    outputs = net(inputs)\n",
    "                    loss = criterion(outputs, labels) # 損失を計算\n",
    "                    _, preds = torch.max(outputs, 1) # ラベルを予想\n",
    "                    \n",
    "                    # 訓練時は逆伝播\n",
    "                    if phase == 'train':\n",
    "                        loss.backward()\n",
    "                        optimizer.step()\n",
    "                    \n",
    "                    # イテレーション結果の計算\n",
    "                    # lossの合計を更新\n",
    "                    epoch_loss += loss.item() * inputs.size(0)\n",
    "                    # 正解数の合計を更新\n",
    "                    epoch_corrects += torch.sum(preds == labels.data)\n",
    "            \n",
    "            # epochごとのlossと正解率の表示\n",
    "            epoch_loss = epoch_loss / len(dataloaders_dict[phase].dataset)\n",
    "            epoch_acc = epoch_corrects.double() / len(dataloaders_dict[phase].dataset)\n",
    "            if phase == 'train':\n",
    "                train_loss.append(epoch_loss)\n",
    "                train_acc.append(epoch_acc)\n",
    "            else:\n",
    "                valid_loss.append(epoch_loss)\n",
    "                valid_acc.append(epoch_acc)\n",
    "            \n",
    "            print('{} Loss: {:.4f}, Acc: {:.4f}'.format(phase, epoch_loss, epoch_acc))\n",
    "    return train_loss, train_acc, valid_loss, valid_acc\n",
    "\n",
    "# 学習を実行する\n",
    "\n",
    "# モデルの定義\n",
    "net = RNN(VOCAB_SIZE, EMB_SIZE, PADDING_IDX, HIDDEN_SIZE, OUTPUT_SIZE, NUM_LAYERS)\n",
    "net.train()\n",
    "\n",
    "# 損失関数の定義\n",
    "criterion = nn.CrossEntropyLoss()\n",
    "\n",
    "# 最適化手法の定義\n",
    "optimizer = torch.optim.SGD(net.parameters(), lr=0.001, momentum=0.9)\n",
    "\n",
    "num_epochs = 5\n",
    "train_loss, train_acc, valid_loss, valid_acc = train_model(net,\n",
    "            dataloaders_dict, criterion, optimizer, num_epochs=num_epochs)"
   ]
  },
  {
   "cell_type": "code",
   "execution_count": 13,
   "metadata": {},
   "outputs": [
    {
     "name": "stdout",
     "output_type": "stream",
     "text": [
      "tensor([[   2, 7615,   21,  ..., 9724, 9724, 9724],\n",
      "        [5245, 3031,   21,  ..., 9724, 9724, 9724],\n",
      "        [1058,  309,    2,  ..., 9724, 9724, 9724],\n",
      "        ...,\n",
      "        [1163, 1278,  431,  ..., 9724, 9724, 9724],\n",
      "        [1244, 1994, 1244,  ..., 9724, 9724, 9724],\n",
      "        [   0,   61,    0,  ..., 9724, 9724, 9724]])\n",
      "tensor([2, 2, 1, 1, 2, 2, 2, 2, 3, 0, 1, 1, 2, 0, 0, 1, 0, 0, 0, 0, 1, 0, 2, 2,\n",
      "        0, 0, 2, 0, 0, 2, 3, 2, 0, 0, 0, 2, 2, 3, 0, 2, 0, 2, 0, 0, 0, 2, 1, 0,\n",
      "        2, 2, 0, 2, 0, 0, 0, 1, 0, 2, 0, 0, 0, 2, 2, 0])\n"
     ]
    }
   ],
   "source": [
    "def collate_fn(batch):\n",
    "    sequences = [x[0] for x in batch]\n",
    "    labels = torch.LongTensor([x[1] for x in batch])\n",
    "    x = torch.nn.utils.rnn.pad_sequence(sequences, batch_first=True, padding_value=PADDING_IDX)\n",
    "    return x, labels\n",
    "\n",
    "# DataLoaderを作成\n",
    "batch_size = 64\n",
    "\n",
    "train_dataloader = data.DataLoader(\n",
    "            train_dataset, batch_size=batch_size, shuffle=True, collate_fn=collate_fn, worker_init_fn=seed_worker, generator=g)\n",
    "valid_dataloader = data.DataLoader(\n",
    "            valid_dataset, batch_size=batch_size, shuffle=False, collate_fn=collate_fn, worker_init_fn=seed_worker, generator=g)\n",
    "test_dataloader = data.DataLoader(\n",
    "            test_dataset, batch_size=batch_size, shuffle=False, collate_fn=collate_fn, worker_init_fn=seed_worker, generator=g)\n",
    "\n",
    "dataloaders_dict = {'train': train_dataloader,\n",
    "                    'val': valid_dataloader,\n",
    "                    'test': test_dataloader,\n",
    "                   }\n",
    "\n",
    "# 動作確認\n",
    "batch_iter = iter(dataloaders_dict['train'])\n",
    "inputs, labels = next(batch_iter)\n",
    "print(inputs)\n",
    "print(labels)"
   ]
  },
  {
   "cell_type": "code",
   "execution_count": 14,
   "metadata": {},
   "outputs": [
    {
     "name": "stdout",
     "output_type": "stream",
     "text": [
      "Tesla V100-SXM2-32GB\n",
      "使用デバイス: cuda:0\n",
      "Epoch 1 / 30 (train) Loss: 1.1923, Acc: 0.4266, (val) Loss: 1.1565, Acc: 0.4498\n",
      "Epoch 2 / 30 (train) Loss: 1.1543, Acc: 0.4676, (val) Loss: 1.1458, Acc: 0.4888\n",
      "Epoch 3 / 30 (train) Loss: 1.1445, Acc: 0.4938, (val) Loss: 1.1315, Acc: 0.5157\n",
      "Epoch 4 / 30 (train) Loss: 1.1255, Acc: 0.5244, (val) Loss: 1.1009, Acc: 0.5390\n",
      "Epoch 5 / 30 (train) Loss: 1.0576, Acc: 0.5844, (val) Loss: 0.9663, Acc: 0.6514\n",
      "Epoch 6 / 30 (train) Loss: 0.9200, Acc: 0.6737, (val) Loss: 0.8686, Acc: 0.6957\n",
      "Epoch 7 / 30 (train) Loss: 0.8037, Acc: 0.7299, (val) Loss: 0.8088, Acc: 0.7189\n",
      "Epoch 8 / 30 (train) Loss: 0.7068, Acc: 0.7625, (val) Loss: 0.7588, Acc: 0.7436\n",
      "Epoch 9 / 30 (train) Loss: 0.6414, Acc: 0.7794, (val) Loss: 0.7437, Acc: 0.7421\n",
      "Epoch 10 / 30 (train) Loss: 0.5682, Acc: 0.7979, (val) Loss: 0.6945, Acc: 0.7594\n",
      "Epoch 11 / 30 (train) Loss: 0.5085, Acc: 0.8138, (val) Loss: 0.7170, Acc: 0.7466\n",
      "Epoch 12 / 30 (train) Loss: 0.4625, Acc: 0.8308, (val) Loss: 0.7116, Acc: 0.7436\n",
      "Epoch 13 / 30 (train) Loss: 0.4379, Acc: 0.8380, (val) Loss: 0.6848, Acc: 0.7541\n",
      "Epoch 14 / 30 (train) Loss: 0.3773, Acc: 0.8588, (val) Loss: 0.7256, Acc: 0.7564\n",
      "Epoch 15 / 30 (train) Loss: 0.3439, Acc: 0.8709, (val) Loss: 0.8860, Acc: 0.7399\n",
      "Epoch 16 / 30 (train) Loss: 0.3201, Acc: 0.8795, (val) Loss: 0.7646, Acc: 0.7526\n",
      "Epoch 17 / 30 (train) Loss: 0.2872, Acc: 0.8901, (val) Loss: 0.8709, Acc: 0.7609\n",
      "Epoch 18 / 30 (train) Loss: 0.2505, Acc: 0.9036, (val) Loss: 0.8976, Acc: 0.7579\n",
      "Epoch 19 / 30 (train) Loss: 0.2423, Acc: 0.9102, (val) Loss: 0.8716, Acc: 0.7631\n",
      "Epoch 20 / 30 (train) Loss: 0.2194, Acc: 0.9200, (val) Loss: 0.9173, Acc: 0.7594\n",
      "Epoch 21 / 30 (train) Loss: 0.1986, Acc: 0.9305, (val) Loss: 0.8985, Acc: 0.7766\n",
      "Epoch 22 / 30 (train) Loss: 0.1852, Acc: 0.9391, (val) Loss: 0.9545, Acc: 0.7714\n",
      "Epoch 23 / 30 (train) Loss: 0.1972, Acc: 0.9335, (val) Loss: 1.0038, Acc: 0.7631\n",
      "Epoch 24 / 30 (train) Loss: 0.1757, Acc: 0.9438, (val) Loss: 1.0459, Acc: 0.7429\n",
      "Epoch 25 / 30 (train) Loss: 0.1525, Acc: 0.9538, (val) Loss: 1.0148, Acc: 0.7714\n",
      "Epoch 26 / 30 (train) Loss: 0.1298, Acc: 0.9628, (val) Loss: 1.0783, Acc: 0.7661\n",
      "Epoch 27 / 30 (train) Loss: 0.1419, Acc: 0.9598, (val) Loss: 1.1314, Acc: 0.7669\n",
      "Epoch 28 / 30 (train) Loss: 0.1498, Acc: 0.9529, (val) Loss: 1.0929, Acc: 0.7526\n",
      "Epoch 29 / 30 (train) Loss: 0.1382, Acc: 0.9585, (val) Loss: 1.0759, Acc: 0.7684\n",
      "Epoch 30 / 30 (train) Loss: 0.5007, Acc: 0.8580, (val) Loss: 0.8220, Acc: 0.7526\n"
     ]
    }
   ],
   "source": [
    "# 学習を実行する\n",
    "# 学習用の関数を定義\n",
    "def train_model(net, dataloaders_dict, criterion, optimizer, num_epochs):\n",
    "    \n",
    "    # 初期設定\n",
    "    # GPUが使えるか確認\n",
    "    device = torch.device(\"cuda:0\" if torch.cuda.is_available() else \"cpu\")\n",
    "    print(torch.cuda.get_device_name())\n",
    "    print(\"使用デバイス:\", device)\n",
    "    \n",
    "    # ネットワークをgpuへ\n",
    "    net.to(device)\n",
    "    \n",
    "    train_loss = []\n",
    "    train_acc = []\n",
    "    valid_loss = []\n",
    "    valid_acc = []\n",
    "    \n",
    "    # epochのループ\n",
    "    for epoch in range(num_epochs):\n",
    "        # epochごとの学習と検証のループ\n",
    "        for phase in ['train', 'val']:\n",
    "            if phase == 'train':\n",
    "                net.train() # 訓練モード\n",
    "            else:\n",
    "                net.eval() # 検証モード\n",
    "            \n",
    "            epoch_loss = 0.0 # epochの損失和\n",
    "            epoch_corrects = 0 # epochの正解数\n",
    "            \n",
    "            # データローダーからミニバッチを取り出すループ\n",
    "            for inputs, labels in dataloaders_dict[phase]:\n",
    "                # GPUが使えるならGPUにおっくる\n",
    "                inputs = inputs.to(device)\n",
    "                labels = labels.to(device)\n",
    "                optimizer.zero_grad() # optimizerを初期化\n",
    "                \n",
    "                # 順伝播計算(forward)\n",
    "                with torch.set_grad_enabled(phase == 'train'):\n",
    "                    outputs = net(inputs)\n",
    "                    loss = criterion(outputs, labels) # 損失を計算\n",
    "                    _, preds = torch.max(outputs, 1) # ラベルを予想\n",
    "                    \n",
    "                    # 訓練時は逆伝播\n",
    "                    if phase == 'train':\n",
    "                        loss.backward()\n",
    "                        optimizer.step()\n",
    "                    \n",
    "                    # イテレーション結果の計算\n",
    "                    # lossの合計を更新\n",
    "                    epoch_loss += loss.item() * inputs.size(0)\n",
    "                    # 正解数の合計を更新\n",
    "                    epoch_corrects += torch.sum(preds == labels.data)\n",
    "            \n",
    "            # epochごとのlossと正解率の表示\n",
    "            epoch_loss = epoch_loss / len(dataloaders_dict[phase].dataset)\n",
    "            epoch_acc = epoch_corrects.double() / len(dataloaders_dict[phase].dataset)\n",
    "            if phase == 'train':\n",
    "                train_loss.append(epoch_loss)\n",
    "                train_acc.append(epoch_acc.cpu())\n",
    "            else:\n",
    "                valid_loss.append(epoch_loss)\n",
    "                valid_acc.append(epoch_acc.cpu())\n",
    "            \n",
    "        print('Epoch {} / {} (train) Loss: {:.4f}, Acc: {:.4f}, (val) Loss: {:.4f}, Acc: {:.4f}'.format(epoch + 1, num_epochs, train_loss[-1], train_acc[-1], valid_loss[-1], valid_acc[-1]))\n",
    "    return train_loss, train_acc, valid_loss, valid_acc\n",
    "\n",
    "# モデルの定義\n",
    "net = RNN(VOCAB_SIZE, EMB_SIZE, PADDING_IDX, HIDDEN_SIZE, OUTPUT_SIZE, NUM_LAYERS)\n",
    "net.train()\n",
    "\n",
    "# 損失関数の定義\n",
    "criterion = nn.CrossEntropyLoss()\n",
    "\n",
    "# 最適化手法の定義\n",
    "optimizer = torch.optim.SGD(net.parameters(), lr=0.01, momentum=0.9)\n",
    "\n",
    "num_epochs = 30\n",
    "train_loss, train_acc, valid_loss, valid_acc = train_model(net,\n",
    "            dataloaders_dict, criterion, optimizer, num_epochs=num_epochs)"
   ]
  },
  {
   "cell_type": "code",
   "execution_count": 15,
   "metadata": {},
   "outputs": [
    {
     "data": {
      "image/png": "[encoded data removed]",
      "text/plain": [
       "<Figure size 720x360 with 2 Axes>"
      ]
     },
     "metadata": {
      "needs_background": "light"
     },
     "output_type": "display_data"
    }
   ],
   "source": [
    "import matplotlib.pyplot as plt\n",
    "fig, ax = plt.subplots(1,2, figsize=(10, 5))\n",
    "epochs = np.arange(num_epochs)\n",
    "ax[0].plot(epochs, train_loss, label='train')\n",
    "ax[0].plot(epochs, valid_loss, label='valid')\n",
    "ax[0].set_title('loss')\n",
    "ax[0].set_xlabel('epoch')\n",
    "ax[0].set_ylabel('loss')\n",
    "ax[1].plot(epochs, train_acc, label='train')\n",
    "ax[1].plot(epochs, valid_acc, label='valid')\n",
    "ax[1].set_title('acc')\n",
    "ax[1].set_xlabel('epoch')\n",
    "ax[1].set_ylabel('acc')\n",
    "ax[0].legend(loc='best')\n",
    "ax[1].legend(loc='best')\n",
    "plt.tight_layout()\n",
    "plt.savefig('fig83.png')\n",
    "plt.show()"
   ]
  },
  {
   "cell_type": "code",
   "execution_count": 16,
   "metadata": {},
   "outputs": [
    {
     "name": "stdout",
     "output_type": "stream",
     "text": [
      "学習データの正解率: 0.8982\n",
      "検証データの正解率: 0.7526\n",
      "テストデータの正解率: 0.7721\n"
     ]
    }
   ],
   "source": [
    "def calc_acc(net, dataloader):\n",
    "    device = torch.device(\"cuda:0\" if torch.cuda.is_available() else \"cpu\")\n",
    "    net.eval()\n",
    "    corrects = 0\n",
    "    with torch.no_grad():\n",
    "        for inputs, labels in dataloader:\n",
    "            inputs = inputs.to(device)\n",
    "            labels = labels.to(device)\n",
    "            outputs = net(inputs)\n",
    "            _, preds = torch.max(outputs, 1) # ラベルを予想\n",
    "            corrects += torch.sum(preds == labels.data).cpu()\n",
    "    return corrects / len(dataloader.dataset)\n",
    "\n",
    "acc_train = calc_acc(net, train_dataloader)\n",
    "acc_valid = calc_acc(net, valid_dataloader)\n",
    "acc_test = calc_acc(net, test_dataloader)\n",
    "print('学習データの正解率: {:.4f}'.format(acc_train))\n",
    "print('検証データの正解率: {:.4f}'.format(acc_valid))\n",
    "print('テストデータの正解率: {:.4f}'.format(acc_test))"
   ]
  },
  {
   "cell_type": "code",
   "execution_count": 17,
   "metadata": {},
   "outputs": [
    {
     "name": "stdout",
     "output_type": "stream",
     "text": [
      "学習済みベクトル利用単語数: 9042 / 9725\n",
      "torch.Size([9725, 300])\n"
     ]
    }
   ],
   "source": [
    "from gensim.models import KeyedVectors\n",
    "\n",
    "# 学習済みモデルのロード\n",
    "file = '/work/NLP-100-exercise-2020/CH7 Word-embedding/GoogleNews-vectors-negative300.bin.gz'\n",
    "model = KeyedVectors.load_word2vec_format(file, binary=True)\n",
    "\n",
    "# 学習済み単語ベクトルの取得\n",
    "VOCAB_SIZE = len(set(word2id.values())) + 2\n",
    "EMB_SIZE = 300\n",
    "weights = np.zeros((VOCAB_SIZE, EMB_SIZE))\n",
    "words_in_pretrained = 0\n",
    "for i, word in enumerate(word2id.keys()):\n",
    "    try:\n",
    "        weights[i] = model[word]\n",
    "        words_in_pretrained += 1\n",
    "    except KeyError:\n",
    "        weights[i] = np.random.normal(scale=0.1, size=(EMB_SIZE,))\n",
    "weights = torch.from_numpy(weights.astype((np.float32)))\n",
    "\n",
    "print(f'学習済みベクトル利用単語数: {words_in_pretrained} / {VOCAB_SIZE}')\n",
    "print(weights.size())"
   ]
  },
  {
   "cell_type": "code",
   "execution_count": 18,
   "metadata": {},
   "outputs": [
    {
     "name": "stdout",
     "output_type": "stream",
     "text": [
      "Tesla V100-SXM2-32GB\n",
      "使用デバイス: cuda:0\n"
     ]
    },
    {
     "name": "stdout",
     "output_type": "stream",
     "text": [
      "Epoch 1 / 50 (train) Loss: 1.1830, Acc: 0.4252, (val) Loss: 1.1618, Acc: 0.4333\n",
      "Epoch 2 / 50 (train) Loss: 1.1605, Acc: 0.4420, (val) Loss: 1.1607, Acc: 0.4925\n",
      "Epoch 3 / 50 (train) Loss: 1.1595, Acc: 0.4316, (val) Loss: 1.1585, Acc: 0.4558\n",
      "Epoch 4 / 50 (train) Loss: 1.1572, Acc: 0.4667, (val) Loss: 1.1558, Acc: 0.4775\n",
      "Epoch 5 / 50 (train) Loss: 1.1540, Acc: 0.4664, (val) Loss: 1.1523, Acc: 0.4685\n",
      "Epoch 6 / 50 (train) Loss: 1.1488, Acc: 0.4945, (val) Loss: 1.1450, Acc: 0.4828\n",
      "Epoch 7 / 50 (train) Loss: 1.1403, Acc: 0.5026, (val) Loss: 1.1342, Acc: 0.5180\n",
      "Epoch 8 / 50 (train) Loss: 1.1304, Acc: 0.5082, (val) Loss: 1.1141, Acc: 0.5352\n",
      "Epoch 9 / 50 (train) Loss: 1.0764, Acc: 0.5680, (val) Loss: 1.0195, Acc: 0.6124\n",
      "Epoch 10 / 50 (train) Loss: 1.0123, Acc: 0.6154, (val) Loss: 0.9676, Acc: 0.6454\n",
      "Epoch 11 / 50 (train) Loss: 0.9685, Acc: 0.6466, (val) Loss: 0.9991, Acc: 0.6169\n",
      "Epoch 12 / 50 (train) Loss: 0.9380, Acc: 0.6613, (val) Loss: 0.9202, Acc: 0.6762\n",
      "Epoch 13 / 50 (train) Loss: 0.9198, Acc: 0.6723, (val) Loss: 0.8817, Acc: 0.6942\n",
      "Epoch 14 / 50 (train) Loss: 0.9698, Acc: 0.6592, (val) Loss: 1.2995, Acc: 0.3958\n",
      "Epoch 15 / 50 (train) Loss: 1.0574, Acc: 0.5670, (val) Loss: 0.9163, Acc: 0.6867\n",
      "Epoch 16 / 50 (train) Loss: 0.9273, Acc: 0.6668, (val) Loss: 0.9467, Acc: 0.6634\n",
      "Epoch 17 / 50 (train) Loss: 0.8894, Acc: 0.6844, (val) Loss: 0.8709, Acc: 0.7001\n",
      "Epoch 18 / 50 (train) Loss: 1.1747, Acc: 0.4888, (val) Loss: 1.1605, Acc: 0.4603\n",
      "Epoch 19 / 50 (train) Loss: 1.1611, Acc: 0.4324, (val) Loss: 1.1645, Acc: 0.3958\n",
      "Epoch 20 / 50 (train) Loss: 1.1605, Acc: 0.4399, (val) Loss: 1.1582, Acc: 0.4753\n",
      "Epoch 21 / 50 (train) Loss: 1.1571, Acc: 0.4556, (val) Loss: 1.1577, Acc: 0.4835\n",
      "Epoch 22 / 50 (train) Loss: 1.1550, Acc: 0.4634, (val) Loss: 1.1505, Acc: 0.4895\n",
      "Epoch 23 / 50 (train) Loss: 1.1471, Acc: 0.4785, (val) Loss: 1.1416, Acc: 0.4963\n",
      "Epoch 24 / 50 (train) Loss: 1.1342, Acc: 0.4978, (val) Loss: 1.1080, Acc: 0.5472\n",
      "Epoch 25 / 50 (train) Loss: 1.1054, Acc: 0.5349, (val) Loss: 1.0367, Acc: 0.5967\n",
      "Epoch 26 / 50 (train) Loss: 1.0467, Acc: 0.5846, (val) Loss: 1.1269, Acc: 0.5247\n",
      "Epoch 27 / 50 (train) Loss: 1.0006, Acc: 0.6151, (val) Loss: 0.9573, Acc: 0.6477\n",
      "Epoch 28 / 50 (train) Loss: 1.0189, Acc: 0.6156, (val) Loss: 1.1599, Acc: 0.4363\n",
      "Epoch 29 / 50 (train) Loss: 1.0706, Acc: 0.5585, (val) Loss: 0.9768, Acc: 0.6349\n",
      "Epoch 30 / 50 (train) Loss: 0.9281, Acc: 0.6651, (val) Loss: 0.9224, Acc: 0.6612\n",
      "Epoch 31 / 50 (train) Loss: 0.9154, Acc: 0.6718, (val) Loss: 0.8697, Acc: 0.6964\n",
      "Epoch 32 / 50 (train) Loss: 0.8880, Acc: 0.6852, (val) Loss: 0.8957, Acc: 0.6837\n",
      "Epoch 33 / 50 (train) Loss: 0.8751, Acc: 0.6924, (val) Loss: 0.8575, Acc: 0.7076\n",
      "Epoch 34 / 50 (train) Loss: 0.8722, Acc: 0.6921, (val) Loss: 0.8838, Acc: 0.6882\n",
      "Epoch 35 / 50 (train) Loss: 0.8541, Acc: 0.6993, (val) Loss: 0.8412, Acc: 0.7084\n",
      "Epoch 36 / 50 (train) Loss: 0.8485, Acc: 0.7011, (val) Loss: 0.8273, Acc: 0.7091\n",
      "Epoch 37 / 50 (train) Loss: 0.8406, Acc: 0.7042, (val) Loss: 0.8776, Acc: 0.6934\n",
      "Epoch 38 / 50 (train) Loss: 0.8148, Acc: 0.7183, (val) Loss: 0.8137, Acc: 0.7196\n",
      "Epoch 39 / 50 (train) Loss: 0.8128, Acc: 0.7143, (val) Loss: 0.8291, Acc: 0.7039\n",
      "Epoch 40 / 50 (train) Loss: 0.8030, Acc: 0.7190, (val) Loss: 0.8154, Acc: 0.7099\n",
      "Epoch 41 / 50 (train) Loss: 0.7955, Acc: 0.7218, (val) Loss: 0.8854, Acc: 0.6822\n",
      "Epoch 42 / 50 (train) Loss: 0.7805, Acc: 0.7282, (val) Loss: 0.7911, Acc: 0.7189\n",
      "Epoch 43 / 50 (train) Loss: 0.7772, Acc: 0.7280, (val) Loss: 0.8109, Acc: 0.7181\n",
      "Epoch 44 / 50 (train) Loss: 0.7568, Acc: 0.7349, (val) Loss: 0.7960, Acc: 0.7189\n",
      "Epoch 45 / 50 (train) Loss: 0.7580, Acc: 0.7322, (val) Loss: 0.8346, Acc: 0.7054\n",
      "Epoch 46 / 50 (train) Loss: 0.7488, Acc: 0.7312, (val) Loss: 0.7709, Acc: 0.7249\n",
      "Epoch 47 / 50 (train) Loss: 0.7295, Acc: 0.7399, (val) Loss: 0.7696, Acc: 0.7249\n",
      "Epoch 48 / 50 (train) Loss: 0.7391, Acc: 0.7396, (val) Loss: 0.7896, Acc: 0.7166\n",
      "Epoch 49 / 50 (train) Loss: 0.7223, Acc: 0.7420, (val) Loss: 0.7641, Acc: 0.7271\n",
      "Epoch 50 / 50 (train) Loss: 0.7077, Acc: 0.7448, (val) Loss: 0.7439, Acc: 0.7331\n"
     ]
    },
    {
     "data": {
      "image/png": "[encoded data removed]",
      "text/plain": [
       "<Figure size 720x360 with 2 Axes>"
      ]
     },
     "metadata": {
      "needs_background": "light"
     },
     "output_type": "display_data"
    },
    {
     "name": "stdout",
     "output_type": "stream",
     "text": [
      "学習データの正解率: 0.7537\n",
      "検証データの正解率: 0.7331\n",
      "テストデータの正解率: 0.7436\n"
     ]
    }
   ],
   "source": [
    "class RNN(nn.Module):\n",
    "    def __init__(self, vocab_size, emb_size, padding_idx, hidden_size, output_size, num_layers=1, emb_weights=None):\n",
    "        super().__init__()\n",
    "        if emb_weights != None:\n",
    "            self.emb = nn.Embedding.from_pretrained(emb_weights, padding_idx=padding_idx)\n",
    "        else:\n",
    "            self.emb = nn.Embedding(vocab_size, emb_size, padding_idx=padding_idx)\n",
    "        self.rnn = nn.LSTM(emb_size, hidden_size, num_layers, batch_first=True)\n",
    "        self.fc = nn.Linear(hidden_size, output_size)\n",
    "    \n",
    "    def forward(self, x, h0=None):\n",
    "        x = self.emb(x)\n",
    "        x, h = self.rnn(x, h0)\n",
    "        x = x[:, -1, :]\n",
    "        logits = self.fc(x)\n",
    "        return logits\n",
    "\n",
    "# パラメータの設定\n",
    "VOCAB_SIZE = len(set(word2id.values())) + 2  # 辞書のID数 + unknown + パディングID\n",
    "EMB_SIZE = 300\n",
    "PADDING_IDX = len(set(word2id.values())) + 1\n",
    "OUTPUT_SIZE = 4\n",
    "HIDDEN_SIZE = 50\n",
    "NUM_LAYERS = 1\n",
    "\n",
    "# モデルの定義\n",
    "net = RNN(VOCAB_SIZE, EMB_SIZE, PADDING_IDX, HIDDEN_SIZE, OUTPUT_SIZE, NUM_LAYERS, weights)\n",
    "net.train()\n",
    "\n",
    "# 損失関数の定義\n",
    "criterion = nn.CrossEntropyLoss()\n",
    "\n",
    "# 最適化手法の定義\n",
    "optimizer = torch.optim.SGD(net.parameters(), lr=0.01, momentum=0.9)\n",
    "\n",
    "num_epochs = 50\n",
    "train_loss_weights, train_acc_weights, valid_loss_weights, valid_acc_weights = train_model(net,\n",
    "            dataloaders_dict, criterion, optimizer, num_epochs=num_epochs)\n",
    "\n",
    "fig, ax = plt.subplots(1,2, figsize=(10, 5))\n",
    "epochs = np.arange(num_epochs)\n",
    "ax[0].plot(epochs, train_loss_weights, label='train')\n",
    "ax[0].plot(epochs, valid_loss_weights, label='valid')\n",
    "ax[0].set_title('loss')\n",
    "ax[0].set_xlabel('epoch')\n",
    "ax[0].set_ylabel('loss')\n",
    "ax[1].plot(epochs, train_acc_weights, label='train')\n",
    "ax[1].plot(epochs, valid_acc_weights, label='valid')\n",
    "ax[1].set_title('acc')\n",
    "ax[1].set_xlabel('epoch')\n",
    "ax[1].set_ylabel('acc')\n",
    "ax[0].legend(loc='best')\n",
    "ax[1].legend(loc='best')\n",
    "plt.tight_layout()\n",
    "plt.savefig('fig84.png')\n",
    "plt.show()\n",
    "\n",
    "acc_train = calc_acc(net, train_dataloader)\n",
    "acc_valid = calc_acc(net, valid_dataloader)\n",
    "acc_test = calc_acc(net, test_dataloader)\n",
    "print('学習データの正解率: {:.4f}'.format(acc_train))\n",
    "print('検証データの正解率: {:.4f}'.format(acc_valid))\n",
    "print('テストデータの正解率: {:.4f}'.format(acc_test))"
   ]
  },
  {
   "cell_type": "code",
   "execution_count": 19,
   "metadata": {},
   "outputs": [
    {
     "name": "stdout",
     "output_type": "stream",
     "text": [
      "tensor([[  68,   76,  782, 1974,   21, 5054, 5055,   34, 1602,    0]])\n",
      "torch.Size([1, 10])\n",
      "tensor([[0.2441, 0.2543, 0.2571, 0.2445]], grad_fn=<SoftmaxBackward0>)\n"
     ]
    }
   ],
   "source": [
    "from torch.nn import functional as F\n",
    "\n",
    "class CNN(nn.Module):\n",
    "    def __init__(self, vocab_size, emb_size, padding_idx, output_size, out_channels, kernel_heights, stride, padding, emb_weights=None):\n",
    "        super().__init__()\n",
    "        if emb_weights != None:  # 指定があれば埋め込み層の重みをemb_weightsで初期化\n",
    "            self.emb = nn.Embedding.from_pretrained(emb_weights, padding_idx=padding_idx)\n",
    "        else:\n",
    "            self.emb = nn.Embedding(vocab_size, emb_size, padding_idx=padding_idx)\n",
    "        self.conv = nn.Conv2d(1, out_channels, (kernel_heights, emb_size), stride, (padding, 0))\n",
    "        self.drop = nn.Dropout(0.4)\n",
    "        self.fc = nn.Linear(out_channels, output_size)\n",
    "\n",
    "    def forward(self, x):\n",
    "        emb = self.emb(x).unsqueeze(1)\n",
    "        conv = self.conv(emb)\n",
    "        act = F.relu(conv.squeeze(3))\n",
    "        max_pool = F.max_pool1d(act, act.size()[2])\n",
    "        logits = self.fc(self.drop(max_pool.squeeze(2)))\n",
    "        return logits\n",
    "\n",
    "# パラメータの設定\n",
    "VOCAB_SIZE = len(set(word2id.values())) + 2\n",
    "EMB_SIZE = 300\n",
    "PADDING_IDX = len(set(word2id.values())) + 1\n",
    "OUTPUT_SIZE = 4\n",
    "OUT_CHANNELS = 100\n",
    "KERNEL_HEIGHTS = 3\n",
    "STRIDE = 1\n",
    "PADDING = 1\n",
    "\n",
    "# モデルの定義\n",
    "model = CNN(VOCAB_SIZE, EMB_SIZE, PADDING_IDX, OUTPUT_SIZE, OUT_CHANNELS, KERNEL_HEIGHTS, STRIDE, PADDING, emb_weights=weights)\n",
    "x = torch.tensor([tokenizer(sample)], dtype=torch.int64)\n",
    "print(x)\n",
    "print(x.size())\n",
    "print(nn.Softmax(dim=-1)(model(x)))"
   ]
  },
  {
   "cell_type": "code",
   "execution_count": 20,
   "metadata": {},
   "outputs": [
    {
     "name": "stdout",
     "output_type": "stream",
     "text": [
      "Tesla V100-SXM2-32GB\n",
      "使用デバイス: cuda:0\n",
      "Epoch 1 / 30 (train) Loss: 0.9660, Acc: 0.6160, (val) Loss: 0.7333, Acc: 0.7324\n",
      "Epoch 2 / 30 (train) Loss: 0.6714, Acc: 0.7545, (val) Loss: 0.6002, Acc: 0.7879\n",
      "Epoch 3 / 30 (train) Loss: 0.5112, Acc: 0.8147, (val) Loss: 0.5584, Acc: 0.8066\n",
      "Epoch 4 / 30 (train) Loss: 0.4066, Acc: 0.8546, (val) Loss: 0.5156, Acc: 0.8201\n",
      "Epoch 5 / 30 (train) Loss: 0.3236, Acc: 0.8838, (val) Loss: 0.5000, Acc: 0.8253\n",
      "Epoch 6 / 30 (train) Loss: 0.2697, Acc: 0.9017, (val) Loss: 0.5170, Acc: 0.8253\n",
      "Epoch 7 / 30 (train) Loss: 0.2308, Acc: 0.9189, (val) Loss: 0.5226, Acc: 0.8283\n",
      "Epoch 8 / 30 (train) Loss: 0.1975, Acc: 0.9305, (val) Loss: 0.5268, Acc: 0.8238\n",
      "Epoch 9 / 30 (train) Loss: 0.1792, Acc: 0.9361, (val) Loss: 0.5498, Acc: 0.8253\n",
      "Epoch 10 / 30 (train) Loss: 0.1560, Acc: 0.9437, (val) Loss: 0.5489, Acc: 0.8343\n",
      "Epoch 11 / 30 (train) Loss: 0.1387, Acc: 0.9517, (val) Loss: 0.5924, Acc: 0.8366\n",
      "Epoch 12 / 30 (train) Loss: 0.1278, Acc: 0.9550, (val) Loss: 0.5812, Acc: 0.8328\n",
      "Epoch 13 / 30 (train) Loss: 0.1132, Acc: 0.9611, (val) Loss: 0.6048, Acc: 0.8313\n",
      "Epoch 14 / 30 (train) Loss: 0.1173, Acc: 0.9583, (val) Loss: 0.5784, Acc: 0.8366\n",
      "Epoch 15 / 30 (train) Loss: 0.1080, Acc: 0.9623, (val) Loss: 0.6143, Acc: 0.8351\n",
      "Epoch 16 / 30 (train) Loss: 0.0923, Acc: 0.9686, (val) Loss: 0.6064, Acc: 0.8471\n",
      "Epoch 17 / 30 (train) Loss: 0.0884, Acc: 0.9703, (val) Loss: 0.6155, Acc: 0.8388\n",
      "Epoch 18 / 30 (train) Loss: 0.0864, Acc: 0.9731, (val) Loss: 0.6104, Acc: 0.8373\n",
      "Epoch 19 / 30 (train) Loss: 0.0812, Acc: 0.9720, (val) Loss: 0.6325, Acc: 0.8358\n",
      "Epoch 20 / 30 (train) Loss: 0.0877, Acc: 0.9685, (val) Loss: 0.5911, Acc: 0.8396\n",
      "Epoch 21 / 30 (train) Loss: 0.0794, Acc: 0.9731, (val) Loss: 0.6293, Acc: 0.8426\n",
      "Epoch 22 / 30 (train) Loss: 0.0768, Acc: 0.9735, (val) Loss: 0.6157, Acc: 0.8433\n",
      "Epoch 23 / 30 (train) Loss: 0.0689, Acc: 0.9757, (val) Loss: 0.6486, Acc: 0.8448\n",
      "Epoch 24 / 30 (train) Loss: 0.0684, Acc: 0.9764, (val) Loss: 0.6641, Acc: 0.8381\n",
      "Epoch 25 / 30 (train) Loss: 0.0641, Acc: 0.9793, (val) Loss: 0.6627, Acc: 0.8403\n",
      "Epoch 26 / 30 (train) Loss: 0.0586, Acc: 0.9802, (val) Loss: 0.6997, Acc: 0.8358\n",
      "Epoch 27 / 30 (train) Loss: 0.0598, Acc: 0.9776, (val) Loss: 0.6708, Acc: 0.8433\n",
      "Epoch 28 / 30 (train) Loss: 0.0607, Acc: 0.9798, (val) Loss: 0.6864, Acc: 0.8471\n",
      "Epoch 29 / 30 (train) Loss: 0.0576, Acc: 0.9808, (val) Loss: 0.6858, Acc: 0.8433\n",
      "Epoch 30 / 30 (train) Loss: 0.0525, Acc: 0.9816, (val) Loss: 0.6940, Acc: 0.8501\n"
     ]
    },
    {
     "data": {
      "image/png": "[encoded data removed]",
      "text/plain": [
       "<Figure size 720x360 with 2 Axes>"
      ]
     },
     "metadata": {
      "needs_background": "light"
     },
     "output_type": "display_data"
    },
    {
     "name": "stdout",
     "output_type": "stream",
     "text": [
      "学習データの正解率: 0.9989\n",
      "検証データの正解率: 0.8501\n",
      "テストデータの正解率: 0.8688\n"
     ]
    }
   ],
   "source": [
    "# モデルの定義\n",
    "net = CNN(VOCAB_SIZE, EMB_SIZE, PADDING_IDX, OUTPUT_SIZE, OUT_CHANNELS, KERNEL_HEIGHTS, STRIDE, PADDING, emb_weights=weights)\n",
    "net.train()\n",
    "\n",
    "# 損失関数の定義\n",
    "criterion = nn.CrossEntropyLoss()\n",
    "\n",
    "# 最適化手法の定義\n",
    "optimizer = torch.optim.SGD(net.parameters(), lr=0.1, momentum=0.9)\n",
    "\n",
    "num_epochs = 30\n",
    "train_loss, train_acc, valid_loss, valid_acc = train_model(net,\n",
    "            dataloaders_dict, criterion, optimizer, num_epochs=num_epochs)\n",
    "\n",
    "fig, ax = plt.subplots(1,2, figsize=(10, 5))\n",
    "epochs = np.arange(num_epochs)\n",
    "ax[0].plot(epochs, train_loss, label='train')\n",
    "ax[0].plot(epochs, valid_loss, label='valid')\n",
    "ax[0].set_title('loss')\n",
    "ax[0].set_xlabel('epoch')\n",
    "ax[0].set_ylabel('loss')\n",
    "ax[1].plot(epochs, train_acc, label='train')\n",
    "ax[1].plot(epochs, valid_acc, label='valid')\n",
    "ax[1].set_title('acc')\n",
    "ax[1].set_xlabel('epoch')\n",
    "ax[1].set_ylabel('acc')\n",
    "ax[0].legend(loc='best')\n",
    "ax[1].legend(loc='best')\n",
    "plt.tight_layout()\n",
    "plt.savefig('fig87.png')\n",
    "plt.show()\n",
    "\n",
    "acc_train = calc_acc(net, train_dataloader)\n",
    "acc_valid = calc_acc(net, valid_dataloader)\n",
    "acc_test = calc_acc(net, test_dataloader)\n",
    "print('学習データの正解率: {:.4f}'.format(acc_train))\n",
    "print('検証データの正解率: {:.4f}'.format(acc_valid))\n",
    "print('テストデータの正解率: {:.4f}'.format(acc_test))"
   ]
  },
  {
   "cell_type": "code",
   "execution_count": 21,
   "metadata": {},
   "outputs": [
    {
     "name": "stdout",
     "output_type": "stream",
     "text": [
      "Tesla V100-SXM2-32GB\n",
      "使用デバイス: cuda:0\n",
      "Epoch 1 / 30 (train) Loss: 1.0457, Acc: 0.5992, (val) Loss: 0.8952, Acc: 0.6732\n",
      "Epoch 2 / 30 (train) Loss: 0.7881, Acc: 0.7225, (val) Loss: 0.7129, Acc: 0.7496\n",
      "Epoch 3 / 30 (train) Loss: 0.6094, Acc: 0.7934, (val) Loss: 0.6178, Acc: 0.7961\n",
      "Epoch 4 / 30 (train) Loss: 0.4842, Acc: 0.8396, (val) Loss: 0.5562, Acc: 0.8148\n",
      "Epoch 5 / 30 (train) Loss: 0.3893, Acc: 0.8757, (val) Loss: 0.5144, Acc: 0.8216\n",
      "Epoch 6 / 30 (train) Loss: 0.3150, Acc: 0.9070, (val) Loss: 0.4974, Acc: 0.8366\n",
      "Epoch 7 / 30 (train) Loss: 0.2626, Acc: 0.9259, (val) Loss: 0.4703, Acc: 0.8433\n",
      "Epoch 8 / 30 (train) Loss: 0.2117, Acc: 0.9449, (val) Loss: 0.4571, Acc: 0.8403\n",
      "Epoch 9 / 30 (train) Loss: 0.1780, Acc: 0.9589, (val) Loss: 0.4446, Acc: 0.8501\n",
      "Epoch 10 / 30 (train) Loss: 0.1464, Acc: 0.9680, (val) Loss: 0.4468, Acc: 0.8426\n",
      "Epoch 11 / 30 (train) Loss: 0.1191, Acc: 0.9770, (val) Loss: 0.4370, Acc: 0.8523\n",
      "Epoch 12 / 30 (train) Loss: 0.1029, Acc: 0.9804, (val) Loss: 0.4311, Acc: 0.8553\n",
      "Epoch 13 / 30 (train) Loss: 0.0849, Acc: 0.9871, (val) Loss: 0.4397, Acc: 0.8561\n",
      "Epoch 14 / 30 (train) Loss: 0.0716, Acc: 0.9897, (val) Loss: 0.4391, Acc: 0.8508\n",
      "Epoch 15 / 30 (train) Loss: 0.0639, Acc: 0.9911, (val) Loss: 0.4385, Acc: 0.8553\n",
      "Epoch 16 / 30 (train) Loss: 0.0547, Acc: 0.9927, (val) Loss: 0.4362, Acc: 0.8606\n",
      "Epoch 17 / 30 (train) Loss: 0.0501, Acc: 0.9938, (val) Loss: 0.4346, Acc: 0.8591\n",
      "Epoch 18 / 30 (train) Loss: 0.0431, Acc: 0.9939, (val) Loss: 0.4466, Acc: 0.8591\n",
      "Epoch 19 / 30 (train) Loss: 0.0394, Acc: 0.9951, (val) Loss: 0.4467, Acc: 0.8643\n",
      "Epoch 20 / 30 (train) Loss: 0.0368, Acc: 0.9949, (val) Loss: 0.4525, Acc: 0.8576\n",
      "Epoch 21 / 30 (train) Loss: 0.0321, Acc: 0.9964, (val) Loss: 0.4482, Acc: 0.8591\n",
      "Epoch 22 / 30 (train) Loss: 0.0296, Acc: 0.9964, (val) Loss: 0.4641, Acc: 0.8621\n",
      "Epoch 23 / 30 (train) Loss: 0.0280, Acc: 0.9969, (val) Loss: 0.4753, Acc: 0.8576\n",
      "Epoch 24 / 30 (train) Loss: 0.0267, Acc: 0.9968, (val) Loss: 0.4630, Acc: 0.8576\n",
      "Epoch 25 / 30 (train) Loss: 0.0262, Acc: 0.9964, (val) Loss: 0.4705, Acc: 0.8621\n",
      "Epoch 26 / 30 (train) Loss: 0.0219, Acc: 0.9970, (val) Loss: 0.4853, Acc: 0.8598\n",
      "Epoch 27 / 30 (train) Loss: 0.0210, Acc: 0.9978, (val) Loss: 0.4774, Acc: 0.8636\n",
      "Epoch 28 / 30 (train) Loss: 0.0176, Acc: 0.9978, (val) Loss: 0.4680, Acc: 0.8651\n",
      "Epoch 29 / 30 (train) Loss: 0.0192, Acc: 0.9978, (val) Loss: 0.4882, Acc: 0.8613\n",
      "Epoch 30 / 30 (train) Loss: 0.0172, Acc: 0.9978, (val) Loss: 0.4823, Acc: 0.8628\n"
     ]
    },
    {
     "data": {
      "image/png": "[encoded data removed]",
      "text/plain": [
       "<Figure size 720x360 with 2 Axes>"
      ]
     },
     "metadata": {
      "needs_background": "light"
     },
     "output_type": "display_data"
    },
    {
     "name": "stdout",
     "output_type": "stream",
     "text": [
      "学習データの正解率: 0.9992\n",
      "検証データの正解率: 0.8628\n",
      "テストデータの正解率: 0.8793\n"
     ]
    }
   ],
   "source": [
    "class CNN(nn.Module):\n",
    "    def __init__(self, vocab_size, emb_size, padding_idx, output_size, out_channels, kernel_heights, stride, padding, emb_weights=None):\n",
    "        super().__init__()\n",
    "        if emb_weights != None:  # 指定があれば埋め込み層の重みをemb_weightsで初期化\n",
    "            self.emb = nn.Embedding.from_pretrained(emb_weights, padding_idx=padding_idx)\n",
    "        else:\n",
    "            self.emb = nn.Embedding(vocab_size, emb_size, padding_idx=padding_idx)\n",
    "        self.conv = nn.Conv2d(1, out_channels, (kernel_heights, emb_size), stride, (padding, 0))\n",
    "        self.drop = nn.Dropout(0.4)\n",
    "        self.fc = nn.Linear(out_channels, output_size)\n",
    "\n",
    "    def forward(self, x):\n",
    "        emb = self.emb(x).unsqueeze(1)\n",
    "        conv = self.conv(emb)\n",
    "        act = F.relu(conv.squeeze(3))\n",
    "        max_pool = F.max_pool1d(act, act.size()[2])\n",
    "        logits = self.fc(self.drop(max_pool.squeeze(2)))\n",
    "        return logits\n",
    "\n",
    "# パラメータの設定\n",
    "VOCAB_SIZE = len(set(word2id.values())) + 2\n",
    "EMB_SIZE = 300\n",
    "PADDING_IDX = len(set(word2id.values())) + 1\n",
    "OUTPUT_SIZE = 4\n",
    "OUT_CHANNELS = 500\n",
    "KERNEL_HEIGHTS = 2\n",
    "STRIDE = 1\n",
    "PADDING = 1\n",
    "\n",
    "# モデルの定義\n",
    "net = CNN(VOCAB_SIZE, EMB_SIZE, PADDING_IDX, OUTPUT_SIZE, OUT_CHANNELS, KERNEL_HEIGHTS, STRIDE, PADDING, emb_weights=weights)\n",
    "net.train()\n",
    "\n",
    "# 損失関数の定義\n",
    "criterion = nn.CrossEntropyLoss()\n",
    "\n",
    "# 最適化手法の定義\n",
    "optimizer = torch.optim.Adam(net.parameters(), lr=0.0005)\n",
    "\n",
    "num_epochs = 30\n",
    "train_loss, train_acc, valid_loss, valid_acc = train_model(net,\n",
    "            dataloaders_dict, criterion, optimizer, num_epochs=num_epochs)\n",
    "\n",
    "fig, ax = plt.subplots(1,2, figsize=(10, 5))\n",
    "epochs = np.arange(num_epochs)\n",
    "ax[0].plot(epochs, train_loss, label='train')\n",
    "ax[0].plot(epochs, valid_loss, label='valid')\n",
    "ax[0].set_title('loss')\n",
    "ax[0].set_xlabel('epoch')\n",
    "ax[0].set_ylabel('loss')\n",
    "ax[1].plot(epochs, train_acc, label='train')\n",
    "ax[1].plot(epochs, valid_acc, label='valid')\n",
    "ax[1].set_title('acc')\n",
    "ax[1].set_xlabel('epoch')\n",
    "ax[1].set_ylabel('acc')\n",
    "ax[0].legend(loc='best')\n",
    "ax[1].legend(loc='best')\n",
    "plt.tight_layout()\n",
    "plt.savefig('fig88.png')\n",
    "plt.show()\n",
    "\n",
    "acc_train = calc_acc(net, train_dataloader)\n",
    "acc_valid = calc_acc(net, valid_dataloader)\n",
    "acc_test = calc_acc(net, test_dataloader)\n",
    "print('学習データの正解率: {:.4f}'.format(acc_train))\n",
    "print('検証データの正解率: {:.4f}'.format(acc_valid))\n",
    "print('テストデータの正解率: {:.4f}'.format(acc_test))"
   ]
  },
  {
   "cell_type": "code",
   "execution_count": null,
   "metadata": {},
   "outputs": [],
   "source": []
  }
 ],
 "metadata": {
  "kernelspec": {
   "display_name": "Python 3",
   "language": "python",
   "name": "python3"
  },
  "language_info": {
   "codemirror_mode": {
    "name": "ipython",
    "version": 3
   },
   "file_extension": ".py",
   "mimetype": "text/x-python",
   "name": "python",
   "nbconvert_exporter": "python",
   "pygments_lexer": "ipython3",
   "version": "3.6.9"
  }
 },
 "nbformat": 4,
 "nbformat_minor": 2
}
