{
 "cells": [
  {
   "cell_type": "code",
   "execution_count": 1,
   "id": "c1ae09cc",
   "metadata": {},
   "outputs": [
    {
     "name": "stdout",
     "output_type": "stream",
     "text": [
      "desserts\n"
     ]
    }
   ],
   "source": [
    "# 00. Reversed string\n",
    "\n",
    "print(\"stressed\"[::-1])"
   ]
  },
  {
   "cell_type": "code",
   "execution_count": 7,
   "id": "bdd9ef6b",
   "metadata": {},
   "outputs": [
    {
     "name": "stdout",
     "output_type": "stream",
     "text": [
      "schooled\n"
     ]
    }
   ],
   "source": [
    "# 02. “shoe” + “cold” = “schooled”\n",
    "\n",
    "s1 = \"shoe\"\n",
    "s2 = \"cold\"\n",
    "print(\"\".join(list(map(lambda x: ''.join(x), zip(s1,s2)))))"
   ]
  },
  {
   "cell_type": "code",
   "execution_count": 11,
   "id": "e6a13860",
   "metadata": {},
   "outputs": [
    {
     "name": "stdout",
     "output_type": "stream",
     "text": [
      "Words:  ['now', 'i', 'need', 'a', 'drink,', 'alcoholic', 'of', 'course,', 'after', 'the', 'heavy', 'lectures', 'involving', 'quantum', 'mechanics']\n",
      "[3, 1, 4, 1, 5, 9, 2, 6, 5, 3, 5, 8, 9, 7, 9]\n"
     ]
    }
   ],
   "source": [
    "# 03. PiPer\n",
    "\n",
    "Str = \"Now I need a drink, alcoholic of course, after the heavy lectures involving quantum mechanics\"\n",
    "Words = Str.lower().split()\n",
    "print(\"Words: \", Words)\n",
    "\n",
    "Letter_counts = [len(word.strip(\",.\")) for word in Words]\n",
    "print(Letter_counts)"
   ]
  },
  {
   "cell_type": "code",
   "execution_count": 12,
   "id": "f4ddf9f1",
   "metadata": {},
   "outputs": [
    {
     "name": "stdout",
     "output_type": "stream",
     "text": [
      "{'H': 1, 'He': 2, 'Li': 3, 'Be': 4, 'B': 5, 'C': 6, 'N': 7, 'O': 8, 'F': 9, 'Ne': 10, 'Na': 11, 'Mi': 12, 'Al': 13, 'Si': 14, 'P': 15, 'S': 16, 'Cl': 17, 'Ar': 18, 'K': 19, 'Ca': 20}\n"
     ]
    }
   ],
   "source": [
    "# 04. Atomic symbols\n",
    "\n",
    "sentence = \"Hi He Lied Because Boron Could Not Oxidize Fluorine. New Nations Might Also Sign Peace Security Clause. Arthur King Can\"\n",
    "\n",
    "# Split the sentence into words\n",
    "words = sentence.split()\n",
    "\n",
    "# Create a dictionary to store the mappings\n",
    "mapping = {}\n",
    "\n",
    "# Loop through the words and extract the corresponding substring\n",
    "for i, word in enumerate(words):\n",
    "    if i+1 in [1, 5, 6, 7, 8, 9, 15, 16, 19]:\n",
    "        key = word[0]\n",
    "    else:\n",
    "        key = word[0:2]\n",
    "    mapping[key] = i+1\n",
    "\n",
    "# Print the resulting mapping\n",
    "print(mapping)\n"
   ]
  },
  {
   "cell_type": "code",
   "execution_count": 21,
   "id": "73dcc1a7",
   "metadata": {},
   "outputs": [
    {
     "name": "stdout",
     "output_type": "stream",
     "text": [
      "Word bi-grams: [['I', 'am'], ['am', 'an'], ['an', 'NLPer']]\n",
      "Letter bi-grams: {'nN', 'Pe', 'LP', 'NL', 'er', 'am', 'ma', 'an', 'Ia'}\n"
     ]
    }
   ],
   "source": [
    "# 05. n-gram\n",
    "\n",
    "def get_ngrams(sequence, n):\n",
    "    ngrams = []\n",
    "    for i in range(len(sequence) - n + 1):\n",
    "        ngrams.append(sequence[i:i+n])\n",
    "    return ngrams\n",
    "\n",
    "sentence = \"I am an NLPer\"\n",
    "words = sentence.split()\n",
    "word_bigrams = get_ngrams(words, 2)\n",
    "print(\"Word bi-grams:\", word_bigrams)\n",
    "\n",
    "letters = \"\".join(words)\n",
    "letter_bigrams = get_ngrams(letters, 2)\n",
    "print(\"Letter bi-grams:\", set(letter_bigrams))"
   ]
  },
  {
   "cell_type": "code",
   "execution_count": 1,
   "id": "6b31a14d",
   "metadata": {},
   "outputs": [
    {
     "name": "stdout",
     "output_type": "stream",
     "text": [
      "X: {'ap', 'ad', 'ra', 'se', 'di', 'is', 'pa', 'ar'}\n",
      "Y: {'ap', 'ag', 'ra', 'gr', 'pa', 'ar', 'ph'}\n",
      "Union: {'ap', 'ad', 'ag', 'ra', 'se', 'di', 'is', 'gr', 'pa', 'ar', 'ph'}\n",
      "Intersection: {'ap', 'pa', 'ra', 'ar'}\n",
      "Difference: {'ad', 'di', 'se', 'is'}\n",
      "Is 'se' in X? True\n",
      "Is 'se' in Y? False\n"
     ]
    }
   ],
   "source": [
    "# 06. Set\n",
    "\n",
    "word1 = \"paraparaparadise\"\n",
    "word2 = \"paragraph\"\n",
    "\n",
    "# function to obtain letter bi-grams from a given string\n",
    "def letter_bigrams(word):\n",
    "    return set(word[i:i+2] for i in range(len(word)-1))\n",
    "\n",
    "# get letter bi-grams of each word\n",
    "X = letter_bigrams(word1)\n",
    "Y = letter_bigrams(word2)\n",
    "\n",
    "# get union, intersection, and difference of the two sets\n",
    "union = X | Y\n",
    "intersection = X & Y\n",
    "difference = X - Y\n",
    "\n",
    "# check if \"se\" is included in the sets X and Y\n",
    "se_in_X = \"se\" in X\n",
    "se_in_Y = \"se\" in Y\n",
    "\n",
    "print(\"X:\", X)\n",
    "print(\"Y:\", Y)\n",
    "print(\"Union:\", union)\n",
    "print(\"Intersection:\", intersection)\n",
    "print(\"Difference:\", difference)\n",
    "print(\"Is 'se' in X?\", se_in_X)\n",
    "print(\"Is 'se' in Y?\", se_in_Y)"
   ]
  },
  {
   "cell_type": "code",
   "execution_count": 4,
   "id": "edb36dd7",
   "metadata": {},
   "outputs": [
    {
     "name": "stdout",
     "output_type": "stream",
     "text": [
      "temperature is 22.4 at 12\n"
     ]
    }
   ],
   "source": [
    "# 07. Template-based sentence generation\n",
    "\n",
    "def template_based_sentence_generator(x,y,z):\n",
    "    return (str(y) + ' is ' + str(z) + ' at ' + str(x))\n",
    "\n",
    "x = 12\n",
    "y = \"temperature\"\n",
    "z = 22.4\n",
    "\n",
    "print (template_based_sentence_generator(x,y,z))"
   ]
  },
  {
   "cell_type": "code",
   "execution_count": 5,
   "id": "70fa83bb",
   "metadata": {},
   "outputs": [
    {
     "name": "stdout",
     "output_type": "stream",
     "text": [
      "Hvool, dliow! Tsrh rh z hvxivg nvhhztv.\n",
      "Hello, world! This is a secret message.\n"
     ]
    }
   ],
   "source": [
    "# 08. cipher text\n",
    "\n",
    "def cipher(text):\n",
    "    result = []\n",
    "    for char in text:\n",
    "        if char.islower():\n",
    "            result.append(chr(219 - ord(char)))\n",
    "        else:\n",
    "            result.append(char)\n",
    "    return ''.join(result)\n",
    "\n",
    "\n",
    "message = \"Hello, world! This is a secret message.\"\n",
    "ciphered_message = cipher(message)\n",
    "print(ciphered_message)\n",
    "# outputs: Hvool, dliow! Gsrh rh z hvxivg nvhhztv.\n",
    "\n",
    "deciphered_message = cipher(ciphered_message)\n",
    "print(deciphered_message)\n",
    "# outputs: Hello, world! This is a secret message.\n"
   ]
  },
  {
   "cell_type": "code",
   "execution_count": 6,
   "id": "0a61c91d",
   "metadata": {},
   "outputs": [
    {
     "name": "stdout",
     "output_type": "stream",
     "text": [
      "I culod'nt bvielee that I cloud atllcauy uranetdsnd what I was rneiadg : the ponamnehel power of the haumn mind\n"
     ]
    }
   ],
   "source": [
    "# 09. Typoglycemia\n",
    "\n",
    "import random\n",
    "\n",
    "def shuffle_word(word):\n",
    "    if len(word) <= 4:\n",
    "        return word\n",
    "    else:\n",
    "        first_letter = word[0]\n",
    "        last_letter = word[-1]\n",
    "        middle_letters = list(word[1:-1])\n",
    "        random.shuffle(middle_letters)\n",
    "        shuffled_word = ''.join([first_letter] + middle_letters + [last_letter])\n",
    "        return shuffled_word\n",
    "\n",
    "sentence = \"I couldn't believe that I could actually understand what I was reading : the phenomenal power of the human mind\"\n",
    "words = sentence.split()\n",
    "shuffled_words = [shuffle_word(word) for word in words]\n",
    "shuffled_sentence = ' '.join(shuffled_words)\n",
    "print(shuffled_sentence)\n"
   ]
  }
 ],
 "metadata": {
  "kernelspec": {
   "display_name": "Python 3",
   "language": "python",
   "name": "python3"
  },
  "language_info": {
   "codemirror_mode": {
    "name": "ipython",
    "version": 3
   },
   "file_extension": ".py",
   "mimetype": "text/x-python",
   "name": "python",
   "nbconvert_exporter": "python",
   "pygments_lexer": "ipython3",
   "version": "3.11.2"
  }
 },
 "nbformat": 4,
 "nbformat_minor": 5
}
