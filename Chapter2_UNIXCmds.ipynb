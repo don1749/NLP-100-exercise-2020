{
 "cells": [
  {
   "cell_type": "code",
   "execution_count": 3,
   "metadata": {},
   "outputs": [],
   "source": [
    "inp = open('popular-names.txt', 'r').read()"
   ]
  },
  {
   "cell_type": "code",
   "execution_count": 4,
   "metadata": {},
   "outputs": [
    {
     "name": "stdout",
     "output_type": "stream",
     "text": [
      "2780\n",
      "    2780   11120   55026 popular-names.txt\n"
     ]
    }
   ],
   "source": [
    "# 10. Line count\n",
    "\n",
    "lines = inp.split('\\n')\n",
    "lines.pop(-1) # pop empty line\n",
    "print(len(lines)) # 2780\n",
    "!wc popular-names.txt"
   ]
  },
  {
   "cell_type": "code",
   "execution_count": 9,
   "metadata": {},
   "outputs": [
    {
     "name": "stdout",
     "output_type": "stream",
     "text": [
      "Mary F 7065 1880\n",
      "Anna F 2604 1880\n",
      "Emma F 2003 1880\n",
      "Elizabeth F 1939 1880\n",
      "Minnie F 1746 1880\n"
     ]
    }
   ],
   "source": [
    "# 11. Replace tabs into spaces\n",
    "\n",
    "for i in range(len(lines)):\n",
    "    lines[i] = lines[i].replace(\"\\t\", \" \")\n",
    "\n",
    "print(\"\\n\".join(lines[:5]))\n",
    "\n",
    "!set -p 's/\\t/ /g' popular-names.txt"
   ]
  },
  {
   "cell_type": "code",
   "execution_count": 47,
   "metadata": {},
   "outputs": [],
   "source": [
    "# 12. col1.txt from the first column, col2.txt from the second column\n",
    "col1 = []\n",
    "col2 = []\n",
    "for line in lines:\n",
    "    content = line.split()\n",
    "    col1.append(content[0])\n",
    "    col2.append(content[1])\n",
    "\n",
    "with open(\"Output/col1.txt\", \"w\") as f:\n",
    "    f.write(\"\\n\".join(col1))\n",
    "with open(\"Output/col2.txt\", \"w\") as f:\n",
    "    f.write(\"\\n\".join(col2))"
   ]
  },
  {
   "cell_type": "code",
   "execution_count": null,
   "metadata": {},
   "outputs": [],
   "source": [
    "# 13. Merging col1.txt and col2.txt\n",
    "\n",
    "with open('Output/col1.txt', 'r') as col1, \\\n",
    "    open('Output/col2.txt', 'r') as col2, \\\n",
    "    open('Output/merged.txt', 'w') as merged:\n",
    "    merged.writelines(\"\\n\".join(line[0].strip(\"\\n\")+\"\\t\"+line[1].strip(\"\\n\") for line in zip(col1.readlines(), col2.readlines())))"
   ]
  },
  {
   "attachments": {},
   "cell_type": "markdown",
   "metadata": {
    "slideshow": {
     "slide_type": "slide"
    }
   },
   "source": [
    "## 14. First N lines\n",
    "```bash\n",
    "cut -c1 popular-names.txt | sort -u\n",
    "```"
   ]
  },
  {
   "cell_type": "code",
   "execution_count": 1,
   "metadata": {},
   "outputs": [
    {
     "name": "stdout",
     "output_type": "stream",
     "text": [
      "\u001b[31mChapter1_WarmUp.ipynb\u001b[m\u001b[m   \u001b[34mOutput\u001b[m\u001b[m                  \u001b[31mpopular-names.txt\u001b[m\u001b[m\n",
      "\u001b[31mChapter2_UNIXCmds.ipynb\u001b[m\u001b[m \u001b[31mREADME.md\u001b[m\u001b[m\n"
     ]
    }
   ],
   "source": [
    "import sys\n",
    "\n",
    "!ls\n"
   ]
  }
 ],
 "metadata": {
  "kernelspec": {
   "display_name": "Python 3",
   "language": "python",
   "name": "python3"
  },
  "language_info": {
   "codemirror_mode": {
    "name": "ipython",
    "version": 3
   },
   "file_extension": ".py",
   "mimetype": "text/x-python",
   "name": "python",
   "nbconvert_exporter": "python",
   "pygments_lexer": "ipython3",
   "version": "3.11.2"
  },
  "orig_nbformat": 4
 },
 "nbformat": 4,
 "nbformat_minor": 2
}
