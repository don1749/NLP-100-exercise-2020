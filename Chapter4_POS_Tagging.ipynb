{
 "cells": [
  {
   "cell_type": "code",
   "execution_count": 2,
   "metadata": {},
   "outputs": [
    {
     "name": "stdout",
     "output_type": "stream",
     "text": [
      "File Name                                             Modified             Size\n",
      "readme.alice.md                                2020-05-23 11:04:34          732\n",
      "11.txt                                         2020-05-23 11:16:32       163810\n",
      "alice.txt                                      2020-05-23 11:20:28       144446\n",
      "alice.txt.conll                                2020-05-23 11:10:26       704716\n",
      "alice.txt.json                                 2020-05-23 11:10:22     27920849\n",
      "build_alice.sh                                 2020-05-23 11:07:04          599\n",
      "Extracting all the files now...\n",
      "Done!\n"
     ]
    }
   ],
   "source": [
    "# importing required modules\n",
    "from zipfile import ZipFile\n",
    "  \n",
    "# specifying the zip file name\n",
    "file_name = \"alice.zip\"\n",
    "  \n",
    "# opening the zip file in READ mode\n",
    "with ZipFile(file_name, 'r') as zip:\n",
    "    # printing all the contents of the zip file\n",
    "    zip.printdir()\n",
    "  \n",
    "    # extracting all the files\n",
    "    print('Extracting all the files now...')\n",
    "    zip.extractall()\n",
    "    print('Done!')"
   ]
  },
  {
   "cell_type": "code",
   "execution_count": 3,
   "metadata": {},
   "outputs": [
    {
     "name": "stdout",
     "output_type": "stream",
     "text": [
      "[{'text': 'ALICE', 'lemma': 'ALICE', 'pos': 'NNP'}, {'text': \"'S\", 'lemma': \"'s\", 'pos': 'POS'}, {'text': 'ADVENTURES', 'lemma': 'ADVENTURES', 'pos': 'NNP'}]\n"
     ]
    }
   ],
   "source": [
    "# 30. Reading the result\n",
    "morphemes = []\n",
    "\n",
    "with open('alice.txt.conll') as f:\n",
    "    for line in f:\n",
    "        cols = line.split(\"\\t\")\n",
    "        if (len(cols)>=4):\n",
    "            morpheme = {\n",
    "                'text': cols[1],\n",
    "                'lemma': cols[2],\n",
    "                'pos': cols[3]\n",
    "            }\n",
    "            morphemes.append(morpheme)\n",
    "print(morphemes[:3])\n",
    "\n"
   ]
  },
  {
   "cell_type": "code",
   "execution_count": 4,
   "metadata": {},
   "outputs": [
    {
     "name": "stdout",
     "output_type": "stream",
     "text": [
      "['was', 'beginning', 'get', 'sitting', 'having', 'do', 'had', 'peeped', 'was', 'reading']\n"
     ]
    }
   ],
   "source": [
    "# 31. Verbs\n",
    "verbs = []\n",
    "\n",
    "for morpheme in morphemes:\n",
    "    if 'VB' in morpheme['pos']:\n",
    "        verbs.append(morpheme)\n",
    "\n",
    "verbs_surface_form = [verb['text'] for verb in verbs]\n",
    "print(verbs_surface_form[:10])"
   ]
  },
  {
   "cell_type": "code",
   "execution_count": 5,
   "metadata": {},
   "outputs": [
    {
     "name": "stdout",
     "output_type": "stream",
     "text": [
      "['be', 'begin', 'get', 'sit', 'have', 'do', 'have', 'peep', 'be', 'read']\n"
     ]
    }
   ],
   "source": [
    "# 32. Base forms of verbs\n",
    "verbs_lemma = [verb['lemma'] for verb in verbs]\n",
    "print(verbs_lemma[:10])\n"
   ]
  },
  {
   "cell_type": "code",
   "execution_count": 23,
   "metadata": {},
   "outputs": [
    {
     "name": "stdout",
     "output_type": "stream",
     "text": [
      "['plenty of time', 'saucer of milk', 'sort of way', 'flavour of cherry-tart', 'number of bathing']\n"
     ]
    }
   ],
   "source": [
    "# 33. A of B\n",
    "\n",
    "phrases = []\n",
    "\n",
    "for i in range(2, len(morphemes)):\n",
    "    if morphemes[i-2]['pos'] == morphemes[i]['pos'] == 'NN'\\\n",
    "        and morphemes[i-1]['text'] == 'of':\n",
    "        phrase = \" \".join(morpheme['text'] for morpheme in morphemes[i-2:i+1])\n",
    "        phrases.append(phrase)\n",
    "                       \n",
    "print(phrases[:5])"
   ]
  },
  {
   "cell_type": "code",
   "execution_count": 27,
   "metadata": {},
   "outputs": [
    {
     "name": "stdout",
     "output_type": "stream",
     "text": [
      "MILLENNIUM FULCRUM EDITION\n",
      "Ou est ma chatte\n"
     ]
    }
   ],
   "source": [
    "# 34. A B\n",
    "\n",
    "longest_length_noun_phrase = ''\n",
    "most_words_noun_phrase = []\n",
    "tmp_longest = longest_length_noun_phrase\n",
    "tmp_most = most_words_noun_phrase\n",
    "\n",
    "for morpheme in morphemes:\n",
    "    if 'NN' in morpheme['pos']:\n",
    "        tmp_longest =  morpheme['text'] if tmp_longest == '' else tmp_longest + ' ' + morpheme['text']\n",
    "        tmp_most.append(morpheme['text'])\n",
    "    else:\n",
    "        if len(tmp_longest) > len(longest_length_noun_phrase):\n",
    "            longest_length_noun_phrase = tmp_longest\n",
    "        if len(tmp_most) > len(most_words_noun_phrase):\n",
    "            most_words_noun_phrase = tmp_most\n",
    "        \n",
    "        tmp_longest = ''\n",
    "        tmp_most = []\n",
    "\n",
    "print(longest_length_noun_phrase)\n",
    "print(\" \".join(most_words_noun_phrase))"
   ]
  },
  {
   "cell_type": "code",
   "execution_count": 5,
   "metadata": {},
   "outputs": [
    {
     "name": "stdout",
     "output_type": "stream",
     "text": [
      "Counter({'the': 1639, 'and': 866, 'to': 725, 'a': 631, 'it': 595, 'she': 553, 'i': 544, 'of': 511, 'said': 462, 'you': 411, 'alice': 398, 'was': 368, 'in': 367, 'that': 315, 'as': 263, \"n't\": 217, 'at': 212, \"'s\": 201, 'on': 193, 'had': 186, 'all': 182, 'with': 181, 'but': 170, 'for': 153, 'they': 152, 'so': 151, 'be': 148, 'not': 146, 'very': 144, 'do': 142, 'what': 141, 'this': 134, 'little': 128, 'he': 125, 'is': 118, 'out': 113, 'one': 104, 'down': 102, 'there': 99, 'up': 98, 'would': 96, 'if': 96, 'then': 94, 'about': 94, 'no': 90, 'have': 88, 'them': 88, 'know': 87, 'could': 86, 'were': 86, 'like': 85, 'went': 83, 'again': 83, 'herself': 83, 'when': 79, 'or': 77, 'did': 77, 'queen': 75, 'thought': 74, 'off': 73, 'time': 68, 'how': 68, 'me': 68, 'into': 67, 'see': 67, 'who': 63, 'king': 63, 'well': 60, 'now': 60, '*': 60, \"'m\": 59, 'turtle': 59, 'began': 58, 'by': 57, \"'ll\": 57, 'an': 57, 'hatter': 56, 'mock': 56, 'quite': 55, 'gryphon': 55, 'are': 54, 'think': 53, 'way': 53, 'just': 52, 'much': 51, 'say': 51, 'some': 51, 'first': 51, 'here': 51, 'head': 50, 'go': 50, 'only': 50, 'which': 49, 'thing': 49, 'more': 49, 'voice': 48, 'rabbit': 47, 'her': 47, 'never': 47, 'get': 46, 'come': 46, 'oh': 45, 'looked': 45, 'got': 45, \"'ve\": 44, 'must': 44, 'mouse': 43, 'him': 43, 'after': 42, 'duchess': 42, 'such': 41, 'round': 41, 'over': 40, 'why': 40, 'came': 40, 'other': 40, 'tone': 40, 'dormouse': 40, 'great': 39, 'any': 39, 'two': 39, 'before': 38, \"'re\": 38, 'been': 38, 'back': 38, 'cat': 37, 'from': 36, 'can': 36, 'nothing': 34, 'once': 34, 'we': 34, 'march': 34, 'large': 33, 'will': 33, 'last': 33, 'found': 32, 'should': 32, 'tell': 32, 'long': 32, 'moment': 31, 'put': 31, 'right': 31, 'hare': 31, 'made': 30, 'white': 30, 'next': 30, 'things': 30, 'door': 30, 'heard': 30, 'looking': 30, 'eyes': 29, 'dear': 29, 'replied': 29, 'look': 28, 'might': 28, 'ca': 28, \"'d\": 28, 'caterpillar': 28, 'seemed': 27, 'going': 27, 'make': 27, 'poor': 27, 'without': 26, 'too': 26, 'upon': 26, 'three': 26, 'day': 25, 'shall': 25, 'rather': 25, 'soon': 25, 'away': 25, 'while': 25, 'does': 25, 'yet': 25, 'course': 25, 'took': 24, 'good': 24, 'than': 24, 'same': 24, 'sure': 24, 'wo': 24, 'felt': 23, 'added': 23, 'getting': 22, 'take': 22, 'another': 22, 'let': 22, 'words': 21, 'wish': 21, 'ever': 21, 'half': 21, 'find': 21, 'minute': 21, 'anything': 20, 'sort': 20, 'hand': 20, 'however': 20, 'cried': 20, 'feet': 19, 'tried': 19, 'even': 19, 'please': 19, 'curious': 19, 'being': 19, 'till': 19, 'old': 19, 'use': 18, 'wonder': 18, 'house': 18, 'end': 18, 'eat': 18, 'table': 18, 'enough': 18, 'something': 18, 'soup': 18, 'court': 18, 'spoke': 17, 'perhaps': 17, 'talking': 17, 'question': 17, 'side': 17, 'sat': 17, 'asked': 17, 'jury': 17, 'bill': 17, 'ran': 16, 'under': 16, 'bit': 16, 'turned': 16, 'high': 16, 'garden': 16, 'indeed': 16, 'hastily': 16, 'seen': 15, 'near': 15, 'idea': 15, 'saying': 15, 'knew': 15, 'because': 15, 'face': 15, 'gave': 15, 'speak': 15, 'am': 15, 'done': 15, 'called': 15, 'where': 15, 'mad': 15, 'beginning': 14, 'hear': 14, 'itself': 14, 'ought': 14, 'saw': 14, 'through': 14, 'air': 14, 'dinah': 14, 'remember': 14, 'low': 14, 'trying': 14, 'certainly': 14, 'left': 14, 'anxiously': 14, 'set': 14, 'everything': 14, 'change': 14, 'these': 14, 'suppose': 14, 'talk': 14, 'us': 14, 'better': 14, 'silence': 14, 'both': 14, 'may': 14, 'suddenly': 13, 'close': 13, 'still': 13, 'yes': 13, 'people': 13, 'cats': 13, 'behind': 13, 'begin': 13, 'really': 13, 'size': 13, 'game': 13, 'grow': 13, 'far': 13, 'kept': 13, 'used': 13, 'sea': 13, 'always': 13, 'dodo': 13, 'whole': 13, 'room': 13, 'gone': 13, 'beautiful': 13, 'baby': 13, 'cook': 13, 'tea': 13, 'dance': 13, 'chapter': 12, 'many': 12, 'among': 12, 'else': 12, 'afraid': 12, 'every': 12, 'finished': 12, 'best': 12, 'hardly': 12, 'deal': 12, 'give': 12, 'try': 12, 'hands': 12, 'turning': 12, 'arm': 12, 'pigeon': 12, 'majesty': 12, 'mind': 11, 'whether': 11, 'hurried': 11, 'though': 11, 'glad': 11, 'ask': 11, 'hurry': 11, 'read': 11, 'waited': 11, 'minutes': 11, 'tears': 11, 'makes': 11, 'growing': 11, 'life': 11, 'pool': 11, 'gloves': 11, 'thinking': 11, 'nearly': 11, 'keep': 11, 'footman': 11, 'sitting': 10, 'having': 10, 'own': 10, 'either': 10, 'lessons': 10, 'heads': 10, 'word': 10, 'name': 10, 'sight': 10, 'walked': 10, 'small': 10, 'opened': 10, 'those': 10, 'bottle': 10, 'children': 10, 'hold': 10, 'child': 10, 'foot': 10, 'yourself': 10, 'fan': 10, 'queer': 10, 'offended': 10, 'birds': 10, 'creatures': 10, 'explain': 10, 'rest': 10, 'trial': 10, 'mean': 10, 'mouth': 10, 'turn': 10, 'repeated': 10, 'remarked': 10, 'remark': 10, 'soldiers': 10, 'witness': 10, 'sister': 9, 'coming': 9, 'answer': 9, 'matter': 9, 'hall': 9, 'glass': 9, 'key': 9, 'rate': 9, 'few': 9, 'waiting': 9, 'leave': 9, 'against': 9, 'want': 9, 'help': 9, 'different': 9, 'mine': 9, 'tail': 9, 'conversation': 9, 'continued': 9, 'believe': 9, 'has': 9, 'call': 9, 'angrily': 9, 'shook': 9, 'least': 9, 'reason': 9, 'together': 9, 'shouted': 9, 'timidly': 9, 'serpent': 9, 'puzzled': 9, 'interrupted': 9, 'knave': 9, 'join': 9, 'feel': 8, 'making': 8, 'watch': 8, 'slowly': 8, 'happen': 8, 'noticed': 8, 'top': 8, 'opportunity': 8, 'distance': 8, 'seem': 8, 'dry': 8, 'fact': 8, 'followed': 8, 'lying': 8, 'work': 8, 'ready': 8, 'hard': 8, 'changed': 8, 'five': 8, 'live': 8, 'play': 8, 'william': 8, 'beg': 8, 'eagerly': 8, 'sit': 8, 'party': 8, 'meaning': 8, 'running': 8, 'everybody': 8, 'exactly': 8, 'story': 8, 'nobody': 8, 'window': 8, 'place': 8, 'appeared': 8, 'wood': 8, 'each': 8, 'mushroom': 8, 'most': 8, 'nose': 8, 'pig': 8, 'asleep': 8, 'hearts': 8, 'twinkle': 8, 'gardeners': 8, 'moral': 8, 'whiting': 8, 'slates': 8, 'adventures': 7, 'tired': 7, 'book': 7, 'world': 7, 'deep': 7, 'somebody': 7, 'fall': 7, 'listen': 7, 'fancy': 7, 'manage': 7, 'begun': 7, 'dream': 7, 'middle': 7, 'wondering': 7, 'golden': 7, 'open': 7, 'larger': 7, 'bright': 7, 'happened': 7, 'neck': 7, 'drink': 7, 'feeling': 7, 'generally': 7, 'eye': 7, 'surprised': 7, 'shoes': 7, 'myself': 7, 'kind': 7, 'nonsense': 7, 'sir': 7, 'hair': 7, 'goes': 7, 'repeat': 7, 'learn': 7, 'frightened': 7, 'chin': 7, 'history': 7, 'fetch': 7, 'lory': 7, 'important': 7, 'others': 7, 'your': 7, 'stood': 7, 'grown': 7, 'business': 7, 'trees': 7, 'puppy': 7, 'draw': 7, 'silent': 7, 'pepper': 7, 'cheshire': 7, 'pleased': 7, 'song': 7, 'hedgehog': 7, 'lobster': 7, 'lobsters': 7, 'soo': 7, 'oop': 7, 'tarts': 7, 'evidence': 7, 'stupid': 6, 'trouble': 6, 'late': 6, 'fell': 6, 'four': 6, 'nice': 6, 'written': 6, 'leaves': 6, 'jumped': 6, 'roof': 6, 'inches': 6, 'along': 6, 'marked': 6, 'forgotten': 6, 'almost': 6, 'ten': 6, 'croquet': 6, 'english': 6, 'sha': 6, 'stop': 6, 'himself': 6, 'times': 6, 'seven': 6, 'grin': 6, 'understand': 6, 'sentence': 6, 'pardon': 6, 'trembling': 6, 'subject': 6, 'politely': 6, 'melancholy': 6, 'liked': 6, 'chorus': 6, 'executed': 6, 'broken': 6, 'chimney': 6, 'full': 6, 'write': 6, 'loud': 6, 'sharp': 6, 'lizard': 6, 'arms': 6, 'father': 6, 'stand': 6, 'youth': 6, 'sleep': 6, 'sneezing': 6, 'between': 6, 'told': 6, 'ear': 6, 'wow': 6, 'dreadfully': 6, 'sing': 6, 'exclaimed': 6, 'bread-and-butter': 6, 'executioner': 6, 'e': 6, 'twice': 5, 'hot': 5, 'sleepy': 5, 'across': 5, 'curiosity': 5, 'passed': 5, 'home': 5, 'likely': 5, 'aloud': 5, 'walk': 5, 'new': 5, 'asking': 5, 'sometimes': 5, 'walking': 5, 'ears': 5, 'sadly': 5, 'shut': 5, 'simple': 5, 'cut': 5, 'finger': 5, 'nervous': 5, 'altogether': 5, 'remembered': 5, 'happens': 5, 'pair': 5, 'nine': 5, 'until': 5, 'kid': 5, 'dropped': 5, 'usual': 5, 'morning': 5, 'ah': 5, 'wrong': 5, 'sounded': 5, 'strange': 5, 'seems': 5, 'stay': 5, 'sudden': 5, 'case': 5, 'number': 5, 'swam': 5, 'nearer': 5, 'speaking': 5, 'shrill': 5, 'angry': 5, 'crowded': 5, 'means': 5, 'notice': 5, 'prizes': 5, 'pocket': 5, 'dare': 5, 'confusion': 5, 'reply': 5, 'finish': 5, 'impatiently': 5, 'sighed': 5, 'temper': 5, 'young': 5, 'moved': 5, 'swim': 5, 'doing': 5, 'direction': 5, 'interesting': 5, 'become': 5, 'taking': 5, 'shriek': 5, 'drew': 5, 'instantly': 5, 'surprise': 5, 'height': 5, 'quietly': 5, 'hookah': 5, 'man': 5, 'often': 5, 'eggs': 5, 'tree': 5, 'ground': 5, 'meant': 5, 'waving': 5, 'treacle': 5, 'piece': 5, 'faces': 5, 'procession': 5, 'rule': 5, 'pack': 5, 'knee': 5, 'whispered': 5, 'flamingo': 5, 'school': 5, 'evening': 5, 'unimportant': 5, 'rabbit-hole': 4, 'pictures': 4, 'worth': 4, 'natural': 4, 'sides': 4, 'fear': 4, 'managed': 4, 'true': 4, 'fallen': 4, 'earth': 4, 'several': 4, 'sound': 4, 'girl': 4, 'miss': 4, 'mice': 4, 'catch': 4, 'bats': 4, 'passage': 4, 'corner': 4, 'except': 4, 'tiny': 4, 'alas': 4, 'second': 4, 'led': 4, 'shoulders': 4, 'paper': 4, 'taught': 4, 'deeply': 4, 'ventured': 4, 'reach': 4, 'sharply': 4, 'severely': 4, 'box': 4, 'fond': 4, 'person': 4, 'care': 4, '_': 4, 'boots': 4, 'savage': 4, 'violently': 4, 'age': 4, 'mabel': 4, 'besides': 4, 'puzzling': 4, 'twelve': 4, 'capital': 4, 'alone': 4, 'shrinking': 4, 'escape': 4, 'water': 4, 'digging': 4, 'french': 4, 'paws': 4, 'says': 4, 'pale': 4, 'animals': 4, 'duck': 4, 'tale': 4, 'uncomfortable': 4, 'argument': 4, 'wanted': 4, 'frowning': 4, 'solemnly': 4, 'pointing': 4, 'confused': 4, 'thimble': 4, 'short': 4, 'bowed': 4, 'judge': 4, 'breath': 4, 'tongue': 4, 'particular': 4, 'since': 4, 'vanished': 4, 'mary': 4, 'ann': 4, 'run': 4, 'chance': 4, 'ordered': 4, 'answered': 4, 'outside': 4, 'yer': 4, 'honour': 4, 'sounds': 4, 'hearing': 4, 'fellow': 4, 'thank': 4, 'dead': 4, 'doubt': 4, 'lay': 4, 'crowd': 4, 'held': 4, 'guinea-pigs': 4, 'plan': 4, 'difficulty': 4, 'stick': 4, 'grass': 4, 'perfectly': 4, 'none': 4, 'questions': 4, 'stuff': 4, 'decidedly': 4, 'thoughtfully': 4, 'green': 4, 'screamed': 4, 'indignantly': 4, 'taken': 4, 'sky': 4, 'lives': 4, 'otherwise': 4, 'fish': 4, 'dish': 4, 'days': 4, 'kitchen': 4, 'jumping': 4, 'carried': 4, 'hours': 4, 'busily': 4, 'beat': 4, 'verse': 4, 'creature': 4, 'grunted': 4, 'less': 4, 'fast': 4, 'crumbs': 4, 'shoulder': 4, 'twinkling': 4, 'sigh': 4, 'bottom': 4, 'begins': 4, 'm': 4, 'consider': 4, 'arches': 4, 'players': 4, 'hers': 4, 'quadrille': 4, 'sobs': 4, 'porpoise': 4, 'mouths': 4, 'beau': 4, 'ootiful': 4, 'jury-box': 4, 'jurors': 4, 'writing': 4, 'verdict': 4, 'officers': 4, 'suppressed': 4, 'jurymen': 4, 'verses': 4, 'wonderland': 3, 'bank': 3, 'peeped': 3, 'reading': 3, 'considering': 3, 'nor': 3, 'dark': 3, 'filled': 3, \"'\": 3, 'stairs': 3, 'miles': 3, 'somewhere': 3, 'knowledge': 3, 'grand': 3, 'funny': 3, 'listening': 3, 'hope': 3, 'bat': 3, 'hurt': 3, 'lost': 3, 'whiskers': 3, 'longer': 3, 'hanging': 3, 'delight': 3, 'telescope': 3, 'out-of-the-way': 3, 'impossible': 3, 'hoping': 3, 'rules': 3, 'poison': 3, 'certain': 3, 'later': 3, 'finding': 3, 'further': 3, 'candle': 3, 'decided': 3, 'possibly': 3, 'legs': 3, 'bring': 3, 'cake': 3, 'smaller': 3, 'holding': 3, 'remained': 3, 'expecting': 3, 'dull': 3, 'opening': 3, 'dears': 3, 'directions': 3, 'love': 3, 'cry': 3, 'pattering': 3, 'muttering': 3, 'timid': 3, 'to-day': 3, 'yesterday': 3, 'night': 3, 'sorts': 3, 'doth': 3, 'crossed': 3, 'hoarse': 3, 'spread': 3, 'gently': 3, 'putting': 3, 'guess': 3, 'cause': 3, 'worse': 3, 'slipped': 3, 'general': 3, 'o': 3, 'notion': 3, 'show': 3, 'fire': 3, 'washing': 3, 'nurse': 3, 'dogs': 3, 'dog': 3, 'throw': 3, 'passion': 3, 'shore': 3, 'eaglet': 3, 'caucus-race': 3, 'fur': 3, 'sulky': 3, 'allow': 3, 'crown': 3, 'move': 3, 'pressed': 3, 'voices': 3, 'handed': 3, 'gravely': 3, 'speech': 3, 'cheered': 3, 'grave': 3, 'simply': 3, 'solemn': 3, 'noise': 3, 'choked': 3, 'whisper': 3, 'sad': 3, 'sighing': 3, 'fury': 3, 'met': 3, 'attending': 3, 'pleaded': 3, 'easily': 3, 'joined': 3, 'pity': 3, 'crab': 3, 'venture': 3, 'carefully': 3, 'remarking': 3, 'suit': 3, 'mentioned': 3, 'guessed': 3, 'hunting': 3, 'mistake': 3, 'plate': 3, 'knocking': 3, 'real': 3, 'floor': 3, 'effect': 3, 'elbow': 3, 'whatever': 3, 'stopped': 3, 'forgetting': 3, 'crash': 3, 'pat': 3, \"'em\": 3, 'slate': 3, 'below': 3, 'master': 3, 'kick': 3, 'above': 3, 'sense': 3, 'moving': 3, 'cakes': 3, 'paw': 3, 'hungry': 3, 'picked': 3, 'edge': 3, 'immediately': 3, 'folded': 3, 'present': 3, 'confusing': 3, 'brought': 3, 'remarks': 3, 'pray': 3, 'free': 3, 'shaking': 3, 'succeeded': 3, 'serpents': 3, 'girls': 3, 'tasted': 3, 'settled': 3, 'pieces': 3, 'nibbling': 3, 'bringing': 3, 'livery': 3, 'considered': 3, 'loudly': 3, 'letter': 3, 'order': 3, 'staring': 3, 'howling': 3, 'instance': 3, 'repeating': 3, 'nursing': 3, 'courage': 3, 'grinned': 3, 'growl': 3, 'faster': 3, 'advantage': 3, 'boy': 3, 'tossing': 3, 'caught': 3, 'proper': 3, 'sobbing': 3, 'instead': 3, 'civil': 3, 'fun': 3, 'breathe': 3, 'butter': 3, \"o'clock\": 3, 'cautiously': 3, 'music': 3, 'fly': 3, 'lady': 3, 'lived': 3, 'upset': 3, 'muchness': 3, 'croquet-ground': 3, 'rose-tree': 3, 'roses': 3, 'beheaded': 3, 'watching': 3, 'checked': 3, 'themselves': 3, 'eager': 3, 'guests': 3, 'cards': 3, 'need': 3, 'unfortunate': 3, 'hush': 3, 'execution': 3, 'hedgehogs': 3, 'tucked': 3, 'turns': 3, 'alive': 3, 'friend': 3, 'anxious': 3, \"'t\": 3, 'tortoise': 3, 'week': 3, 'advance': 3, 'figure': 3, 'toes': 3, 'mark': 3, 'snail': 3, 'tails': 3, 'obliged': 3, 'follows': 3, 'around': 3, 'owl': 3, 'panther': 3, 'trumpet': 3, 'spectacles': 3, 'teacup': 3, 'wrote': 3, 'list': 3, 'fit': 3, 'conversations': 2, 'pleasure': 2, 'picking': 2, 'remarkable': 2, 'afterwards': 2, 'occurred': 2, 'waistcoat-pocket': 2, 'started': 2, 'hedge': 2, 'straight': 2, 'dipped': 2, 'falling': 2, 'plenty': 2, 'cupboards': 2, 'jar': 2, 'tumbling': 2, 'thousand': 2, 'learnt': 2, 'showing': 2, 'latitude': 2, 'longitude': 2, 'presently': 2, 'tea-time': 2, 'earnestly': 2, 'thump': 2, 'wind': 2, 'row': 2, 'doors': 2, 'three-legged': 2, 'locks': 2, 'longed': 2, 'flowers': 2, 'cool': 2, 'fountains': 2, 'shutting': 2, 'label': 2, 'beautifully': 2, 'wise': 2, 'wild': 2, 'beasts': 2, 'unpleasant': 2, 'friends': 2, 'burn': 2, 'knife': 2, 'usually': 2, 'sooner': 2, 'taste': 2, 'mixed': 2, 'brightened': 2, 'lovely': 2, 'crying': 2, 'advice': 2, 'playing': 2, 'curiouser': 2, 'forgot': 2, 'sending': 2, 'presents': 2, 'struck': 2, 'ashamed': 2, 'trotting': 2, 'ringlets': 2, 'knows': 2, 'six': 2, 'paris': 2, 'rome': 2, 'lap': 2, 'neatly': 2, 'claws': 2, 'smiling': 2, 'jaws': 2, 'rapidly': 2, 'narrow': 2, 'declare': 2, 'bad': 2, 'salt': 2, 'railway': 2, 'conclusion': 2, 'wherever': 2, 'splashing': 2, 'swimming': 2, 'wink': 2, 'conqueror': 2, 'clear': 2, 'ago': 2, 'ma': 2, 'fright': 2, 'animal': 2, 'feelings': 2, 'quiet': 2, 'purring': 2, 'nicely': 2, 'catching': 2, 'brown': 2, 'dinner': 2, 'belongs': 2, 'useful': 2, 'sorrowful': 2, 'hate': 2, 'assembled': 2, 'wet': 2, 'older': 2, 'knowing': 2, 'authority': 2, 'ring': 2, 'edwin': 2, 'morcar': 2, 'earls': 2, 'mercia': 2, 'northumbria': 2, 'ugh': 2, 'proceed': 2, 'archbishop': 2, 'advisable': 2, 'frog': 2, 'hurriedly': 2, 'meet': 2, 'offer': 2, 'smile': 2, 'easy': 2, 'race': 2, 'hour': 2, 'panting': 2, 'won': 2, 'forehead': 2, 'position': 2, 'comfits': 2, 'luckily': 2, 'absurd': 2, 'caused': 2, 'law': 2, 'wasting': 2, 'humbly': 2, 'bend': 2, 'knot': 2, 'bird': 2, 'sensation': 2, 'throat': 2, 'lonely': 2, 'footsteps': 2, 'ferrets': 2, 'nowhere': 2, 'quick': 2, 'messages': 2, 'directly': 2, 'ordering': 2, 'drunk': 2, 'stoop': 2, 'curled': 2, 'unhappy': 2, 'fancied': 2, 'woman': 2, 'trembled': 2, 'proved': 2, 'snatch': 2, 'concluded': 2, 'apples': 2, 'goose': 2, 'bear': 2, 'feeble': 2, 'squeaking': 2, 'comes': 2, 'barrowful': 2, 'shower': 2, 'pebbles': 2, 'rattling': 2, 'hit': 2, 'delighted': 2, 'giving': 2, 'rush': 2, 'safe': 2, 'wandered': 2, 'excellent': 2, 'smallest': 2, 'bark': 2, 'stretching': 2, 'coaxing': 2, 'thistle': 2, 'stretched': 2, 'tiptoe': 2, 'smoking': 2, 'addressed': 2, 'encouraging': 2, 'contemptuously': 2, 'anger': 2, 'unfolded': 2, 'busy': 2, 'sell': 2, 'weak': 2, 'lasted': 2, 'clever': 2, 'changing': 2, 'wretched': 2, 'patiently': 2, 'chose': 2, 'yawned': 2, 'merely': 2, 'taller': 2, 'shorter': 2, 'difficult': 2, 'broke': 2, 'nibbled': 2, 'violent': 2, 'blow': 2, 'lefthand': 2, 'alarm': 2, 'follow': 2, 'distant': 2, 'wandering': 2, 'beating': 2, 'doubtfully': 2, 'changes': 2, 'telling': 2, 'matters': 2, 'entangled': 2, 'branches': 2, 'fish-footman': 2, 'invitation': 2, 'laughed': 2, 'secondly': 2, 'inside': 2, 'extraordinary': 2, 'within': 2, 'constant': 2, \"'till\": 2, 'maybe': 2, 'dreadful': 2, 'muttered': 2, 'drive': 2, 'leaning': 2, 'stirring': 2, 'cauldron': 2, 'pause': 2, 'sneeze': 2, 'introduce': 2, 'throwing': 2, 'plates': 2, 'dishes': 2, 'already': 2, 'takes': 2, 'twenty-four': 2, 'hint': 2, 'singing': 2, 'line': 2, 'sneezes': 2, 'sang': 2, 'thoroughly': 2, 'threw': 2, 'missed': 2, 'twist': 2, 'also': 2, 'extremely': 2, 'neither': 2, 'ugly': 2, 'pigs': 2, 'startled': 2, 'explanation': 2, 'denied': 2, 'invited': 2, 'became': 2, 'appear': 2, 'raving': 2, 'giddy': 2, 'shaped': 2, 'raised': 2, 'tea-party': 2, 'front': 2, 'using': 2, 'cushion': 2, 'resting': 2, 'wine': 2, 'laid': 2, 'wants': 2, 'personal': 2, 'rude': 2, 'wide': 2, 'riddles': 2, 'break': 2, 'month': 2, 'uneasily': 2, 'meekly': 2, 'cup': 2, 'tells': 2, 'year': 2, 'clock': 2, 'half-past': 2, 'spoon': 2, 'concert': 2, 'pinch': 2, 'wash': 2, 'yawning': 2, 'wake': 2, 'pinched': 2, 'sisters': 2, 'names': 2, 'ill': 2, 'living': 2, 'triumphantly': 2, 'treacle-well': 2, 'sh': 2, 'sulkily': 2, 'learning': 2, 'interrupting': 2, 'rubbing': 2, 'manner': 2, 'closed': 2, 'painting': 2, 'red': 2, 'flat': 2, 'carrying': 2, 'courtiers': 2, 'ornamented': 2, 'royal': 2, 'mostly': 2, 'crimson': 2, 'doubtful': 2, 'lie': 2, 'smiled': 2, 'fine': 2, 'scream': 2, 'places': 2, 'flamingoes': 2, 'body': 2, 'laughing': 2, 'unrolled': 2, 'quarrelling': 2, 'stamping': 2, 'shouting': 2, 'dispute': 2, 'removed': 2, 'fight': 2, 'collected': 2, 'unless': 2, 'entirely': 2, 'disappeared': 2, 'wildly': 2, 'forget': 2, 'tut': 2, 'keeping': 2, 'tis': 2, 'experiment': 2, 'bite': 2, 'mustard': 2, 'agree': 2, 'imagine': 2, 'choice': 2, 'custody': 2, 'executions': 2, 'sun': 2, 'watched': 2, 'heart': 2, 'sorrow': 2, 'heavy': 2, 'proud': 2, 'relief': 2, 'regular': 2, 'uglification': 2, 'mystery': 2, 'drawling': 2, 'recovered': 2, 'delightful': 2, 'turtles': 2, 'dancing': 2, 'treading': 2, 'kindly': 2, 'dinn': 2, 'thoughts': 2, 'part': 2, 'editions': 2, 'tones': 2, 'persisted': 2, 'pie': 2, 'cares': 2, 'pennyworth': 2, 'stole': 2, 'scroll': 2, 'parchment': 2, 'wig': 2, 'quickly': 2, 'blew': 2, 'blasts': 2, 'summer': 2, 'sent': 2, 'fashion': 2, 'singers': 2, 'deny': 2, 'miserable': 2, 'guinea-pig': 2, 'cross-examine': 2, 'undertone': 2, 'goldfish': 2, 'accident': 2, 'note-book': 2, 'mile': 2, 'prisoner': 2, 'directed': 2, 'signed': 2, 'proves': 2, 'returned': 2, 'atom': 2, 'wonderful': 2, 'teacups': 2, 'lewis': 1, 'carroll': 1, 'millennium': 1, 'fulcrum': 1, 'edition': 1, '3.0': 1, 'i.': 1, 'daisy-chain': 1, 'daisies': 1, 'pink': 1, 'wondered': 1, 'actually': 1, 'its': 1, 'flashed': 1, 'burning': 1, 'field': 1, 'fortunately': 1, 'pop': 1, 'tunnel': 1, 'stopping': 1, 'book-shelves': 1, 'maps': 1, 'hung': 1, 'pegs': 1, 'shelves': 1, 'labelled': 1, 'orange': 1, 'marmalade': 1, 'disappointment': 1, 'empty': 1, 'drop': 1, 'killing': 1, 'past': 1, 'brave': 1, 'centre': 1, 'schoolroom': 1, 'practice': 1, 'downward': 1, 'antipathies': 1, 'country': 1, \"ma'am\": 1, 'zealand': 1, 'australia': 1, 'curtsey': 1, 'curtseying': 1, 'ignorant': 1, 'to-night': 1, 'saucer': 1, 'milk': 1, 'dreamy': 1, 'dozing': 1, 'truth': 1, 'heap': 1, 'sticks': 1, 'overhead': 1, 'hurrying': 1, 'lit': 1, 'lamps': 1, 'locked': 1, 'solid': 1, 'belong': 1, 'curtain': 1, 'fifteen': 1, 'lock': 1, 'fitted': 1, 'rat-hole': 1, 'knelt': 1, 'loveliest': 1, 'wander': 1, 'beds': 1, 'doorway': 1, 'lately': 1, 'telescopes': 1, 'printed': 1, 'letters': 1, 'histories': 1, 'burnt': 1, 'eaten': 1, 'red-hot': 1, 'poker': 1, 'bleeds': 1, 'disagree': 1, 'flavour': 1, 'cherry-tart': 1, 'custard': 1, 'pine-apple': 1, 'roast': 1, 'turkey': 1, 'toffee': 1, 'buttered': 1, 'toast': 1, 'shrink': 1, 'flame': 1, 'blown': 1, 'plainly': 1, 'climb': 1, 'slippery': 1, 'advise': 1, 'seldom': 1, 'scolded': 1, 'cheated': 1, 'pretending': 1, 'pretend': 1, 'respectable': 1, 'currants': 1, 'creep': 1, 'ate': 1, 'eats': 1, 'common': 1, 'ii': 1, 'largest': 1, 'good-bye': 1, 'stockings': 1, 'able': 1, 'christmas': 1, 'planning': 1, 'carrier': 1, 'odd': 1, 'esq.': 1, 'hearthrug': 1, 'fender': 1, 'hopeless': 1, 'shedding': 1, 'gallons': 1, 'reaching': 1, 'dried': 1, 'returning': 1, 'splendidly': 1, 'dressed': 1, 'desperate': 1, 'skurried': 1, 'darkness': 1, 'fanning': 1, 'puzzle': 1, 'ada': 1, 'thirteen': 1, 'twenty': 1, 'multiplication': 1, 'signify': 1, 'geography': 1, 'london': 1, 'crocodile': 1, 'improve': 1, 'shining': 1, 'pour': 1, 'waters': 1, 'nile': 1, 'scale': 1, 'cheerfully': 1, 'welcome': 1, 'fishes': 1, 'poky': 1, 'toys': 1, 'burst': 1, 'measure': 1, 'avoid': 1, 'existence': 1, 'speed': 1, 'splash': 1, 'somehow': 1, 'seaside': 1, 'coast': 1, 'bathing': 1, 'machines': 1, 'sand': 1, 'wooden': 1, 'spades': 1, 'lodging': 1, 'houses': 1, 'station': 1, 'wept': 1, 'punished': 1, 'drowned': 1, 'walrus': 1, 'hippopotamus': 1, 'harm': 1, 'brother': 1, 'latin': 1, 'grammar': 1, 'inquisitively': 1, 'daresay': 1, 'ou': 1, 'est': 1, 'chatte': 1, 'lesson-book': 1, 'leap': 1, 'quiver': 1, 'passionate': 1, 'soothing': 1, 'lazily': 1, 'sits': 1, 'licking': 1, 'soft': 1, 'bristling': 1, 'family': 1, 'hated': 1, 'nasty': 1, 'vulgar': 1, 'bright-eyed': 1, 'terrier': 1, 'curly': 1, 'farmer': 1, 'hundred': 1, 'pounds': 1, 'kills': 1, 'rats': 1, 'commotion': 1, 'softly': 1, 'iii': 1, 'queer-looking': 1, 'draggled': 1, 'feathers': 1, 'clinging': 1, 'dripping': 1, 'cross': 1, 'consultation': 1, 'familiarly': 1, 'known': 1, 'positively': 1, 'refused': 1, 'fixed': 1, 'cold': 1, 'ahem': 1, 'driest': 1, 'favoured': 1, 'pope': 1, 'submitted': 1, 'leaders': 1, 'accustomed': 1, 'usurpation': 1, 'conquest': 1, 'shiver': 1, 'declared': 1, 'stigand': 1, 'patriotic': 1, 'canterbury': 1, 'crossly': 1, 'worm': 1, 'edgar': 1, 'atheling': 1, 'conduct': 1, 'moderate': 1, 'insolence': 1, 'normans': 1, 'rising': 1, 'meeting': 1, 'adjourn': 1, 'immediate': 1, 'adoption': 1, 'energetic': 1, 'remedies': 1, 'bent': 1, 'hide': 1, 'tittered': 1, 'audibly': 1, 'paused': 1, 'inclined': 1, 'winter': 1, 'race-course': 1, 'circle': 1, 'exact': 1, 'shape': 1, 'placed': 1, 'shakespeare': 1, 'calling': 1, 'despair': 1, 'pulled': 1, 'a-piece': 1, 'prize': 1, 'presented': 1, 'acceptance': 1, 'elegant': 1, 'laugh': 1, 'complained': 1, 'theirs': 1, 'ones': 1, 'patted': 1, 'begged': 1, 'promised': 1, 'c': 1, 'd': 1, 'prosecute': 1, 'denial': 1, 'cur': 1, 'cunning': 1, 'condemn': 1, 'death': 1, 'fifth': 1, 'undo': 1, 'insult': 1, 'growled': 1, 'quicker': 1, 'daughter': 1, 'lesson': 1, 'lose': 1, 'snappishly': 1, 'patience': 1, 'oyster': 1, 'addressing': 1, 'pet': 1, 'magpie': 1, 'wrapping': 1, 'night-air': 1, 'canary': 1, 'bed': 1, 'various': 1, 'pretexts': 1, 'low-spirited': 1, 'iv': 1, 'sends': 1, 'good-naturedly': 1, 'completely': 1, 'pointed': 1, 'housemaid': 1, 'finds': 1, 'neat': 1, 'brass': 1, 'w.': 1, 'engraved': 1, 'upstairs': 1, 'lest': 1, 'fancying': 1, 'tidy': 1, 'hoped': 1, 'pairs': 1, 'looking-glass': 1, 'nevertheless': 1, 'uncorked': 1, 'lips': 1, 'whenever': 1, 'expected': 1, 'pressing': 1, 'ceiling': 1, 'save': 1, 'kneel': 1, 'resource': 1, 'magic': 1, 'grew': 1, 'pleasanter': 1, 'rabbits': 1, 'fairy-tales': 1, 'comfort': 1, 'foolish': 1, 'lesson-books': 1, 'inwards': 1, 'attempt': 1, 'failure': 1, 'possible': 1, 'cucumber-frame': 1, 'pronounced': 1, 'arrum': 1, 'fills': 1, 'whispers': 1, 'coward': 1, 'shrieks': 1, 'cucumber-frames': 1, 'pulling': 1, 'rumbling': 1, 'cartwheels': 1, 'ladder': 1, 'lad': 1, 'tie': 1, 'rope': 1, 'loose': 1, 'nay': 1, 'shy': 1, 'fireplace': 1, 'scratching': 1, 'scrambling': 1, 'brandy': 1, 'choke': 1, 'ye': 1, 'flustered': 1, 'jack-in-the-box': 1, 'sky-rocket': 1, 'produced': 1, 'swallowed': 1, 'thick': 1, 'arranged': 1, 'peering': 1, 'enormous': 1, 'feebly': 1, 'touch': 1, 'whistle': 1, 'terribly': 1, 'spite': 1, 'whereupon': 1, 'yelp': 1, 'rushed': 1, 'worry': 1, 'dodged': 1, 'tumbled': 1, 'heels': 1, 'cart-horse': 1, 'trampled': 1, 'series': 1, 'charges': 1, 'forwards': 1, 'barking': 1, 'hoarsely': 1, 'faint': 1, 'leant': 1, 'buttercup': 1, 'fanned': 1, 'teaching': 1, 'tricks': 1, 'blades': 1, 'circumstances': 1, 'v.': 1, 'languid': 1, 'shyly': 1, 'sternly': 1, 'clearly': 1, 'sizes': 1, 'chrysalis': 1, 'butterfly': 1, 'irritated': 1, 'state': 1, 'promising': 1, 'swallowing': 1, 'wait': 1, 'puffed': 1, 'bee': 1, 'incessantly': 1, 'son': 1, 'feared': 1, 'injure': 1, 'brain': 1, 'uncommonly': 1, 'fat': 1, 'back-somersault': 1, 'sage': 1, 'grey': 1, 'limbs': 1, 'supple': 1, 'ointment': 1, 'shilling': 1, 'couple': 1, 'tougher': 1, 'suet': 1, 'bones': 1, 'beak': 1, 'argued': 1, 'wife': 1, 'muscular': 1, 'strength': 1, 'jaw': 1, 'steady': 1, 'balanced': 1, 'eel': 1, 'awfully': 1, 'airs': 1, 'altered': 1, 'contradicted': 1, 'losing': 1, 'content': 1, 'rearing': 1, 'upright': 1, 'piteous': 1, 'crawled': 1, 'right-hand': 1, 'underneath': 1, 'closely': 1, 'swallow': 1, 'morsel': 1, 'immense': 1, 'length': 1, 'rise': 1, 'stalk': 1, 'result': 1, 'curving': 1, 'graceful': 1, 'zigzag': 1, 'dive': 1, 'tops': 1, 'hiss': 1, 'flown': 1, 'wings': 1, 'subdued': 1, 'sob': 1, 'roots': 1, 'banks': 1, 'hedges': 1, 'pleasing': 1, 'hatching': 1, 'look-out': 1, 'weeks': 1, 'sorry': 1, 'annoyed': 1, 'highest': 1, 'raising': 1, 'needs': 1, 'wriggling': 1, 'invent': 1, 'deepest': 1, 'contempt': 1, 'denying': 1, 'egg': 1, 'truthful': 1, 'adding': 1, 'yours': 1, 'raw': 1, 'nest': 1, 'crouched': 1, 'untwist': 1, 'whoever': 1, 'frighten': 1, 'wits': 1, 'righthand': 1, 'vi': 1, 'judging': 1, 'rapped': 1, 'knuckles': 1, 'footmen': 1, 'powdered': 1, 'crept': 1, 'producing': 1, 'frog-footman': 1, 'curls': 1, 'stupidly': 1, 'knocked': 1, 'reasons': 1, 'kettle': 1, 'knock': 1, 'uncivil': 1, 'tomorrow': 1, 'skimming': 1, 'grazed': 1, 'louder': 1, 'argue': 1, 'crazy': 1, 'variations': 1, 'whistling': 1, 'desperately': 1, 'idiotic': 1, 'smoke': 1, 'stool': 1, 'sneezed': 1, 'occasionally': 1, 'alternately': 1, 'hearth': 1, 'grinning': 1, 'manners': 1, 'grins': 1, 'violence': 1, 'fix': 1, 'fire-irons': 1, 'saucepans': 1, 'blows': 1, 'agony': 1, 'terror': 1, 'precious': 1, 'unusually': 1, 'saucepan': 1, 'flew': 1, 'minded': 1, 'axis': 1, 'axes': 1, 'chop': 1, 'glanced': 1, 'bother': 1, 'abide': 1, 'figures': 1, 'lullaby': 1, 'shake': 1, 'roughly': 1, 'annoy': 1, 'teases': 1, 'howled': 1, 'enjoy': 1, 'pleases': 1, 'flinging': 1, 'frying-pan': 1, 'queer-shaped': 1, 'star-fish': 1, 'snorting': 1, 'steam-engine': 1, 'doubling': 1, 'straightening': 1, 'tight': 1, 'prevent': 1, 'undoing': 1, 'kill': 1, 'murder': 1, 'grunt': 1, 'expressing': 1, 'turn-up': 1, 'snout': 1, 'seriously': 1, 'sobbed': 1, 'carry': 1, 'relieved': 1, 'trot': 1, 'handsome': 1, 'seeing': 1, 'bough': 1, 'yards': 1, 'good-natured': 1, 'teeth': 1, 'treated': 1, 'respect': 1, 'puss': 1, 'wider': 1, 'depends': 1, 'visit': 1, 'grant': 1, 'growls': 1, 'wags': 1, 'wag': 1, 'therefore': 1, 'growling': 1, 'happening': 1, 'by-the-bye': 1, 'hatters': 1, 'branch': 1, 'fig': 1, 'appearing': 1, 'vanishing': 1, 'ending': 1, 'farther': 1, 'chimneys': 1, 'thatched': 1, 'towards': 1, 'vii': 1, 'elbows': 1, 'arm-chair': 1, 'cutting': 1, 'severity': 1, 'raven': 1, 'writing-desk': 1, 'ravens': 1, 'writing-desks': 1, 'fourth': 1, 'works': 1, 'grumbled': 1, 'bread-knife': 1, 'gloomily': 1, 'readily': 1, 'stays': 1, 'poured': 1, 'riddle': 1, 'slightest': 1, 'wearily': 1, 'waste': 1, 'answers': 1, 'accounts': 1, 'terms': 1, 'mournfully': 1, 'quarrelled': 1, 'given': 1, 'tea-tray': 1, 'bawled': 1, 'murdering': 1, 'mournful': 1, 'tea-things': 1, 'whiles': 1, 'vote': 1, 'alarmed': 1, 'proposal': 1, 'fellows': 1, 'elsie': 1, 'lacie': 1, 'tillie': 1, 'interest': 1, 'eating': 1, 'drinking': 1, 'ways': 1, 'opinion': 1, 'helped': 1, 'interrupt': 1, 'consented': 1, 'promise': 1, 'clean': 1, 'unwillingly': 1, 'milk-jug': 1, 'offend': 1, 'water-well': 1, 'eh': 1, 'choosing': 1, 'doze': 1, 'woke': 1, 'mouse-traps': 1, 'moon': 1, 'memory': 1, 'drawing': 1, 'rudeness': 1, 'disgust': 1, 'teapot': 1, 'stupidest': 1, 'leading': 1, 'today': 1, 'unlocking': 1, 'flower-beds': 1, 'viii': 1, 'entrance': 1, 'paint': 1, 'jogged': 1, 'blame': 1, 'deserved': 1, 'spoken': 1, 'tulip-roots': 1, 'onions': 1, 'flung': 1, 'brush': 1, 'unjust': 1, 'chanced': 1, 'afore': 1, 'clubs': 1, 'oblong': 1, 'corners': 1, 'diamonds': 1, 'merrily': 1, 'couples': 1, 'kings': 1, 'queens': 1, 'recognised': 1, 'noticing': 1, 'velvet': 1, 'processions': 1, 'opposite': 1, 'idiot': 1, 'rosetree': 1, 'pattern': 1, 'backs': 1, 'glaring': 1, 'beast': 1, 'bowing': 1, 'humble': 1, 'meanwhile': 1, 'examining': 1, 'remaining': 1, 'execute': 1, 'protection': 1, 'flower-pot': 1, 'marched': 1, 'evidently': 1, 'roared': 1, 'peeping': 1, 'boxed': 1, 'laughter': 1, 'thunder': 1, 'ridges': 1, 'furrows': 1, 'balls': 1, 'mallets': 1, 'double': 1, 'chief': 1, 'managing': 1, 'comfortably': 1, 'straightened': 1, 'expression': 1, 'bursting': 1, 'provoking': 1, 'act': 1, 'crawling': 1, 'ridge': 1, 'furrow': 1, 'send': 1, 'doubled-up': 1, 'parts': 1, 'played': 1, 'fighting': 1, 'furious': 1, 'uneasy': 1, 'beheading': 1, 'appearance': 1, 'nodded': 1, 'account': 1, 'someone': 1, 'fairly': 1, 'complaining': 1, 'quarrel': 1, 'oneself': 1, 'attends': 1, 'arch': 1, 'croqueted': 1, 'win': 1, 'finishing': 1, 'kiss': 1, 'likes': 1, 'impertinent': 1, 'passing': 1, 'settling': 1, 'difficulties': 1, 'screaming': 1, 'search': 1, 'engaged': 1, 'croqueting': 1, 'helpless': 1, 'appealed': 1, 'settle': 1, 'arguments': 1, 'prison': 1, 'arrow': 1, 'fading': 1, 'ix': 1, 'affectionately': 1, 'pleasant': 1, 'hopeful': 1, 'hot-tempered': 1, 'vinegar': 1, 'sour': 1, 'camomile': 1, 'bitter': 1, 'barley-sugar': 1, 'sweet-tempered': 1, 'stingy': 1, 'squeezed': 1, 'closer': 1, 'uncomfortably': 1, 'bore': 1, 'minding': 1, 'morals': 1, 'waist': 1, 'feather': 1, 'flock': 1, 'mineral': 1, 'mustard-mine': 1, 'attended': 1, 'vegetable': 1, 'cheap': 1, 'birthday': 1, 'dig': 1, 'worried': 1, 'died': 1, 'favourite': 1, 'linked': 1, 'tremble': 1, 'thunderstorm': 1, 'fair': 1, 'warning': 1, 'absence': 1, 'shade': 1, 'delay': 1, 'cost': 1, 'whom': 1, 'sentenced': 1, 'company': 1, 'pardoned': 1, 'picture': 1, 'lazy': 1, 'leaving': 1, 'rubbed': 1, 'chuckled': 1, 'executes': 1, 'ledge': 1, 'rock': 1, 'pitied': 1, 'hollow': 1, 'occasional': 1, 'exclamation': 1, 'hjckrrh': 1, 'calmly': 1, 'sink': 1, 'educations': 1, 'day-school': 1, 'extras': 1, 'learned': 1, 'ours': 1, 'extra': 1, 'afford': 1, 'inquired': 1, 'reeling': 1, 'writhing': 1, 'arithmetic': 1, 'ambition': 1, 'distraction': 1, 'derision': 1, 'lifted': 1, 'uglifying': 1, 'beautify': 1, 'prettier': 1, 'uglify': 1, 'simpleton': 1, 'encouraged': 1, 'counting': 1, 'subjects': 1, 'flappers': 1, 'ancient': 1, 'modern': 1, 'seaography': 1, 'drawling-master': 1, 'conger-eel': 1, 'fainting': 1, 'coils': 1, 'stiff': 1, 'classics': 1, 'grief': 1, 'hid': 1, 'lessen': 1, 'eleventh': 1, 'holiday': 1, 'twelfth': 1, 'games': 1, 'x': 1, 'flapper': 1, 'bone': 1, 'punching': 1, 'cheeks': 1, 'introduced': 1, 'form': 1, 'sea-shore': 1, 'lines': 1, 'seals': 1, 'salmon': 1, 'cleared': 1, 'jelly-fish': 1, 'partner': 1, 'partners': 1, 'retire': 1, 'bound': 1, 'somersault': 1, 'capering': 1, 'yelled': 1, 'land': 1, 'dropping': 1, 'pretty': 1, 'forepaws': 1, 'shingle': 1, 'askance': 1, 'thanked': 1, 'scaly': 1, 'england': 1, 'france': 1, 'beloved': 1, 'thrown': 1, 'shiny': 1, 'blacking': 1, 'soles': 1, 'eels': 1, 'shrimp': 1, 'anywhere': 1, 'journey': 1, 'purpose': 1, 'impatient': 1, 'explanations': 1, 'gained': 1, 'listeners': 1, 'sluggard': 1, 'baked': 1, 'sugar': 1, 'eyelids': 1, 'trims': 1, 'belt': 1, 'buttons': 1, 'sands': 1, 'gay': 1, 'lark': 1, 'contemptuous': 1, 'shark': 1, 'tide': 1, 'rises': 1, 'sharks': 1, 'tremulous': 1, 'uncommon': 1, 'explained': 1, 'disobey': 1, 'sharing': 1, 'pie-crust': 1, 'gravy': 1, 'meat': 1, 'share': 1, 'treat': 1, 'boon': 1, 'permitted': 1, 'received': 1, 'fork': 1, 'banquet': 1, 'hm': 1, 'accounting': 1, 'tastes': 1, 'rich': 1, 'tureen': 1, 'dainties': 1, 'beauti': 1, 'ful': 1, 'panted': 1, 'faintly': 1, 'breeze': 1, 'xi': 1, 'seated': 1, 'throne': 1, 'arrived': 1, 'standing': 1, 'chains': 1, 'soldier': 1, 'guard': 1, 'refreshments': 1, 'pass': 1, 'justice': 1, 'books': 1, 'wore': 1, 'frontispiece': 1, 'comfortable': 1, 'becoming': 1, 'rightly': 1, 'jury-men': 1, 'indignant': 1, 'spell': 1, 'neighbour': 1, 'muddle': 1, 'pencil': 1, 'squeaked': 1, 'juror': 1, 'herald': 1, 'accusation': 1, 'arm-in-arm': 1, 'fourteenth': 1, 'fifteenth': 1, 'sixteenth': 1, 'dates': 1, 'reduced': 1, 'shillings': 1, 'pence': 1, 'hat': 1, 'stolen': 1, 'memorandum': 1, 'fidgeted': 1, 'spot': 1, 'encourage': 1, 'shifting': 1, 'remain': 1, 'squeeze': 1, 'boldly': 1, 'reasonable': 1, 'pace': 1, 'ridiculous': 1, 'thin': 1, 't': 1, 'dunce': 1, 'twinkled': 1, 'denies': 1, 'speaker': 1, 'canvas': 1, 'bag': 1, 'tied': 1, 'strings': 1, 'newspapers': 1, 'trials': 1, 'attempts': 1, 'applause': 1, 'understood': 1, 'lower': 1, 'officer': 1, 'pepper-box': 1, 'folding': 1, 'collar': 1, 'shrieked': 1, 'behead': 1, 'suppress': 1, 'ache': 1, 'fumbled': 1, 'xii': 1, 'flurry': 1, 'tipped': 1, 'skirt': 1, 'upsetting': 1, 'sprawling': 1, 'reminding': 1, 'globe': 1, 'accidentally': 1, 'dismay': 1, 'vague': 1, 'die': 1, 'emphasis': 1, 'haste': 1, 'downwards': 1, 'unable': 1, 'signifies': 1, 'shock': 1, 'pencils': 1, 'diligently': 1, 'overcome': 1, 'gazing': 1, 'respectful': 1, 'cackled': 1, 'forty-two': 1, 'persons': 1, 'invented': 1, 'oldest': 1, 'handwriting': 1, 'queerest': 1, 'imitated': 1, 'prove': 1, 'sign': 1, 'mischief': 1, 'honest': 1, 'clapping': 1, 'guilt': 1, 'character': 1, 'push': 1, 'involved': 1, 'affair': 1, 'trusts': 1, 'obstacle': 1, 'ourselves': 1, 'secret': 1, 'sixpence': 1, 'attempted': 1, 'saves': 1, 'spreading': 1, 'cardboard': 1, 'clearer': 1, 'fits': 1, 'furiously': 1, 'inkstand': 1, 'ink': 1, 'trickling': 1, 'pun': 1, 'twentieth': 1, 'purple': 1, 'rose': 1, 'flying': 1, 'brushing': 1, 'fluttered': 1, 'kissed': 1, 'setting': 1, 'dreaming': 1, 'dreamed': 1, 'clasped': 1, 'toss': 1, 'listened': 1, 'rustled': 1, 'splashed': 1, 'neighbouring': 1, 'rattle': 1, 'shared': 1, 'never-ending': 1, 'meal': 1, 'pig-baby': 1, 'crashed': 1, 'slate-pencil': 1, 'choking': 1, 'believed': 1, 'reality': 1, 'rustling': 1, 'rippling': 1, 'reeds': 1, 'tinkling': 1, 'sheep-bells': 1, 'cries': 1, 'shepherd': 1, 'noises': 1, 'clamour': 1, 'farm-yard': 1, 'lowing': 1, 'cattle': 1, 'lastly': 1, 'pictured': 1, 'after-time': 1, 'riper': 1, 'years': 1, 'loving': 1, 'childhood': 1, 'gather': 1, 'their': 1, 'sorrows': 1, 'joys': 1, 'remembering': 1, 'child-life': 1, 'happy': 1})\n"
     ]
    }
   ],
   "source": [
    "# 35. Frequency of words\n",
    "\n",
    "from collections import Counter, OrderedDict\n",
    "\n",
    "word_counter = Counter(morpheme['text'].lower() for morpheme in morphemes if morpheme['pos'].isalpha())\n",
    "# sorted_words = sorted(word_counter, key=lambda x: x[1], reverse=True)\n",
    "print(word_counter)"
   ]
  },
  {
   "cell_type": "code",
   "execution_count": 11,
   "metadata": {},
   "outputs": [
    {
     "name": "stdout",
     "output_type": "stream",
     "text": [
      "\u001b[33mDEPRECATION: Configuring installation scheme with distutils config files is deprecated and will no longer work in the near future. If you are using a Homebrew or Linuxbrew Python, please see discussion at https://github.com/Homebrew/homebrew-core/issues/76621\u001b[0m\u001b[33m\n",
      "\u001b[0mRequirement already satisfied: matplotlib in /opt/homebrew/lib/python3.9/site-packages (3.5.2)\n",
      "Requirement already satisfied: packaging>=20.0 in /opt/homebrew/lib/python3.9/site-packages (from matplotlib) (21.2)\n",
      "Requirement already satisfied: pyparsing>=2.2.1 in /opt/homebrew/lib/python3.9/site-packages (from matplotlib) (2.4.7)\n",
      "Requirement already satisfied: kiwisolver>=1.0.1 in /opt/homebrew/lib/python3.9/site-packages (from matplotlib) (1.4.2)\n",
      "Requirement already satisfied: pillow>=6.2.0 in /opt/homebrew/lib/python3.9/site-packages (from matplotlib) (8.4.0)\n",
      "Requirement already satisfied: python-dateutil>=2.7 in /opt/homebrew/lib/python3.9/site-packages (from matplotlib) (2.8.2)\n",
      "Requirement already satisfied: cycler>=0.10 in /opt/homebrew/lib/python3.9/site-packages (from matplotlib) (0.11.0)\n",
      "Requirement already satisfied: numpy>=1.17 in /opt/homebrew/lib/python3.9/site-packages (from matplotlib) (1.22.4)\n",
      "Requirement already satisfied: fonttools>=4.22.0 in /opt/homebrew/lib/python3.9/site-packages (from matplotlib) (4.33.3)\n",
      "Requirement already satisfied: six>=1.5 in /opt/homebrew/lib/python3.9/site-packages (from python-dateutil>=2.7->matplotlib) (1.16.0)\n",
      "\u001b[33mDEPRECATION: Configuring installation scheme with distutils config files is deprecated and will no longer work in the near future. If you are using a Homebrew or Linuxbrew Python, please see discussion at https://github.com/Homebrew/homebrew-core/issues/76621\u001b[0m\u001b[33m\n",
      "\u001b[0m\n",
      "\u001b[1m[\u001b[0m\u001b[34;49mnotice\u001b[0m\u001b[1;39;49m]\u001b[0m\u001b[39;49m A new release of pip available: \u001b[0m\u001b[31;49m22.3.1\u001b[0m\u001b[39;49m -> \u001b[0m\u001b[32;49m23.1.2\u001b[0m\n",
      "\u001b[1m[\u001b[0m\u001b[34;49mnotice\u001b[0m\u001b[1;39;49m]\u001b[0m\u001b[39;49m To update, run: \u001b[0m\u001b[32;49mpython3.9 -m pip install --upgrade pip\u001b[0m\n"
     ]
    }
   ],
   "source": [
    "!pip install matplotlib\n"
   ]
  },
  {
   "cell_type": "code",
   "execution_count": 7,
   "metadata": {},
   "outputs": [
    {
     "name": "stdout",
     "output_type": "stream",
     "text": [
      "[('the', 1639), ('and', 866), ('to', 725), ('a', 631), ('it', 595), ('she', 553), ('i', 544), ('of', 511), ('said', 462), ('you', 411)]\n"
     ]
    },
    {
     "data": {
      "text/plain": [
       "Text(0.5, 1.0, '10 most frequent words')"
      ]
     },
     "execution_count": 7,
     "metadata": {},
     "output_type": "execute_result"
    },
    {
     "data": {
      "image/png": "[encoded data removed]",
      "text/plain": [
       "<Figure size 432x288 with 1 Axes>"
      ]
     },
     "metadata": {
      "needs_background": "light"
     },
     "output_type": "display_data"
    }
   ],
   "source": [
    "# 36. Top-ten frequent words\n",
    "\n",
    "import matplotlib.pyplot as plt\n",
    "\n",
    "top_ten_list = word_counter.most_common(10)\n",
    "print(top_ten_list)\n",
    "words = [item[0] for item in top_ten_list]\n",
    "counts = [item[1] for item in top_ten_list]\n",
    "\n",
    "plt.bar(range(10), counts)\n",
    "plt.xticks(range(10),words)\n",
    "plt.xlabel('word')\n",
    "plt.ylabel('count')\n",
    "plt.title('10 most frequent words')"
   ]
  },
  {
   "cell_type": "code",
   "execution_count": 32,
   "metadata": {},
   "outputs": [
    {
     "data": {
      "text/plain": [
       "Text(0.5, 1.0, '10 most frequent words co-occur with \"Alice\"')"
      ]
     },
     "execution_count": 32,
     "metadata": {},
     "output_type": "execute_result"
    },
    {
     "data": {
      "image/png": "[encoded data removed]",
      "text/plain": [
       "<Figure size 432x288 with 1 Axes>"
      ]
     },
     "metadata": {
      "needs_background": "light"
     },
     "output_type": "display_data"
    }
   ],
   "source": [
    "# 37. Top-ten words co-occurring with 'Alice'\n",
    "\n",
    "co_occur_list = Counter()\n",
    "window_size = 5\n",
    "\n",
    "for i, morpheme in enumerate(morphemes):\n",
    "    if morpheme['text'].lower() == 'alice':\n",
    "        for j in range(i-window_size, i+window_size+1):\n",
    "            if j in range(0, len(morphemes)) and j != i and morphemes[j]['pos'].isalpha():\n",
    "                co_occur_list.update([morphemes[j]['text'].lower()])\n",
    "\n",
    "top_ten_list = co_occur_list.most_common(10)\n",
    "words = [item[0] for item in top_ten_list]\n",
    "counts = [item[1] for item in top_ten_list]\n",
    "\n",
    "plt.bar(range(10), counts)\n",
    "plt.xticks(range(10),words)\n",
    "plt.xlabel('word')\n",
    "plt.ylabel('count')\n",
    "plt.title('10 most frequent words co-occur with \"Alice\"')"
   ]
  },
  {
   "cell_type": "code",
   "execution_count": 17,
   "metadata": {},
   "outputs": [
    {
     "data": {
      "text/plain": [
       "Text(0.5, 1.0, 'Word frequency histogram')"
      ]
     },
     "execution_count": 17,
     "metadata": {},
     "output_type": "execute_result"
    },
    {
     "data": {
      "image/png": "[encoded data removed]",
      "text/plain": [
       "<Figure size 432x288 with 1 Axes>"
      ]
     },
     "metadata": {
      "needs_background": "light"
     },
     "output_type": "display_data"
    }
   ],
   "source": [
    "# 38. Histogram \n",
    "\n",
    "words = set(morpheme['text'] for morpheme in morphemes if morpheme['pos'].isalpha())\n",
    "counts = [word_counter[word] for word in words]\n",
    "\n",
    "plt.hist(counts, bins=30, range=(0,30))\n",
    "plt.xlabel('words')\n",
    "plt.ylabel('count')\n",
    "\n",
    "# plt.ylim(max(word_counter.values()))\n",
    "plt.title('Word frequency histogram')\n"
   ]
  },
  {
   "cell_type": "code",
   "execution_count": 18,
   "metadata": {},
   "outputs": [
    {
     "data": {
      "text/plain": [
       "Text(0.5, 1.0, 'Word frequency histogram')"
      ]
     },
     "execution_count": 18,
     "metadata": {},
     "output_type": "execute_result"
    },
    {
     "data": {
      "image/png": "[encoded data removed]",
      "text/plain": [
       "<Figure size 432x288 with 1 Axes>"
      ]
     },
     "metadata": {
      "needs_background": "light"
     },
     "output_type": "display_data"
    }
   ],
   "source": [
    "# 39. Zipf's law \n",
    "\n",
    "words = set(morpheme['text'] for morpheme in morphemes if morpheme['pos'].isalpha())\n",
    "counts = [word_counter[word] for word in words]\n",
    "\n",
    "plt.hist(counts)\n",
    "plt.xlabel('words')\n",
    "plt.ylabel('count')\n",
    "plt.xscale('log')\n",
    "plt.yscale('log')\n",
    "# plt.ylim(max(word_counter.values()))\n",
    "plt.title('Word frequency histogram')"
   ]
  }
 ],
 "metadata": {
  "kernelspec": {
   "display_name": "Python 3",
   "language": "python",
   "name": "python3"
  },
  "language_info": {
   "codemirror_mode": {
    "name": "ipython",
    "version": 3
   },
   "file_extension": ".py",
   "mimetype": "text/x-python",
   "name": "python",
   "nbconvert_exporter": "python",
   "pygments_lexer": "ipython3",
   "version": "3.9.16"
  },
  "orig_nbformat": 4
 },
 "nbformat": 4,
 "nbformat_minor": 2
}
